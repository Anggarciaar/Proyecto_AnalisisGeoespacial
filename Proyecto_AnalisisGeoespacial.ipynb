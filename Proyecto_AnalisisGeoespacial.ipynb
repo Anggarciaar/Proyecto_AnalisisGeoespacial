{
  "nbformat": 4,
  "nbformat_minor": 0,
  "metadata": {
    "colab": {
      "provenance": [],
      "collapsed_sections": [
        "U70pDxyGzfMd",
        "W9a8wfTcz5KT",
        "rUNXGKtj0MzC",
        "x2BRswl30awe"
      ],
      "mount_file_id": "1IQ9yKbeNRdFMCRF1LxgxC5_HFH1d187p",
      "authorship_tag": "ABX9TyPLew5TfPjpEOqtrpGlQVUQ",
      "include_colab_link": true
    },
    "kernelspec": {
      "name": "python3",
      "display_name": "Python 3"
    },
    "language_info": {
      "name": "python"
    }
  },
  "cells": [
    {
      "cell_type": "markdown",
      "metadata": {
        "id": "view-in-github",
        "colab_type": "text"
      },
      "source": [
        "<a href=\"https://colab.research.google.com/github/Anggarciaar/Proyecto_AnalisisGeoespacial/blob/main/Proyecto_AnalisisGeoespacial.ipynb\" target=\"_parent\"><img src=\"https://colab.research.google.com/assets/colab-badge.svg\" alt=\"Open In Colab\"/></a>"
      ]
    },
    {
      "cell_type": "code",
      "execution_count": null,
      "metadata": {
        "colab": {
          "base_uri": "https://localhost:8080/"
        },
        "id": "AlrbmvgMU_ez",
        "outputId": "2a7951f0-30c1-4401-8db4-25a55dede62d"
      },
      "outputs": [
        {
          "output_type": "stream",
          "name": "stdout",
          "text": [
            "Mounted at /content/drive\n"
          ]
        }
      ],
      "source": [
        "from google.colab import drive\n",
        "drive.mount(\"/content/drive\", force_remount=True)"
      ]
    },
    {
      "cell_type": "code",
      "source": [
        "import os\n",
        "base_dir=\"/content/drive/MyDrive/DATA_ProyectoAG\"\n",
        "print(base_dir)"
      ],
      "metadata": {
        "colab": {
          "base_uri": "https://localhost:8080/"
        },
        "id": "uhCRBZfZiFFn",
        "outputId": "72f7457f-296d-4315-af68-35b7ec326a16"
      },
      "execution_count": null,
      "outputs": [
        {
          "output_type": "stream",
          "name": "stdout",
          "text": [
            "/content/drive/MyDrive/DATA_ProyectoAG\n"
          ]
        }
      ]
    },
    {
      "cell_type": "markdown",
      "source": [
        "## ***CARGA DE DATOS***\n",
        "\n",
        "# **1.Prueba con datos de Emisiones por departamento.**"
      ],
      "metadata": {
        "id": "U70pDxyGzfMd"
      }
    },
    {
      "cell_type": "code",
      "source": [
        "!pip install pandas\n"
      ],
      "metadata": {
        "id": "XQB37ayNkRx3",
        "colab": {
          "base_uri": "https://localhost:8080/"
        },
        "outputId": "01adb0be-29a3-40ff-a2db-55b6d9cc8ee5"
      },
      "execution_count": null,
      "outputs": [
        {
          "output_type": "stream",
          "name": "stdout",
          "text": [
            "Looking in indexes: https://pypi.org/simple, https://us-python.pkg.dev/colab-wheels/public/simple/\n",
            "Requirement already satisfied: pandas in /usr/local/lib/python3.10/dist-packages (1.5.3)\n",
            "Requirement already satisfied: python-dateutil>=2.8.1 in /usr/local/lib/python3.10/dist-packages (from pandas) (2.8.2)\n",
            "Requirement already satisfied: pytz>=2020.1 in /usr/local/lib/python3.10/dist-packages (from pandas) (2022.7.1)\n",
            "Requirement already satisfied: numpy>=1.21.0 in /usr/local/lib/python3.10/dist-packages (from pandas) (1.22.4)\n",
            "Requirement already satisfied: six>=1.5 in /usr/local/lib/python3.10/dist-packages (from python-dateutil>=2.8.1->pandas) (1.16.0)\n"
          ]
        }
      ]
    },
    {
      "cell_type": "code",
      "source": [
        "!pip install geopandas"
      ],
      "metadata": {
        "id": "UboiuxX7RzEz",
        "colab": {
          "base_uri": "https://localhost:8080/"
        },
        "outputId": "8d86b324-71ee-4d71-a4fd-63992ceab2d3"
      },
      "execution_count": null,
      "outputs": [
        {
          "output_type": "stream",
          "name": "stdout",
          "text": [
            "Looking in indexes: https://pypi.org/simple, https://us-python.pkg.dev/colab-wheels/public/simple/\n",
            "Requirement already satisfied: geopandas in /usr/local/lib/python3.10/dist-packages (0.13.0)\n",
            "Requirement already satisfied: fiona>=1.8.19 in /usr/local/lib/python3.10/dist-packages (from geopandas) (1.9.4.post1)\n",
            "Requirement already satisfied: packaging in /usr/local/lib/python3.10/dist-packages (from geopandas) (23.1)\n",
            "Requirement already satisfied: pandas>=1.1.0 in /usr/local/lib/python3.10/dist-packages (from geopandas) (1.5.3)\n",
            "Requirement already satisfied: pyproj>=3.0.1 in /usr/local/lib/python3.10/dist-packages (from geopandas) (3.5.0)\n",
            "Requirement already satisfied: shapely>=1.7.1 in /usr/local/lib/python3.10/dist-packages (from geopandas) (2.0.1)\n",
            "Requirement already satisfied: attrs>=19.2.0 in /usr/local/lib/python3.10/dist-packages (from fiona>=1.8.19->geopandas) (23.1.0)\n",
            "Requirement already satisfied: certifi in /usr/local/lib/python3.10/dist-packages (from fiona>=1.8.19->geopandas) (2022.12.7)\n",
            "Requirement already satisfied: click~=8.0 in /usr/local/lib/python3.10/dist-packages (from fiona>=1.8.19->geopandas) (8.1.3)\n",
            "Requirement already satisfied: click-plugins>=1.0 in /usr/local/lib/python3.10/dist-packages (from fiona>=1.8.19->geopandas) (1.1.1)\n",
            "Requirement already satisfied: cligj>=0.5 in /usr/local/lib/python3.10/dist-packages (from fiona>=1.8.19->geopandas) (0.7.2)\n",
            "Requirement already satisfied: six in /usr/local/lib/python3.10/dist-packages (from fiona>=1.8.19->geopandas) (1.16.0)\n",
            "Requirement already satisfied: python-dateutil>=2.8.1 in /usr/local/lib/python3.10/dist-packages (from pandas>=1.1.0->geopandas) (2.8.2)\n",
            "Requirement already satisfied: pytz>=2020.1 in /usr/local/lib/python3.10/dist-packages (from pandas>=1.1.0->geopandas) (2022.7.1)\n",
            "Requirement already satisfied: numpy>=1.21.0 in /usr/local/lib/python3.10/dist-packages (from pandas>=1.1.0->geopandas) (1.22.4)\n"
          ]
        }
      ]
    },
    {
      "cell_type": "code",
      "source": [
        "import geopandas as gpd\n",
        "import pandas as pd"
      ],
      "metadata": {
        "id": "Bu2eKcRZkgAf"
      },
      "execution_count": null,
      "outputs": []
    },
    {
      "cell_type": "code",
      "source": [
        "import pandas as pd\n",
        "import numpy as np"
      ],
      "metadata": {
        "id": "b1Mdcrqekh-e"
      },
      "execution_count": null,
      "outputs": []
    },
    {
      "cell_type": "code",
      "source": [
        "!pip install geopandas"
      ],
      "metadata": {
        "id": "0yNbyXNNk4Kf",
        "colab": {
          "base_uri": "https://localhost:8080/"
        },
        "outputId": "eb52aa0d-87ea-4641-c31d-013880cf7037"
      },
      "execution_count": null,
      "outputs": [
        {
          "output_type": "stream",
          "name": "stdout",
          "text": [
            "Looking in indexes: https://pypi.org/simple, https://us-python.pkg.dev/colab-wheels/public/simple/\n",
            "Requirement already satisfied: geopandas in /usr/local/lib/python3.10/dist-packages (0.13.0)\n",
            "Requirement already satisfied: fiona>=1.8.19 in /usr/local/lib/python3.10/dist-packages (from geopandas) (1.9.4.post1)\n",
            "Requirement already satisfied: packaging in /usr/local/lib/python3.10/dist-packages (from geopandas) (23.1)\n",
            "Requirement already satisfied: pandas>=1.1.0 in /usr/local/lib/python3.10/dist-packages (from geopandas) (1.5.3)\n",
            "Requirement already satisfied: pyproj>=3.0.1 in /usr/local/lib/python3.10/dist-packages (from geopandas) (3.5.0)\n",
            "Requirement already satisfied: shapely>=1.7.1 in /usr/local/lib/python3.10/dist-packages (from geopandas) (2.0.1)\n",
            "Requirement already satisfied: attrs>=19.2.0 in /usr/local/lib/python3.10/dist-packages (from fiona>=1.8.19->geopandas) (23.1.0)\n",
            "Requirement already satisfied: certifi in /usr/local/lib/python3.10/dist-packages (from fiona>=1.8.19->geopandas) (2022.12.7)\n",
            "Requirement already satisfied: click~=8.0 in /usr/local/lib/python3.10/dist-packages (from fiona>=1.8.19->geopandas) (8.1.3)\n",
            "Requirement already satisfied: click-plugins>=1.0 in /usr/local/lib/python3.10/dist-packages (from fiona>=1.8.19->geopandas) (1.1.1)\n",
            "Requirement already satisfied: cligj>=0.5 in /usr/local/lib/python3.10/dist-packages (from fiona>=1.8.19->geopandas) (0.7.2)\n",
            "Requirement already satisfied: six in /usr/local/lib/python3.10/dist-packages (from fiona>=1.8.19->geopandas) (1.16.0)\n",
            "Requirement already satisfied: python-dateutil>=2.8.1 in /usr/local/lib/python3.10/dist-packages (from pandas>=1.1.0->geopandas) (2.8.2)\n",
            "Requirement already satisfied: pytz>=2020.1 in /usr/local/lib/python3.10/dist-packages (from pandas>=1.1.0->geopandas) (2022.7.1)\n",
            "Requirement already satisfied: numpy>=1.21.0 in /usr/local/lib/python3.10/dist-packages (from pandas>=1.1.0->geopandas) (1.22.4)\n"
          ]
        }
      ]
    },
    {
      "cell_type": "code",
      "source": [
        "import geopandas as gpd"
      ],
      "metadata": {
        "id": "rcNifLqjlP_w"
      },
      "execution_count": null,
      "outputs": []
    },
    {
      "cell_type": "code",
      "source": [
        "Departamentos = gpd.read_file(\"/content/drive/MyDrive/DATA_ProyectoAG/Emisiones_Departamento/EA_TCNCC_EN_100K_2016.shp\")"
      ],
      "metadata": {
        "id": "CI54MSpNlFJw"
      },
      "execution_count": null,
      "outputs": []
    },
    {
      "cell_type": "code",
      "source": [
        "Departamentos.info()\n"
      ],
      "metadata": {
        "id": "JukbEKkFlafG",
        "colab": {
          "base_uri": "https://localhost:8080/"
        },
        "outputId": "e77486cd-66f0-483d-e768-d1270033f5d1"
      },
      "execution_count": null,
      "outputs": [
        {
          "output_type": "stream",
          "name": "stdout",
          "text": [
            "<class 'geopandas.geodataframe.GeoDataFrame'>\n",
            "RangeIndex: 33 entries, 0 to 32\n",
            "Data columns (total 20 columns):\n",
            " #   Column      Non-Null Count  Dtype   \n",
            "---  ------      --------------  -----   \n",
            " 0   cod_depto   33 non-null     object  \n",
            " 1   departamen  33 non-null     object  \n",
            " 2   ems_nts_GE  33 non-null     float64 \n",
            " 3   IPPC_energ  33 non-null     float64 \n",
            " 4   IPPC_IPPU   33 non-null     float64 \n",
            " 5   IPPC_AFOLU  33 non-null     float64 \n",
            " 6   IPPC_resid  33 non-null     float64 \n",
            " 7   sctr_fores  33 non-null     float64 \n",
            " 8   sctr_indus  33 non-null     float64 \n",
            " 9   sctr_agrop  33 non-null     float64 \n",
            " 10  sctr_trans  33 non-null     float64 \n",
            " 11  sctr_minas  33 non-null     float64 \n",
            " 12  sctr_sanea  33 non-null     float64 \n",
            " 13  sctr_resid  33 non-null     float64 \n",
            " 14  sctr_comer  33 non-null     float64 \n",
            " 15  area_ha     33 non-null     float64 \n",
            " 16  SHAPE_Leng  33 non-null     float64 \n",
            " 17  SHAPE_Area  33 non-null     float64 \n",
            " 18  RULEID      33 non-null     int64   \n",
            " 19  geometry    33 non-null     geometry\n",
            "dtypes: float64(16), geometry(1), int64(1), object(2)\n",
            "memory usage: 5.3+ KB\n"
          ]
        }
      ]
    },
    {
      "cell_type": "code",
      "source": [
        "Departamentos.head(32)"
      ],
      "metadata": {
        "id": "KGSWV2pIlnqu",
        "colab": {
          "base_uri": "https://localhost:8080/"
        },
        "outputId": "f2454efd-d0ef-4fe2-995b-b0dbdd5a35d4"
      },
      "execution_count": null,
      "outputs": [
        {
          "output_type": "execute_result",
          "data": {
            "text/plain": [
              "   cod_depto                                 departamen  ems_nts_GE  \\\n",
              "0         91                                   AMAZONAS    0.513058   \n",
              "1         05                                  ANTIOQUIA   12.946967   \n",
              "2         81                                     ARAUCA    3.462820   \n",
              "3         08                                  ATLÁNTICO    7.341928   \n",
              "4         13                                    BOLÍVAR    7.311540   \n",
              "5         15                                     BOYACÁ    9.998332   \n",
              "6         17                                     CALDAS   -0.533074   \n",
              "7         18                                    CAQUETÁ   18.605941   \n",
              "8         85                                   CASANARE    9.443649   \n",
              "9         19                                      CAUCA    0.926403   \n",
              "10        20                                      CESAR    4.516532   \n",
              "11        27                                      CHOCÓ    2.482121   \n",
              "12        23                                    CÓRDOBA    5.788089   \n",
              "13        25                               CUNDINAMARCA   11.170681   \n",
              "14        94                                    GUAINÍA    1.082786   \n",
              "15        95                                   GUAVIARE   10.219472   \n",
              "16        41                                      HUILA   -0.665385   \n",
              "17        44                                 LA GUAJIRA    5.156127   \n",
              "18        47                                  MAGDALENA    3.374750   \n",
              "19        50                                       META   17.306738   \n",
              "20        52                                     NARIÑO    6.079243   \n",
              "21        54                         NORTE DE SANTANDER    4.704809   \n",
              "22        86                                   PUTUMAYO    6.345306   \n",
              "23        63                                    QUINDÍO   -0.166552   \n",
              "24        66                                  RISARALDA   -0.798737   \n",
              "25        88  ARCHIPIÉLAGO DE SAN ANDRÉS. PROVIDENCIA Y    0.303271   \n",
              "26        68                                  SANTANDER   10.570665   \n",
              "27        70                                      SUCRE    2.774736   \n",
              "28        73                                     TOLIMA    1.515687   \n",
              "29        76                            VALLE DEL CAUCA   12.099754   \n",
              "30        97                                     VAUPÉS    1.513483   \n",
              "31        99                                    VICHADA   -0.779771   \n",
              "\n",
              "     IPPC_energ    IPPC_IPPU    IPPC_AFOLU   IPPC_resid    sctr_fores  \\\n",
              "0     83.027695     0.786040    422.302502     6.942034    404.831433   \n",
              "1   8793.464113  1350.703025   1236.964593  1565.835611   1444.536348   \n",
              "2    244.463869     4.979072   3156.942814    56.434010   1694.365789   \n",
              "3   5506.572866   674.963450    497.446684   662.945224    157.551756   \n",
              "4   2877.350050  1130.339006   2824.149233   479.701379   1436.953784   \n",
              "5   5536.980714  1468.516781   2756.365356   236.469266   1200.349930   \n",
              "6    956.273150    39.084520  -1830.123625   301.691872    117.717776   \n",
              "7    279.808564     5.664958  18242.003860    78.463313  16305.834248   \n",
              "8   5496.804939     7.691213   3822.836208   116.316823    503.974694   \n",
              "9   1344.910817    26.237913   -749.209666   304.463452   1544.010173   \n",
              "10  1747.591576    15.316213   2490.895921   262.728626     74.338520   \n",
              "11   378.013751     5.589892   2038.309367    60.207825    560.474711   \n",
              "12   967.382232   845.023165   3711.264857   264.419063    540.230472   \n",
              "13  5765.962908   437.874998   4162.983178   803.860108   1509.299333   \n",
              "14    26.008515     0.565156   1044.232026    11.980045   1029.329360   \n",
              "15    54.417542     0.975418  10150.537153    13.542196   9775.979374   \n",
              "16  1263.056018    71.301668  -2238.028005   238.285750   1452.224947   \n",
              "17  3686.306356     9.864021   1307.186275   152.770676    827.235420   \n",
              "18   577.759650    18.271014   2457.090709   321.628390   -227.280840   \n",
              "19  2776.598977    19.574484  14176.832972   333.731254  10642.367146   \n",
              "20  1191.154396    26.876754   4609.622427   251.589807   2186.613585   \n",
              "21  1786.858911   153.541700   2408.390548   356.017897   1419.400821   \n",
              "22   370.464838     4.441439   5900.513856    69.886002   4788.209028   \n",
              "23   424.532973    12.850657   -789.533108   185.597792    -39.922751   \n",
              "24   739.575802    23.297910  -1888.374164   326.763915     65.622148   \n",
              "25   239.556655     2.072026     35.463062    26.179477     33.907860   \n",
              "26  5295.670281   257.282598   4260.243069   757.469010   3069.038235   \n",
              "27   658.337369   287.029809   1673.622197   155.746433    347.860076   \n",
              "28  1978.957423  1047.116820  -1912.213229   401.825624   1370.515083   \n",
              "29  8079.445906   623.661704    800.338069  2596.307984   -121.842296   \n",
              "30    12.673521     0.571200   1497.940317     2.298109   1491.370548   \n",
              "31    39.654853     0.674991   -828.199350     8.098716  -1348.198127   \n",
              "\n",
              "     sctr_indus   sctr_agrop   sctr_trans  sctr_minas   sctr_sanea  \\\n",
              "0      0.158128    19.845740    25.099117         0.0     6.942034   \n",
              "1   5247.494024    18.338103  3880.540778         0.0  1031.445886   \n",
              "2      0.925160  1500.916424    39.772105         0.0    56.406601   \n",
              "3   1629.713659   362.912386  1149.086209         0.0   486.964824   \n",
              "4   1527.318930  1445.815313  1117.092574         0.0   410.296608   \n",
              "5   3096.423317  1677.745295   836.305070         0.0   211.914586   \n",
              "6    349.585154 -1900.852581   498.331265         0.0   220.905235   \n",
              "7      6.431997  1955.139095   195.049999         0.0    77.204294   \n",
              "8     15.188720  3373.298929   445.638812         0.0   108.783672   \n",
              "9    832.741703 -2250.432836   341.502439         0.0   183.639232   \n",
              "10    79.200095  2472.586271   700.991610         0.0   248.176079   \n",
              "11     2.775234  1495.532491   279.164101         0.0    60.207825   \n",
              "12   954.272608  3248.191738   560.284175         0.0   252.459106   \n",
              "13  2824.149040  2846.043917  2199.205958         0.0   350.843543   \n",
              "14     0.098847    15.372111     6.297375         0.0    11.980045   \n",
              "15     0.295746   376.116009    48.992163         0.0    13.542196   \n",
              "16   170.348718 -3621.892479   561.425222         0.0   163.005626   \n",
              "17     3.011542   494.724614   261.509882         0.0   152.764565   \n",
              "18    78.898121  2744.888359   353.674133         0.0   262.706748   \n",
              "19   148.306366  3637.024660   838.778448         0.0   242.444808   \n",
              "20    24.768025  2488.776171   844.678017         0.0   239.835964   \n",
              "21   547.886717  1038.863884   396.911117         0.0   351.332899   \n",
              "22     1.692997  1118.420057   122.383011         0.0    69.584484   \n",
              "23    38.457530  -715.649456   304.271322         0.0   159.991654   \n",
              "24   128.359761 -1916.245744   503.452970         0.0   269.031925   \n",
              "25     0.395005     2.128661    78.423654         0.0    26.158322   \n",
              "26   618.711540  1310.671320  1318.275386         0.0   421.295356   \n",
              "27   398.422553  1356.428268   250.240601         0.0   152.160819   \n",
              "28  1577.670053 -3194.474494   930.429478         0.0   351.421169   \n",
              "29  6412.458292  1063.788521  2991.768009         0.0  1042.550230   \n",
              "30     0.075464     6.849938     3.238696         0.0     2.298109   \n",
              "31     0.227524   521.369385    17.066119         0.0     8.098716   \n",
              "\n",
              "    sctr_resid  sctr_comer       area_ha  SHAPE_Leng  SHAPE_Area  RULEID  \\\n",
              "0     6.288620    0.434545  1.094979e+07   25.596483    8.877566       2   \n",
              "1   599.901859  247.149863  6.296306e+06   21.109882    5.147846       6   \n",
              "2    21.701719    1.572121  2.382024e+06    8.987916    1.941630       3   \n",
              "3   235.333159  114.212659  3.321987e+05    2.529379    0.274446       4   \n",
              "4   191.124196   42.344982  2.669793e+06   14.975281    2.193822       4   \n",
              "5   324.576061   43.155498  2.315195e+06   15.454153    1.889526       5   \n",
              "6   128.098961   29.622734  7.438898e+05    6.521573    0.606614       1   \n",
              "7    60.128600    2.940459  9.010823e+06   21.306751    7.318908       6   \n",
              "8    25.665734   10.991966  4.436293e+06   11.975771    3.612520       5   \n",
              "9   238.287917   12.989494  3.124940e+06   13.769394    2.534944       2   \n",
              "10  101.109953   33.165268  2.256217e+06   11.716212    1.857944       3   \n",
              "11   66.521336    2.447122  4.819097e+06   20.186320    3.926481       2   \n",
              "12  140.456858   20.976267  2.500524e+06    8.862750    2.050866       3   \n",
              "13  283.248909  120.238336  2.236730e+06   12.739556    1.823371       6   \n",
              "14    1.874033    0.271352  7.127470e+06   21.110287    5.746827       2   \n",
              "15    2.673454    0.480794  5.557912e+06   19.390892    4.511781       5   \n",
              "16  147.031493   20.048046  1.813680e+06   10.165785    1.473825       1   \n",
              "17   75.245282   17.751809  2.061697e+06   10.657273    1.706707       3   \n",
              "18  119.538729   24.315345  2.313767e+06    9.984070    1.909411       3   \n",
              "19   93.638421   30.573528  8.555124e+06   18.088147    6.957530       6   \n",
              "20  260.515548   13.476734  3.148647e+06   12.111602    2.547579       3   \n",
              "21  119.039604   13.782719  2.183506e+06   10.492117    1.790547       3   \n",
              "22    9.985814    2.080923  2.597704e+06   12.667164    2.108025       3   \n",
              "23   65.329280   18.785205  1.932173e+05    2.511448    0.157310       1   \n",
              "24  109.613334   37.472099  3.560349e+05    4.661057    0.290082       1   \n",
              "25   60.717622    1.337980  4.971505e+03    0.652403    0.004074       2   \n",
              "26  208.490319   99.818424  3.055841e+06   11.631733    2.498856       5   \n",
              "27   71.412082   11.001882  1.067971e+06    7.824228    0.878023       2   \n",
              "28  187.371444   30.917666  2.414873e+06    9.339397    1.965786       2   \n",
              "29  484.082904  148.599096  2.065480e+06   12.222911    1.678614       6   \n",
              "30    1.876251    0.274473  5.329041e+06   20.107380    4.313120       2   \n",
              "31    1.900023    0.344821  1.000907e+07   17.255195    8.102704       1   \n",
              "\n",
              "                                             geometry  \n",
              "0   POLYGON ((-69.43300 -1.06967, -69.43309 -1.070...  \n",
              "1   POLYGON ((-74.82915 8.19958, -74.82858 8.19945...  \n",
              "2   POLYGON ((-69.42759 6.10748, -69.42839 6.10742...  \n",
              "3   POLYGON ((-74.85257 11.10548, -74.84393 11.072...  \n",
              "4   POLYGON ((-75.22236 10.79653, -75.22224 10.796...  \n",
              "5   POLYGON ((-72.04767 7.03830, -72.04681 7.03917...  \n",
              "6   POLYGON ((-74.66030 5.76716, -74.65912 5.76428...  \n",
              "7   POLYGON ((-73.66003 1.61206, -73.66003 1.61206...  \n",
              "8   POLYGON ((-72.33887 6.34575, -72.34114 6.34496...  \n",
              "9   POLYGON ((-76.05335 3.21896, -76.05293 3.21847...  \n",
              "10  POLYGON ((-72.90075 10.43611, -72.90059 10.435...  \n",
              "11  POLYGON ((-76.98033 8.25525, -76.98017 8.24840...  \n",
              "12  POLYGON ((-75.69984 9.41196, -75.70219 9.38478...  \n",
              "13  POLYGON ((-73.05261 4.73574, -73.07369 4.59549...  \n",
              "14  POLYGON ((-69.84570 1.71393, -69.84572 1.71392...  \n",
              "15  POLYGON ((-71.07753 2.88223, -71.07689 2.88248...  \n",
              "16  POLYGON ((-74.44132 3.72937, -74.44028 3.72970...  \n",
              "17  POLYGON ((-72.90075 10.43611, -72.90076 10.436...  \n",
              "18  POLYGON ((-73.56995 11.25931, -73.56987 11.258...  \n",
              "19  POLYGON ((-71.07753 2.88223, -71.07843 2.88291...  \n",
              "20  POLYGON ((-77.92833 2.64040, -77.92691 2.63673...  \n",
              "21  POLYGON ((-72.04767 7.03830, -72.04807 7.03790...  \n",
              "22  POLYGON ((-76.08482 1.05726, -76.08388 1.05694...  \n",
              "23  POLYGON ((-75.38860 4.71626, -75.38847 4.71618...  \n",
              "24  POLYGON ((-75.86740 5.48817, -75.86725 5.48555...  \n",
              "25  MULTIPOLYGON (((-81.37115 13.39473, -81.37113 ...  \n",
              "26  POLYGON ((-73.63368 7.74945, -73.63367 7.74945...  \n",
              "27  POLYGON ((-74.78500 8.27587, -74.78610 8.27730...  \n",
              "28  POLYGON ((-74.73332 5.28540, -74.73249 5.28367...  \n",
              "29  POLYGON ((-75.71291 4.71462, -75.70834 4.67835...  \n",
              "30  POLYGON ((-70.10960 2.08005, -70.10966 2.07993...  \n",
              "31  POLYGON ((-67.70960 4.04740, -67.71029 4.04597...  "
            ],
            "text/html": [
              "\n",
              "  <div id=\"df-0f9a950a-f291-445b-b638-db29b5cdb2cd\">\n",
              "    <div class=\"colab-df-container\">\n",
              "      <div>\n",
              "<style scoped>\n",
              "    .dataframe tbody tr th:only-of-type {\n",
              "        vertical-align: middle;\n",
              "    }\n",
              "\n",
              "    .dataframe tbody tr th {\n",
              "        vertical-align: top;\n",
              "    }\n",
              "\n",
              "    .dataframe thead th {\n",
              "        text-align: right;\n",
              "    }\n",
              "</style>\n",
              "<table border=\"1\" class=\"dataframe\">\n",
              "  <thead>\n",
              "    <tr style=\"text-align: right;\">\n",
              "      <th></th>\n",
              "      <th>cod_depto</th>\n",
              "      <th>departamen</th>\n",
              "      <th>ems_nts_GE</th>\n",
              "      <th>IPPC_energ</th>\n",
              "      <th>IPPC_IPPU</th>\n",
              "      <th>IPPC_AFOLU</th>\n",
              "      <th>IPPC_resid</th>\n",
              "      <th>sctr_fores</th>\n",
              "      <th>sctr_indus</th>\n",
              "      <th>sctr_agrop</th>\n",
              "      <th>sctr_trans</th>\n",
              "      <th>sctr_minas</th>\n",
              "      <th>sctr_sanea</th>\n",
              "      <th>sctr_resid</th>\n",
              "      <th>sctr_comer</th>\n",
              "      <th>area_ha</th>\n",
              "      <th>SHAPE_Leng</th>\n",
              "      <th>SHAPE_Area</th>\n",
              "      <th>RULEID</th>\n",
              "      <th>geometry</th>\n",
              "    </tr>\n",
              "  </thead>\n",
              "  <tbody>\n",
              "    <tr>\n",
              "      <th>0</th>\n",
              "      <td>91</td>\n",
              "      <td>AMAZONAS</td>\n",
              "      <td>0.513058</td>\n",
              "      <td>83.027695</td>\n",
              "      <td>0.786040</td>\n",
              "      <td>422.302502</td>\n",
              "      <td>6.942034</td>\n",
              "      <td>404.831433</td>\n",
              "      <td>0.158128</td>\n",
              "      <td>19.845740</td>\n",
              "      <td>25.099117</td>\n",
              "      <td>0.0</td>\n",
              "      <td>6.942034</td>\n",
              "      <td>6.288620</td>\n",
              "      <td>0.434545</td>\n",
              "      <td>1.094979e+07</td>\n",
              "      <td>25.596483</td>\n",
              "      <td>8.877566</td>\n",
              "      <td>2</td>\n",
              "      <td>POLYGON ((-69.43300 -1.06967, -69.43309 -1.070...</td>\n",
              "    </tr>\n",
              "    <tr>\n",
              "      <th>1</th>\n",
              "      <td>05</td>\n",
              "      <td>ANTIOQUIA</td>\n",
              "      <td>12.946967</td>\n",
              "      <td>8793.464113</td>\n",
              "      <td>1350.703025</td>\n",
              "      <td>1236.964593</td>\n",
              "      <td>1565.835611</td>\n",
              "      <td>1444.536348</td>\n",
              "      <td>5247.494024</td>\n",
              "      <td>18.338103</td>\n",
              "      <td>3880.540778</td>\n",
              "      <td>0.0</td>\n",
              "      <td>1031.445886</td>\n",
              "      <td>599.901859</td>\n",
              "      <td>247.149863</td>\n",
              "      <td>6.296306e+06</td>\n",
              "      <td>21.109882</td>\n",
              "      <td>5.147846</td>\n",
              "      <td>6</td>\n",
              "      <td>POLYGON ((-74.82915 8.19958, -74.82858 8.19945...</td>\n",
              "    </tr>\n",
              "    <tr>\n",
              "      <th>2</th>\n",
              "      <td>81</td>\n",
              "      <td>ARAUCA</td>\n",
              "      <td>3.462820</td>\n",
              "      <td>244.463869</td>\n",
              "      <td>4.979072</td>\n",
              "      <td>3156.942814</td>\n",
              "      <td>56.434010</td>\n",
              "      <td>1694.365789</td>\n",
              "      <td>0.925160</td>\n",
              "      <td>1500.916424</td>\n",
              "      <td>39.772105</td>\n",
              "      <td>0.0</td>\n",
              "      <td>56.406601</td>\n",
              "      <td>21.701719</td>\n",
              "      <td>1.572121</td>\n",
              "      <td>2.382024e+06</td>\n",
              "      <td>8.987916</td>\n",
              "      <td>1.941630</td>\n",
              "      <td>3</td>\n",
              "      <td>POLYGON ((-69.42759 6.10748, -69.42839 6.10742...</td>\n",
              "    </tr>\n",
              "    <tr>\n",
              "      <th>3</th>\n",
              "      <td>08</td>\n",
              "      <td>ATLÁNTICO</td>\n",
              "      <td>7.341928</td>\n",
              "      <td>5506.572866</td>\n",
              "      <td>674.963450</td>\n",
              "      <td>497.446684</td>\n",
              "      <td>662.945224</td>\n",
              "      <td>157.551756</td>\n",
              "      <td>1629.713659</td>\n",
              "      <td>362.912386</td>\n",
              "      <td>1149.086209</td>\n",
              "      <td>0.0</td>\n",
              "      <td>486.964824</td>\n",
              "      <td>235.333159</td>\n",
              "      <td>114.212659</td>\n",
              "      <td>3.321987e+05</td>\n",
              "      <td>2.529379</td>\n",
              "      <td>0.274446</td>\n",
              "      <td>4</td>\n",
              "      <td>POLYGON ((-74.85257 11.10548, -74.84393 11.072...</td>\n",
              "    </tr>\n",
              "    <tr>\n",
              "      <th>4</th>\n",
              "      <td>13</td>\n",
              "      <td>BOLÍVAR</td>\n",
              "      <td>7.311540</td>\n",
              "      <td>2877.350050</td>\n",
              "      <td>1130.339006</td>\n",
              "      <td>2824.149233</td>\n",
              "      <td>479.701379</td>\n",
              "      <td>1436.953784</td>\n",
              "      <td>1527.318930</td>\n",
              "      <td>1445.815313</td>\n",
              "      <td>1117.092574</td>\n",
              "      <td>0.0</td>\n",
              "      <td>410.296608</td>\n",
              "      <td>191.124196</td>\n",
              "      <td>42.344982</td>\n",
              "      <td>2.669793e+06</td>\n",
              "      <td>14.975281</td>\n",
              "      <td>2.193822</td>\n",
              "      <td>4</td>\n",
              "      <td>POLYGON ((-75.22236 10.79653, -75.22224 10.796...</td>\n",
              "    </tr>\n",
              "    <tr>\n",
              "      <th>5</th>\n",
              "      <td>15</td>\n",
              "      <td>BOYACÁ</td>\n",
              "      <td>9.998332</td>\n",
              "      <td>5536.980714</td>\n",
              "      <td>1468.516781</td>\n",
              "      <td>2756.365356</td>\n",
              "      <td>236.469266</td>\n",
              "      <td>1200.349930</td>\n",
              "      <td>3096.423317</td>\n",
              "      <td>1677.745295</td>\n",
              "      <td>836.305070</td>\n",
              "      <td>0.0</td>\n",
              "      <td>211.914586</td>\n",
              "      <td>324.576061</td>\n",
              "      <td>43.155498</td>\n",
              "      <td>2.315195e+06</td>\n",
              "      <td>15.454153</td>\n",
              "      <td>1.889526</td>\n",
              "      <td>5</td>\n",
              "      <td>POLYGON ((-72.04767 7.03830, -72.04681 7.03917...</td>\n",
              "    </tr>\n",
              "    <tr>\n",
              "      <th>6</th>\n",
              "      <td>17</td>\n",
              "      <td>CALDAS</td>\n",
              "      <td>-0.533074</td>\n",
              "      <td>956.273150</td>\n",
              "      <td>39.084520</td>\n",
              "      <td>-1830.123625</td>\n",
              "      <td>301.691872</td>\n",
              "      <td>117.717776</td>\n",
              "      <td>349.585154</td>\n",
              "      <td>-1900.852581</td>\n",
              "      <td>498.331265</td>\n",
              "      <td>0.0</td>\n",
              "      <td>220.905235</td>\n",
              "      <td>128.098961</td>\n",
              "      <td>29.622734</td>\n",
              "      <td>7.438898e+05</td>\n",
              "      <td>6.521573</td>\n",
              "      <td>0.606614</td>\n",
              "      <td>1</td>\n",
              "      <td>POLYGON ((-74.66030 5.76716, -74.65912 5.76428...</td>\n",
              "    </tr>\n",
              "    <tr>\n",
              "      <th>7</th>\n",
              "      <td>18</td>\n",
              "      <td>CAQUETÁ</td>\n",
              "      <td>18.605941</td>\n",
              "      <td>279.808564</td>\n",
              "      <td>5.664958</td>\n",
              "      <td>18242.003860</td>\n",
              "      <td>78.463313</td>\n",
              "      <td>16305.834248</td>\n",
              "      <td>6.431997</td>\n",
              "      <td>1955.139095</td>\n",
              "      <td>195.049999</td>\n",
              "      <td>0.0</td>\n",
              "      <td>77.204294</td>\n",
              "      <td>60.128600</td>\n",
              "      <td>2.940459</td>\n",
              "      <td>9.010823e+06</td>\n",
              "      <td>21.306751</td>\n",
              "      <td>7.318908</td>\n",
              "      <td>6</td>\n",
              "      <td>POLYGON ((-73.66003 1.61206, -73.66003 1.61206...</td>\n",
              "    </tr>\n",
              "    <tr>\n",
              "      <th>8</th>\n",
              "      <td>85</td>\n",
              "      <td>CASANARE</td>\n",
              "      <td>9.443649</td>\n",
              "      <td>5496.804939</td>\n",
              "      <td>7.691213</td>\n",
              "      <td>3822.836208</td>\n",
              "      <td>116.316823</td>\n",
              "      <td>503.974694</td>\n",
              "      <td>15.188720</td>\n",
              "      <td>3373.298929</td>\n",
              "      <td>445.638812</td>\n",
              "      <td>0.0</td>\n",
              "      <td>108.783672</td>\n",
              "      <td>25.665734</td>\n",
              "      <td>10.991966</td>\n",
              "      <td>4.436293e+06</td>\n",
              "      <td>11.975771</td>\n",
              "      <td>3.612520</td>\n",
              "      <td>5</td>\n",
              "      <td>POLYGON ((-72.33887 6.34575, -72.34114 6.34496...</td>\n",
              "    </tr>\n",
              "    <tr>\n",
              "      <th>9</th>\n",
              "      <td>19</td>\n",
              "      <td>CAUCA</td>\n",
              "      <td>0.926403</td>\n",
              "      <td>1344.910817</td>\n",
              "      <td>26.237913</td>\n",
              "      <td>-749.209666</td>\n",
              "      <td>304.463452</td>\n",
              "      <td>1544.010173</td>\n",
              "      <td>832.741703</td>\n",
              "      <td>-2250.432836</td>\n",
              "      <td>341.502439</td>\n",
              "      <td>0.0</td>\n",
              "      <td>183.639232</td>\n",
              "      <td>238.287917</td>\n",
              "      <td>12.989494</td>\n",
              "      <td>3.124940e+06</td>\n",
              "      <td>13.769394</td>\n",
              "      <td>2.534944</td>\n",
              "      <td>2</td>\n",
              "      <td>POLYGON ((-76.05335 3.21896, -76.05293 3.21847...</td>\n",
              "    </tr>\n",
              "    <tr>\n",
              "      <th>10</th>\n",
              "      <td>20</td>\n",
              "      <td>CESAR</td>\n",
              "      <td>4.516532</td>\n",
              "      <td>1747.591576</td>\n",
              "      <td>15.316213</td>\n",
              "      <td>2490.895921</td>\n",
              "      <td>262.728626</td>\n",
              "      <td>74.338520</td>\n",
              "      <td>79.200095</td>\n",
              "      <td>2472.586271</td>\n",
              "      <td>700.991610</td>\n",
              "      <td>0.0</td>\n",
              "      <td>248.176079</td>\n",
              "      <td>101.109953</td>\n",
              "      <td>33.165268</td>\n",
              "      <td>2.256217e+06</td>\n",
              "      <td>11.716212</td>\n",
              "      <td>1.857944</td>\n",
              "      <td>3</td>\n",
              "      <td>POLYGON ((-72.90075 10.43611, -72.90059 10.435...</td>\n",
              "    </tr>\n",
              "    <tr>\n",
              "      <th>11</th>\n",
              "      <td>27</td>\n",
              "      <td>CHOCÓ</td>\n",
              "      <td>2.482121</td>\n",
              "      <td>378.013751</td>\n",
              "      <td>5.589892</td>\n",
              "      <td>2038.309367</td>\n",
              "      <td>60.207825</td>\n",
              "      <td>560.474711</td>\n",
              "      <td>2.775234</td>\n",
              "      <td>1495.532491</td>\n",
              "      <td>279.164101</td>\n",
              "      <td>0.0</td>\n",
              "      <td>60.207825</td>\n",
              "      <td>66.521336</td>\n",
              "      <td>2.447122</td>\n",
              "      <td>4.819097e+06</td>\n",
              "      <td>20.186320</td>\n",
              "      <td>3.926481</td>\n",
              "      <td>2</td>\n",
              "      <td>POLYGON ((-76.98033 8.25525, -76.98017 8.24840...</td>\n",
              "    </tr>\n",
              "    <tr>\n",
              "      <th>12</th>\n",
              "      <td>23</td>\n",
              "      <td>CÓRDOBA</td>\n",
              "      <td>5.788089</td>\n",
              "      <td>967.382232</td>\n",
              "      <td>845.023165</td>\n",
              "      <td>3711.264857</td>\n",
              "      <td>264.419063</td>\n",
              "      <td>540.230472</td>\n",
              "      <td>954.272608</td>\n",
              "      <td>3248.191738</td>\n",
              "      <td>560.284175</td>\n",
              "      <td>0.0</td>\n",
              "      <td>252.459106</td>\n",
              "      <td>140.456858</td>\n",
              "      <td>20.976267</td>\n",
              "      <td>2.500524e+06</td>\n",
              "      <td>8.862750</td>\n",
              "      <td>2.050866</td>\n",
              "      <td>3</td>\n",
              "      <td>POLYGON ((-75.69984 9.41196, -75.70219 9.38478...</td>\n",
              "    </tr>\n",
              "    <tr>\n",
              "      <th>13</th>\n",
              "      <td>25</td>\n",
              "      <td>CUNDINAMARCA</td>\n",
              "      <td>11.170681</td>\n",
              "      <td>5765.962908</td>\n",
              "      <td>437.874998</td>\n",
              "      <td>4162.983178</td>\n",
              "      <td>803.860108</td>\n",
              "      <td>1509.299333</td>\n",
              "      <td>2824.149040</td>\n",
              "      <td>2846.043917</td>\n",
              "      <td>2199.205958</td>\n",
              "      <td>0.0</td>\n",
              "      <td>350.843543</td>\n",
              "      <td>283.248909</td>\n",
              "      <td>120.238336</td>\n",
              "      <td>2.236730e+06</td>\n",
              "      <td>12.739556</td>\n",
              "      <td>1.823371</td>\n",
              "      <td>6</td>\n",
              "      <td>POLYGON ((-73.05261 4.73574, -73.07369 4.59549...</td>\n",
              "    </tr>\n",
              "    <tr>\n",
              "      <th>14</th>\n",
              "      <td>94</td>\n",
              "      <td>GUAINÍA</td>\n",
              "      <td>1.082786</td>\n",
              "      <td>26.008515</td>\n",
              "      <td>0.565156</td>\n",
              "      <td>1044.232026</td>\n",
              "      <td>11.980045</td>\n",
              "      <td>1029.329360</td>\n",
              "      <td>0.098847</td>\n",
              "      <td>15.372111</td>\n",
              "      <td>6.297375</td>\n",
              "      <td>0.0</td>\n",
              "      <td>11.980045</td>\n",
              "      <td>1.874033</td>\n",
              "      <td>0.271352</td>\n",
              "      <td>7.127470e+06</td>\n",
              "      <td>21.110287</td>\n",
              "      <td>5.746827</td>\n",
              "      <td>2</td>\n",
              "      <td>POLYGON ((-69.84570 1.71393, -69.84572 1.71392...</td>\n",
              "    </tr>\n",
              "    <tr>\n",
              "      <th>15</th>\n",
              "      <td>95</td>\n",
              "      <td>GUAVIARE</td>\n",
              "      <td>10.219472</td>\n",
              "      <td>54.417542</td>\n",
              "      <td>0.975418</td>\n",
              "      <td>10150.537153</td>\n",
              "      <td>13.542196</td>\n",
              "      <td>9775.979374</td>\n",
              "      <td>0.295746</td>\n",
              "      <td>376.116009</td>\n",
              "      <td>48.992163</td>\n",
              "      <td>0.0</td>\n",
              "      <td>13.542196</td>\n",
              "      <td>2.673454</td>\n",
              "      <td>0.480794</td>\n",
              "      <td>5.557912e+06</td>\n",
              "      <td>19.390892</td>\n",
              "      <td>4.511781</td>\n",
              "      <td>5</td>\n",
              "      <td>POLYGON ((-71.07753 2.88223, -71.07689 2.88248...</td>\n",
              "    </tr>\n",
              "    <tr>\n",
              "      <th>16</th>\n",
              "      <td>41</td>\n",
              "      <td>HUILA</td>\n",
              "      <td>-0.665385</td>\n",
              "      <td>1263.056018</td>\n",
              "      <td>71.301668</td>\n",
              "      <td>-2238.028005</td>\n",
              "      <td>238.285750</td>\n",
              "      <td>1452.224947</td>\n",
              "      <td>170.348718</td>\n",
              "      <td>-3621.892479</td>\n",
              "      <td>561.425222</td>\n",
              "      <td>0.0</td>\n",
              "      <td>163.005626</td>\n",
              "      <td>147.031493</td>\n",
              "      <td>20.048046</td>\n",
              "      <td>1.813680e+06</td>\n",
              "      <td>10.165785</td>\n",
              "      <td>1.473825</td>\n",
              "      <td>1</td>\n",
              "      <td>POLYGON ((-74.44132 3.72937, -74.44028 3.72970...</td>\n",
              "    </tr>\n",
              "    <tr>\n",
              "      <th>17</th>\n",
              "      <td>44</td>\n",
              "      <td>LA GUAJIRA</td>\n",
              "      <td>5.156127</td>\n",
              "      <td>3686.306356</td>\n",
              "      <td>9.864021</td>\n",
              "      <td>1307.186275</td>\n",
              "      <td>152.770676</td>\n",
              "      <td>827.235420</td>\n",
              "      <td>3.011542</td>\n",
              "      <td>494.724614</td>\n",
              "      <td>261.509882</td>\n",
              "      <td>0.0</td>\n",
              "      <td>152.764565</td>\n",
              "      <td>75.245282</td>\n",
              "      <td>17.751809</td>\n",
              "      <td>2.061697e+06</td>\n",
              "      <td>10.657273</td>\n",
              "      <td>1.706707</td>\n",
              "      <td>3</td>\n",
              "      <td>POLYGON ((-72.90075 10.43611, -72.90076 10.436...</td>\n",
              "    </tr>\n",
              "    <tr>\n",
              "      <th>18</th>\n",
              "      <td>47</td>\n",
              "      <td>MAGDALENA</td>\n",
              "      <td>3.374750</td>\n",
              "      <td>577.759650</td>\n",
              "      <td>18.271014</td>\n",
              "      <td>2457.090709</td>\n",
              "      <td>321.628390</td>\n",
              "      <td>-227.280840</td>\n",
              "      <td>78.898121</td>\n",
              "      <td>2744.888359</td>\n",
              "      <td>353.674133</td>\n",
              "      <td>0.0</td>\n",
              "      <td>262.706748</td>\n",
              "      <td>119.538729</td>\n",
              "      <td>24.315345</td>\n",
              "      <td>2.313767e+06</td>\n",
              "      <td>9.984070</td>\n",
              "      <td>1.909411</td>\n",
              "      <td>3</td>\n",
              "      <td>POLYGON ((-73.56995 11.25931, -73.56987 11.258...</td>\n",
              "    </tr>\n",
              "    <tr>\n",
              "      <th>19</th>\n",
              "      <td>50</td>\n",
              "      <td>META</td>\n",
              "      <td>17.306738</td>\n",
              "      <td>2776.598977</td>\n",
              "      <td>19.574484</td>\n",
              "      <td>14176.832972</td>\n",
              "      <td>333.731254</td>\n",
              "      <td>10642.367146</td>\n",
              "      <td>148.306366</td>\n",
              "      <td>3637.024660</td>\n",
              "      <td>838.778448</td>\n",
              "      <td>0.0</td>\n",
              "      <td>242.444808</td>\n",
              "      <td>93.638421</td>\n",
              "      <td>30.573528</td>\n",
              "      <td>8.555124e+06</td>\n",
              "      <td>18.088147</td>\n",
              "      <td>6.957530</td>\n",
              "      <td>6</td>\n",
              "      <td>POLYGON ((-71.07753 2.88223, -71.07843 2.88291...</td>\n",
              "    </tr>\n",
              "    <tr>\n",
              "      <th>20</th>\n",
              "      <td>52</td>\n",
              "      <td>NARIÑO</td>\n",
              "      <td>6.079243</td>\n",
              "      <td>1191.154396</td>\n",
              "      <td>26.876754</td>\n",
              "      <td>4609.622427</td>\n",
              "      <td>251.589807</td>\n",
              "      <td>2186.613585</td>\n",
              "      <td>24.768025</td>\n",
              "      <td>2488.776171</td>\n",
              "      <td>844.678017</td>\n",
              "      <td>0.0</td>\n",
              "      <td>239.835964</td>\n",
              "      <td>260.515548</td>\n",
              "      <td>13.476734</td>\n",
              "      <td>3.148647e+06</td>\n",
              "      <td>12.111602</td>\n",
              "      <td>2.547579</td>\n",
              "      <td>3</td>\n",
              "      <td>POLYGON ((-77.92833 2.64040, -77.92691 2.63673...</td>\n",
              "    </tr>\n",
              "    <tr>\n",
              "      <th>21</th>\n",
              "      <td>54</td>\n",
              "      <td>NORTE DE SANTANDER</td>\n",
              "      <td>4.704809</td>\n",
              "      <td>1786.858911</td>\n",
              "      <td>153.541700</td>\n",
              "      <td>2408.390548</td>\n",
              "      <td>356.017897</td>\n",
              "      <td>1419.400821</td>\n",
              "      <td>547.886717</td>\n",
              "      <td>1038.863884</td>\n",
              "      <td>396.911117</td>\n",
              "      <td>0.0</td>\n",
              "      <td>351.332899</td>\n",
              "      <td>119.039604</td>\n",
              "      <td>13.782719</td>\n",
              "      <td>2.183506e+06</td>\n",
              "      <td>10.492117</td>\n",
              "      <td>1.790547</td>\n",
              "      <td>3</td>\n",
              "      <td>POLYGON ((-72.04767 7.03830, -72.04807 7.03790...</td>\n",
              "    </tr>\n",
              "    <tr>\n",
              "      <th>22</th>\n",
              "      <td>86</td>\n",
              "      <td>PUTUMAYO</td>\n",
              "      <td>6.345306</td>\n",
              "      <td>370.464838</td>\n",
              "      <td>4.441439</td>\n",
              "      <td>5900.513856</td>\n",
              "      <td>69.886002</td>\n",
              "      <td>4788.209028</td>\n",
              "      <td>1.692997</td>\n",
              "      <td>1118.420057</td>\n",
              "      <td>122.383011</td>\n",
              "      <td>0.0</td>\n",
              "      <td>69.584484</td>\n",
              "      <td>9.985814</td>\n",
              "      <td>2.080923</td>\n",
              "      <td>2.597704e+06</td>\n",
              "      <td>12.667164</td>\n",
              "      <td>2.108025</td>\n",
              "      <td>3</td>\n",
              "      <td>POLYGON ((-76.08482 1.05726, -76.08388 1.05694...</td>\n",
              "    </tr>\n",
              "    <tr>\n",
              "      <th>23</th>\n",
              "      <td>63</td>\n",
              "      <td>QUINDÍO</td>\n",
              "      <td>-0.166552</td>\n",
              "      <td>424.532973</td>\n",
              "      <td>12.850657</td>\n",
              "      <td>-789.533108</td>\n",
              "      <td>185.597792</td>\n",
              "      <td>-39.922751</td>\n",
              "      <td>38.457530</td>\n",
              "      <td>-715.649456</td>\n",
              "      <td>304.271322</td>\n",
              "      <td>0.0</td>\n",
              "      <td>159.991654</td>\n",
              "      <td>65.329280</td>\n",
              "      <td>18.785205</td>\n",
              "      <td>1.932173e+05</td>\n",
              "      <td>2.511448</td>\n",
              "      <td>0.157310</td>\n",
              "      <td>1</td>\n",
              "      <td>POLYGON ((-75.38860 4.71626, -75.38847 4.71618...</td>\n",
              "    </tr>\n",
              "    <tr>\n",
              "      <th>24</th>\n",
              "      <td>66</td>\n",
              "      <td>RISARALDA</td>\n",
              "      <td>-0.798737</td>\n",
              "      <td>739.575802</td>\n",
              "      <td>23.297910</td>\n",
              "      <td>-1888.374164</td>\n",
              "      <td>326.763915</td>\n",
              "      <td>65.622148</td>\n",
              "      <td>128.359761</td>\n",
              "      <td>-1916.245744</td>\n",
              "      <td>503.452970</td>\n",
              "      <td>0.0</td>\n",
              "      <td>269.031925</td>\n",
              "      <td>109.613334</td>\n",
              "      <td>37.472099</td>\n",
              "      <td>3.560349e+05</td>\n",
              "      <td>4.661057</td>\n",
              "      <td>0.290082</td>\n",
              "      <td>1</td>\n",
              "      <td>POLYGON ((-75.86740 5.48817, -75.86725 5.48555...</td>\n",
              "    </tr>\n",
              "    <tr>\n",
              "      <th>25</th>\n",
              "      <td>88</td>\n",
              "      <td>ARCHIPIÉLAGO DE SAN ANDRÉS. PROVIDENCIA Y</td>\n",
              "      <td>0.303271</td>\n",
              "      <td>239.556655</td>\n",
              "      <td>2.072026</td>\n",
              "      <td>35.463062</td>\n",
              "      <td>26.179477</td>\n",
              "      <td>33.907860</td>\n",
              "      <td>0.395005</td>\n",
              "      <td>2.128661</td>\n",
              "      <td>78.423654</td>\n",
              "      <td>0.0</td>\n",
              "      <td>26.158322</td>\n",
              "      <td>60.717622</td>\n",
              "      <td>1.337980</td>\n",
              "      <td>4.971505e+03</td>\n",
              "      <td>0.652403</td>\n",
              "      <td>0.004074</td>\n",
              "      <td>2</td>\n",
              "      <td>MULTIPOLYGON (((-81.37115 13.39473, -81.37113 ...</td>\n",
              "    </tr>\n",
              "    <tr>\n",
              "      <th>26</th>\n",
              "      <td>68</td>\n",
              "      <td>SANTANDER</td>\n",
              "      <td>10.570665</td>\n",
              "      <td>5295.670281</td>\n",
              "      <td>257.282598</td>\n",
              "      <td>4260.243069</td>\n",
              "      <td>757.469010</td>\n",
              "      <td>3069.038235</td>\n",
              "      <td>618.711540</td>\n",
              "      <td>1310.671320</td>\n",
              "      <td>1318.275386</td>\n",
              "      <td>0.0</td>\n",
              "      <td>421.295356</td>\n",
              "      <td>208.490319</td>\n",
              "      <td>99.818424</td>\n",
              "      <td>3.055841e+06</td>\n",
              "      <td>11.631733</td>\n",
              "      <td>2.498856</td>\n",
              "      <td>5</td>\n",
              "      <td>POLYGON ((-73.63368 7.74945, -73.63367 7.74945...</td>\n",
              "    </tr>\n",
              "    <tr>\n",
              "      <th>27</th>\n",
              "      <td>70</td>\n",
              "      <td>SUCRE</td>\n",
              "      <td>2.774736</td>\n",
              "      <td>658.337369</td>\n",
              "      <td>287.029809</td>\n",
              "      <td>1673.622197</td>\n",
              "      <td>155.746433</td>\n",
              "      <td>347.860076</td>\n",
              "      <td>398.422553</td>\n",
              "      <td>1356.428268</td>\n",
              "      <td>250.240601</td>\n",
              "      <td>0.0</td>\n",
              "      <td>152.160819</td>\n",
              "      <td>71.412082</td>\n",
              "      <td>11.001882</td>\n",
              "      <td>1.067971e+06</td>\n",
              "      <td>7.824228</td>\n",
              "      <td>0.878023</td>\n",
              "      <td>2</td>\n",
              "      <td>POLYGON ((-74.78500 8.27587, -74.78610 8.27730...</td>\n",
              "    </tr>\n",
              "    <tr>\n",
              "      <th>28</th>\n",
              "      <td>73</td>\n",
              "      <td>TOLIMA</td>\n",
              "      <td>1.515687</td>\n",
              "      <td>1978.957423</td>\n",
              "      <td>1047.116820</td>\n",
              "      <td>-1912.213229</td>\n",
              "      <td>401.825624</td>\n",
              "      <td>1370.515083</td>\n",
              "      <td>1577.670053</td>\n",
              "      <td>-3194.474494</td>\n",
              "      <td>930.429478</td>\n",
              "      <td>0.0</td>\n",
              "      <td>351.421169</td>\n",
              "      <td>187.371444</td>\n",
              "      <td>30.917666</td>\n",
              "      <td>2.414873e+06</td>\n",
              "      <td>9.339397</td>\n",
              "      <td>1.965786</td>\n",
              "      <td>2</td>\n",
              "      <td>POLYGON ((-74.73332 5.28540, -74.73249 5.28367...</td>\n",
              "    </tr>\n",
              "    <tr>\n",
              "      <th>29</th>\n",
              "      <td>76</td>\n",
              "      <td>VALLE DEL CAUCA</td>\n",
              "      <td>12.099754</td>\n",
              "      <td>8079.445906</td>\n",
              "      <td>623.661704</td>\n",
              "      <td>800.338069</td>\n",
              "      <td>2596.307984</td>\n",
              "      <td>-121.842296</td>\n",
              "      <td>6412.458292</td>\n",
              "      <td>1063.788521</td>\n",
              "      <td>2991.768009</td>\n",
              "      <td>0.0</td>\n",
              "      <td>1042.550230</td>\n",
              "      <td>484.082904</td>\n",
              "      <td>148.599096</td>\n",
              "      <td>2.065480e+06</td>\n",
              "      <td>12.222911</td>\n",
              "      <td>1.678614</td>\n",
              "      <td>6</td>\n",
              "      <td>POLYGON ((-75.71291 4.71462, -75.70834 4.67835...</td>\n",
              "    </tr>\n",
              "    <tr>\n",
              "      <th>30</th>\n",
              "      <td>97</td>\n",
              "      <td>VAUPÉS</td>\n",
              "      <td>1.513483</td>\n",
              "      <td>12.673521</td>\n",
              "      <td>0.571200</td>\n",
              "      <td>1497.940317</td>\n",
              "      <td>2.298109</td>\n",
              "      <td>1491.370548</td>\n",
              "      <td>0.075464</td>\n",
              "      <td>6.849938</td>\n",
              "      <td>3.238696</td>\n",
              "      <td>0.0</td>\n",
              "      <td>2.298109</td>\n",
              "      <td>1.876251</td>\n",
              "      <td>0.274473</td>\n",
              "      <td>5.329041e+06</td>\n",
              "      <td>20.107380</td>\n",
              "      <td>4.313120</td>\n",
              "      <td>2</td>\n",
              "      <td>POLYGON ((-70.10960 2.08005, -70.10966 2.07993...</td>\n",
              "    </tr>\n",
              "    <tr>\n",
              "      <th>31</th>\n",
              "      <td>99</td>\n",
              "      <td>VICHADA</td>\n",
              "      <td>-0.779771</td>\n",
              "      <td>39.654853</td>\n",
              "      <td>0.674991</td>\n",
              "      <td>-828.199350</td>\n",
              "      <td>8.098716</td>\n",
              "      <td>-1348.198127</td>\n",
              "      <td>0.227524</td>\n",
              "      <td>521.369385</td>\n",
              "      <td>17.066119</td>\n",
              "      <td>0.0</td>\n",
              "      <td>8.098716</td>\n",
              "      <td>1.900023</td>\n",
              "      <td>0.344821</td>\n",
              "      <td>1.000907e+07</td>\n",
              "      <td>17.255195</td>\n",
              "      <td>8.102704</td>\n",
              "      <td>1</td>\n",
              "      <td>POLYGON ((-67.70960 4.04740, -67.71029 4.04597...</td>\n",
              "    </tr>\n",
              "  </tbody>\n",
              "</table>\n",
              "</div>\n",
              "      <button class=\"colab-df-convert\" onclick=\"convertToInteractive('df-0f9a950a-f291-445b-b638-db29b5cdb2cd')\"\n",
              "              title=\"Convert this dataframe to an interactive table.\"\n",
              "              style=\"display:none;\">\n",
              "        \n",
              "  <svg xmlns=\"http://www.w3.org/2000/svg\" height=\"24px\"viewBox=\"0 0 24 24\"\n",
              "       width=\"24px\">\n",
              "    <path d=\"M0 0h24v24H0V0z\" fill=\"none\"/>\n",
              "    <path d=\"M18.56 5.44l.94 2.06.94-2.06 2.06-.94-2.06-.94-.94-2.06-.94 2.06-2.06.94zm-11 1L8.5 8.5l.94-2.06 2.06-.94-2.06-.94L8.5 2.5l-.94 2.06-2.06.94zm10 10l.94 2.06.94-2.06 2.06-.94-2.06-.94-.94-2.06-.94 2.06-2.06.94z\"/><path d=\"M17.41 7.96l-1.37-1.37c-.4-.4-.92-.59-1.43-.59-.52 0-1.04.2-1.43.59L10.3 9.45l-7.72 7.72c-.78.78-.78 2.05 0 2.83L4 21.41c.39.39.9.59 1.41.59.51 0 1.02-.2 1.41-.59l7.78-7.78 2.81-2.81c.8-.78.8-2.07 0-2.86zM5.41 20L4 18.59l7.72-7.72 1.47 1.35L5.41 20z\"/>\n",
              "  </svg>\n",
              "      </button>\n",
              "      \n",
              "  <style>\n",
              "    .colab-df-container {\n",
              "      display:flex;\n",
              "      flex-wrap:wrap;\n",
              "      gap: 12px;\n",
              "    }\n",
              "\n",
              "    .colab-df-convert {\n",
              "      background-color: #E8F0FE;\n",
              "      border: none;\n",
              "      border-radius: 50%;\n",
              "      cursor: pointer;\n",
              "      display: none;\n",
              "      fill: #1967D2;\n",
              "      height: 32px;\n",
              "      padding: 0 0 0 0;\n",
              "      width: 32px;\n",
              "    }\n",
              "\n",
              "    .colab-df-convert:hover {\n",
              "      background-color: #E2EBFA;\n",
              "      box-shadow: 0px 1px 2px rgba(60, 64, 67, 0.3), 0px 1px 3px 1px rgba(60, 64, 67, 0.15);\n",
              "      fill: #174EA6;\n",
              "    }\n",
              "\n",
              "    [theme=dark] .colab-df-convert {\n",
              "      background-color: #3B4455;\n",
              "      fill: #D2E3FC;\n",
              "    }\n",
              "\n",
              "    [theme=dark] .colab-df-convert:hover {\n",
              "      background-color: #434B5C;\n",
              "      box-shadow: 0px 1px 3px 1px rgba(0, 0, 0, 0.15);\n",
              "      filter: drop-shadow(0px 1px 2px rgba(0, 0, 0, 0.3));\n",
              "      fill: #FFFFFF;\n",
              "    }\n",
              "  </style>\n",
              "\n",
              "      <script>\n",
              "        const buttonEl =\n",
              "          document.querySelector('#df-0f9a950a-f291-445b-b638-db29b5cdb2cd button.colab-df-convert');\n",
              "        buttonEl.style.display =\n",
              "          google.colab.kernel.accessAllowed ? 'block' : 'none';\n",
              "\n",
              "        async function convertToInteractive(key) {\n",
              "          const element = document.querySelector('#df-0f9a950a-f291-445b-b638-db29b5cdb2cd');\n",
              "          const dataTable =\n",
              "            await google.colab.kernel.invokeFunction('convertToInteractive',\n",
              "                                                     [key], {});\n",
              "          if (!dataTable) return;\n",
              "\n",
              "          const docLinkHtml = 'Like what you see? Visit the ' +\n",
              "            '<a target=\"_blank\" href=https://colab.research.google.com/notebooks/data_table.ipynb>data table notebook</a>'\n",
              "            + ' to learn more about interactive tables.';\n",
              "          element.innerHTML = '';\n",
              "          dataTable['output_type'] = 'display_data';\n",
              "          await google.colab.output.renderOutput(dataTable, element);\n",
              "          const docLink = document.createElement('div');\n",
              "          docLink.innerHTML = docLinkHtml;\n",
              "          element.appendChild(docLink);\n",
              "        }\n",
              "      </script>\n",
              "    </div>\n",
              "  </div>\n",
              "  "
            ]
          },
          "metadata": {},
          "execution_count": 45
        }
      ]
    },
    {
      "cell_type": "code",
      "source": [
        "Departamentos.plot();"
      ],
      "metadata": {
        "id": "iGe24i65l2He",
        "colab": {
          "base_uri": "https://localhost:8080/"
        },
        "outputId": "e4ab7be2-87b7-4a24-e91f-65b9afde252f"
      },
      "execution_count": null,
      "outputs": [
        {
          "output_type": "display_data",
          "data": {
            "text/plain": [
              "<Figure size 640x480 with 1 Axes>"
            ],
            "image/png": "[encoded data removed]"
          },
          "metadata": {}
        }
      ]
    },
    {
      "cell_type": "code",
      "source": [
        "import matplotlib.pyplot as plt\n",
        "fig, ax = plt.subplots(figsize=(12,10))\n",
        "Departamentos.plot(column='ems_nts_GE', ax=ax);"
      ],
      "metadata": {
        "id": "AVavDrJvmCdf",
        "colab": {
          "base_uri": "https://localhost:8080/"
        },
        "outputId": "82620f11-99d2-444e-85bb-ae51c837f489"
      },
      "execution_count": null,
      "outputs": [
        {
          "output_type": "display_data",
          "data": {
            "text/plain": [
              "<Figure size 1200x1000 with 1 Axes>"
            ],
            "image/png": "[encoded data removed]"
          },
          "metadata": {}
        }
      ]
    },
    {
      "cell_type": "markdown",
      "source": [
        "# **2.Cuencas sedimentarias de Colombia.**"
      ],
      "metadata": {
        "id": "W9a8wfTcz5KT"
      }
    },
    {
      "cell_type": "code",
      "source": [
        "import pandas as pd"
      ],
      "metadata": {
        "id": "QhtOOQtj5qqe"
      },
      "execution_count": null,
      "outputs": []
    },
    {
      "cell_type": "code",
      "source": [
        "!pip install geopandas"
      ],
      "metadata": {
        "colab": {
          "base_uri": "https://localhost:8080/"
        },
        "id": "6imOJQ8bISQW",
        "outputId": "3d4c74aa-547a-4e72-a4af-1f1d5c70cdee"
      },
      "execution_count": null,
      "outputs": [
        {
          "output_type": "stream",
          "name": "stdout",
          "text": [
            "Looking in indexes: https://pypi.org/simple, https://us-python.pkg.dev/colab-wheels/public/simple/\n",
            "Requirement already satisfied: geopandas in /usr/local/lib/python3.10/dist-packages (0.13.0)\n",
            "Requirement already satisfied: fiona>=1.8.19 in /usr/local/lib/python3.10/dist-packages (from geopandas) (1.9.4.post1)\n",
            "Requirement already satisfied: packaging in /usr/local/lib/python3.10/dist-packages (from geopandas) (23.1)\n",
            "Requirement already satisfied: pandas>=1.1.0 in /usr/local/lib/python3.10/dist-packages (from geopandas) (1.5.3)\n",
            "Requirement already satisfied: pyproj>=3.0.1 in /usr/local/lib/python3.10/dist-packages (from geopandas) (3.5.0)\n",
            "Requirement already satisfied: shapely>=1.7.1 in /usr/local/lib/python3.10/dist-packages (from geopandas) (2.0.1)\n",
            "Requirement already satisfied: attrs>=19.2.0 in /usr/local/lib/python3.10/dist-packages (from fiona>=1.8.19->geopandas) (23.1.0)\n",
            "Requirement already satisfied: certifi in /usr/local/lib/python3.10/dist-packages (from fiona>=1.8.19->geopandas) (2022.12.7)\n",
            "Requirement already satisfied: click~=8.0 in /usr/local/lib/python3.10/dist-packages (from fiona>=1.8.19->geopandas) (8.1.3)\n",
            "Requirement already satisfied: click-plugins>=1.0 in /usr/local/lib/python3.10/dist-packages (from fiona>=1.8.19->geopandas) (1.1.1)\n",
            "Requirement already satisfied: cligj>=0.5 in /usr/local/lib/python3.10/dist-packages (from fiona>=1.8.19->geopandas) (0.7.2)\n",
            "Requirement already satisfied: six in /usr/local/lib/python3.10/dist-packages (from fiona>=1.8.19->geopandas) (1.16.0)\n",
            "Requirement already satisfied: python-dateutil>=2.8.1 in /usr/local/lib/python3.10/dist-packages (from pandas>=1.1.0->geopandas) (2.8.2)\n",
            "Requirement already satisfied: pytz>=2020.1 in /usr/local/lib/python3.10/dist-packages (from pandas>=1.1.0->geopandas) (2022.7.1)\n",
            "Requirement already satisfied: numpy>=1.21.0 in /usr/local/lib/python3.10/dist-packages (from pandas>=1.1.0->geopandas) (1.22.4)\n"
          ]
        }
      ]
    },
    {
      "cell_type": "code",
      "source": [
        "Cuencas = gpd.read_file(\"/content/drive/MyDrive/DATA_ProyectoAG/Cuencas_Sedimentarias/CUENCAS_AJUSTADAS_2010.shp\")"
      ],
      "metadata": {
        "id": "bgygs_M7HpR9"
      },
      "execution_count": null,
      "outputs": []
    },
    {
      "cell_type": "code",
      "source": [
        "SSJ = gpd.read_file(\"/content/drive/MyDrive/DATA_ProyectoAG/Datos creados/Emisiones SSJ.shp\")"
      ],
      "metadata": {
        "id": "cipPItaSVZaq"
      },
      "execution_count": null,
      "outputs": []
    },
    {
      "cell_type": "code",
      "source": [
        "Cuencas.info()"
      ],
      "metadata": {
        "colab": {
          "base_uri": "https://localhost:8080/"
        },
        "id": "pnkRX9JZImpP",
        "outputId": "9ac671fe-da58-4d82-bb1d-350e6fe12830"
      },
      "execution_count": null,
      "outputs": [
        {
          "output_type": "stream",
          "name": "stdout",
          "text": [
            "<class 'geopandas.geodataframe.GeoDataFrame'>\n",
            "RangeIndex: 24 entries, 0 to 23\n",
            "Data columns (total 17 columns):\n",
            " #   Column      Non-Null Count  Dtype   \n",
            "---  ------      --------------  -----   \n",
            " 0   FID_CUENCA  24 non-null     int64   \n",
            " 1   NOMBRE      24 non-null     object  \n",
            " 2   AREA        24 non-null     float64 \n",
            " 3   NMG         24 non-null     object  \n",
            " 4   AÑO         24 non-null     int64   \n",
            " 5   TIPO        23 non-null     object  \n",
            " 6   TIPO_2      14 non-null     object  \n",
            " 7   LOWYTF      24 non-null     int64   \n",
            " 8   BASEYTF     24 non-null     int64   \n",
            " 9   HIGHYTF     24 non-null     int64   \n",
            " 10  R_PROBADAS  24 non-null     int64   \n",
            " 11  R_PROBABLE  24 non-null     int64   \n",
            " 12  R_POSIBLES  24 non-null     int64   \n",
            " 13  FID_LIMITE  24 non-null     int64   \n",
            " 14  ObjectID    24 non-null     int64   \n",
            " 15  EntID       24 non-null     int64   \n",
            " 16  geometry    24 non-null     geometry\n",
            "dtypes: float64(1), geometry(1), int64(11), object(4)\n",
            "memory usage: 3.3+ KB\n"
          ]
        }
      ]
    },
    {
      "cell_type": "code",
      "source": [
        "Cuencas.head(24)"
      ],
      "metadata": {
        "colab": {
          "base_uri": "https://localhost:8080/"
        },
        "id": "ab-OX9wFJAZj",
        "outputId": "a43ac065-f852-4d72-e79b-e3e03066e8ff"
      },
      "execution_count": null,
      "outputs": [
        {
          "output_type": "execute_result",
          "data": {
            "text/plain": [
              "    FID_CUENCA                        NOMBRE          AREA       NMG   AÑO  \\\n",
              "0            3              GUAJIRA OFFSHORE  5.274678e+06   GUA OFF  2007   \n",
              "1            4                 SINU OFFSHORE  2.947888e+06   SIN OFF  2007   \n",
              "2            7                     LOS CAYOS  1.445157e+07       CAY  2007   \n",
              "3           10                      COLOMBIA  2.566933e+07       COL  2007   \n",
              "4           11  PACIFICO PROFUNDO COLOMBIANO  2.698517e+07   PAC PRF  2007   \n",
              "5           15                CHOCO OFFSHORE  3.746078e+06   CHO OFF  2007   \n",
              "6           16               TUMACO OFFSHORE  3.232512e+06   TUM OFF  2007   \n",
              "7            0                         AMAGA  2.824929e+05       AMA  2007   \n",
              "8            1           AREA NO PROSPECTIVA  3.282873e+07       ANP  2007   \n",
              "9            2               CAGUAN-PUTUMAYO  1.099493e+07   CAG PUT  2007   \n",
              "10           5                     CATATUMBO  7.720632e+05       CAT  2007   \n",
              "11           6                   CAUCA PATIA  1.282331e+06   CAU PAT  2007   \n",
              "12           8               CESAR RANCHERIA  1.168550e+06   CES RAN  2007   \n",
              "13           9                         CHOCO  3.891897e+06       CHO  2007   \n",
              "14          12           CORDILLERA ORIENTAL  7.174581e+06       COR  2007   \n",
              "15          13                       GUAJIRA  1.385609e+06       GUA  2007   \n",
              "16          14             LLANOS ORIENTALES  2.257066e+07       LLA  2007   \n",
              "17          18                        TUMACO  2.510154e+06       TUM  2007   \n",
              "18          20  VALLE INFERIOR DEL MAGDALENA  3.801740e+06       VIM  2007   \n",
              "19          21     VALLE MEDIO DEL MAGDALENA  3.294942e+06       VMM  2007   \n",
              "20          22  VALLE SUPERIOR DEL MAGDALENA  2.151284e+06       VSM  2007   \n",
              "21          23               VAUPES-AMAZONAS  1.545700e+07  VAU AMAZ  2007   \n",
              "22          17              SINU-SAN JACINTO  3.974779e+06    SIN SJ  2007   \n",
              "23          19                         URABA  9.465012e+05       URA  2007   \n",
              "\n",
              "        TIPO                                        TIPO_2  LOWYTF  BASEYTF  \\\n",
              "0   OFFSHORE                        TRANSTENSIONAL  MARGIN     226      350   \n",
              "1   OFFSHORE                            ACCRETIONARY PRISM       0       50   \n",
              "2   OFFSHORE                                           NaN       0       10   \n",
              "3   OFFSHORE                                           NaN       0       50   \n",
              "4   OFFSHORE                                           NaN       0        0   \n",
              "5   OFFSHORE                                           NaN       0       50   \n",
              "6   OFFSHORE                                           NaN       0       50   \n",
              "7   FRONTERA                                           NaN       0        0   \n",
              "8        NaN                                           NaN       0        0   \n",
              "9     MADURA                                      FORELAND     255      300   \n",
              "10    MADURA                                      FORELAND       0      200   \n",
              "11  FRONTERA                             COLLISION RELATED       0       10   \n",
              "12  FRONTERA                                 INTRAMOUNTAIN      17       44   \n",
              "13  FRONTERA                                     FORE ARC?       0       50   \n",
              "14  FRONTERA                   INVERTED GRABEN / FOLD BELT      16      450   \n",
              "15  FRONTERA                        TRANSTENSIONAL  MARGIN      30      100   \n",
              "16    MADURA                             CENOZOIC FORELAND       0      500   \n",
              "17  FRONTERA                                           NaN       0       50   \n",
              "18    MADURA                                TRANSTENSIONAL     312      450   \n",
              "19    MADURA           POLYHISTORY RIFT TO BROKEN FORELAND       0      600   \n",
              "20    MADURA  POLYHISTORY RIFT SHOULDER TO BROKEN FORELAND       0      550   \n",
              "21  FRONTERA                                           NaN       0        5   \n",
              "22  FRONTERA                            ACCRETIONARY PRISM       0       50   \n",
              "23  FRONTERA                                           NaN       0       10   \n",
              "\n",
              "    HIGHYTF  R_PROBADAS  R_PROBABLE  R_POSIBLES  FID_LIMITE  ObjectID  EntID  \\\n",
              "0      1929           0           0           0          -1         0      0   \n",
              "1       784           0           0           0          -1         0      0   \n",
              "2        11           0           0           0          -1         0      0   \n",
              "3        50           0           0           0          -1         0      0   \n",
              "4         0           0           0           0          -1         0      0   \n",
              "5       798           0           0           0          -1         0      0   \n",
              "6       618           0           0           0          -1         0      0   \n",
              "7         0           0           0           0           0         1      2   \n",
              "8         0           0           0           0           0         1      2   \n",
              "9       955          57         128          51           0         1      2   \n",
              "10      199          26         151          28           0         1      2   \n",
              "11       50           0           0           0           0         1      2   \n",
              "12       49           0           0           0           0         1      2   \n",
              "13      978           0           0           0           0         1      2   \n",
              "14      574         168          19           7           0         1      2   \n",
              "15      185         386          73         785           0         1      2   \n",
              "16     1463         712        1493        2463           0         1      2   \n",
              "17      688           0           0           0           0         1      2   \n",
              "18      510          73          53        1079           0         1      2   \n",
              "19     1014         320         645         276           0         1      2   \n",
              "20      569         135         224         319           0         1      2   \n",
              "21     1240           0           0           0           0         1      2   \n",
              "22     1011           0           0         262           0         1      2   \n",
              "23      199           0           0           0          -1         0      0   \n",
              "\n",
              "                                             geometry  \n",
              "0   POLYGON Z ((1322674.118 1871541.442 0.000, 132...  \n",
              "1   MULTIPOLYGON Z (((953422.143 1752659.478 0.000...  \n",
              "2   POLYGON Z ((443213.279 2287211.920 0.000, 4429...  \n",
              "3   POLYGON Z ((1060075.900 1904657.708 0.000, 102...  \n",
              "4   POLYGON Z ((292094.635 656338.951 0.000, -2248...  \n",
              "5   POLYGON Z ((579790.670 1291077.684 0.000, 5799...  \n",
              "6   POLYGON Z ((467989.621 655792.087 0.000, 29209...  \n",
              "7   POLYGON Z ((806478.855 1183302.583 0.000, 8057...  \n",
              "8   MULTIPOLYGON Z (((1003508.374 1746889.414 0.00...  \n",
              "9   POLYGON Z ((1042217.870 741297.143 0.000, 1048...  \n",
              "10  POLYGON Z ((1118019.312 1518993.402 0.000, 111...  \n",
              "11  POLYGON Z ((805405.031 1052125.845 0.000, 8039...  \n",
              "12  POLYGON Z ((1151578.844 1725538.537 0.000, 115...  \n",
              "13  POLYGON Z ((655212.046 1368919.742 0.000, 6553...  \n",
              "14  POLYGON Z ((1176852.058 1337805.521 0.000, 117...  \n",
              "15  POLYGON Z ((1262240.182 1870575.139 0.000, 126...  \n",
              "16  POLYGON Z ((1375562.742 1277436.060 0.000, 137...  \n",
              "17  POLYGON Z ((701378.257 930061.263 0.000, 69674...  \n",
              "18  POLYGON Z ((1016992.175 1597182.465 0.000, 101...  \n",
              "19  POLYGON Z ((1048134.345 1506075.666 0.000, 104...  \n",
              "20  POLYGON Z ((879973.598 798711.212 0.000, 87526...  \n",
              "21  MULTIPOLYGON Z (((1419379.360 609617.750 0.000...  \n",
              "22  POLYGON Z ((917048.979 1719084.167 0.000, 9171...  \n",
              "23  POLYGON Z ((680413.182 1471139.138 0.000, 6907...  "
            ],
            "text/html": [
              "\n",
              "  <div id=\"df-ea50ca1e-cf31-428f-90c9-47118135f843\">\n",
              "    <div class=\"colab-df-container\">\n",
              "      <div>\n",
              "<style scoped>\n",
              "    .dataframe tbody tr th:only-of-type {\n",
              "        vertical-align: middle;\n",
              "    }\n",
              "\n",
              "    .dataframe tbody tr th {\n",
              "        vertical-align: top;\n",
              "    }\n",
              "\n",
              "    .dataframe thead th {\n",
              "        text-align: right;\n",
              "    }\n",
              "</style>\n",
              "<table border=\"1\" class=\"dataframe\">\n",
              "  <thead>\n",
              "    <tr style=\"text-align: right;\">\n",
              "      <th></th>\n",
              "      <th>FID_CUENCA</th>\n",
              "      <th>NOMBRE</th>\n",
              "      <th>AREA</th>\n",
              "      <th>NMG</th>\n",
              "      <th>AÑO</th>\n",
              "      <th>TIPO</th>\n",
              "      <th>TIPO_2</th>\n",
              "      <th>LOWYTF</th>\n",
              "      <th>BASEYTF</th>\n",
              "      <th>HIGHYTF</th>\n",
              "      <th>R_PROBADAS</th>\n",
              "      <th>R_PROBABLE</th>\n",
              "      <th>R_POSIBLES</th>\n",
              "      <th>FID_LIMITE</th>\n",
              "      <th>ObjectID</th>\n",
              "      <th>EntID</th>\n",
              "      <th>geometry</th>\n",
              "    </tr>\n",
              "  </thead>\n",
              "  <tbody>\n",
              "    <tr>\n",
              "      <th>0</th>\n",
              "      <td>3</td>\n",
              "      <td>GUAJIRA OFFSHORE</td>\n",
              "      <td>5.274678e+06</td>\n",
              "      <td>GUA OFF</td>\n",
              "      <td>2007</td>\n",
              "      <td>OFFSHORE</td>\n",
              "      <td>TRANSTENSIONAL  MARGIN</td>\n",
              "      <td>226</td>\n",
              "      <td>350</td>\n",
              "      <td>1929</td>\n",
              "      <td>0</td>\n",
              "      <td>0</td>\n",
              "      <td>0</td>\n",
              "      <td>-1</td>\n",
              "      <td>0</td>\n",
              "      <td>0</td>\n",
              "      <td>POLYGON Z ((1322674.118 1871541.442 0.000, 132...</td>\n",
              "    </tr>\n",
              "    <tr>\n",
              "      <th>1</th>\n",
              "      <td>4</td>\n",
              "      <td>SINU OFFSHORE</td>\n",
              "      <td>2.947888e+06</td>\n",
              "      <td>SIN OFF</td>\n",
              "      <td>2007</td>\n",
              "      <td>OFFSHORE</td>\n",
              "      <td>ACCRETIONARY PRISM</td>\n",
              "      <td>0</td>\n",
              "      <td>50</td>\n",
              "      <td>784</td>\n",
              "      <td>0</td>\n",
              "      <td>0</td>\n",
              "      <td>0</td>\n",
              "      <td>-1</td>\n",
              "      <td>0</td>\n",
              "      <td>0</td>\n",
              "      <td>MULTIPOLYGON Z (((953422.143 1752659.478 0.000...</td>\n",
              "    </tr>\n",
              "    <tr>\n",
              "      <th>2</th>\n",
              "      <td>7</td>\n",
              "      <td>LOS CAYOS</td>\n",
              "      <td>1.445157e+07</td>\n",
              "      <td>CAY</td>\n",
              "      <td>2007</td>\n",
              "      <td>OFFSHORE</td>\n",
              "      <td>NaN</td>\n",
              "      <td>0</td>\n",
              "      <td>10</td>\n",
              "      <td>11</td>\n",
              "      <td>0</td>\n",
              "      <td>0</td>\n",
              "      <td>0</td>\n",
              "      <td>-1</td>\n",
              "      <td>0</td>\n",
              "      <td>0</td>\n",
              "      <td>POLYGON Z ((443213.279 2287211.920 0.000, 4429...</td>\n",
              "    </tr>\n",
              "    <tr>\n",
              "      <th>3</th>\n",
              "      <td>10</td>\n",
              "      <td>COLOMBIA</td>\n",
              "      <td>2.566933e+07</td>\n",
              "      <td>COL</td>\n",
              "      <td>2007</td>\n",
              "      <td>OFFSHORE</td>\n",
              "      <td>NaN</td>\n",
              "      <td>0</td>\n",
              "      <td>50</td>\n",
              "      <td>50</td>\n",
              "      <td>0</td>\n",
              "      <td>0</td>\n",
              "      <td>0</td>\n",
              "      <td>-1</td>\n",
              "      <td>0</td>\n",
              "      <td>0</td>\n",
              "      <td>POLYGON Z ((1060075.900 1904657.708 0.000, 102...</td>\n",
              "    </tr>\n",
              "    <tr>\n",
              "      <th>4</th>\n",
              "      <td>11</td>\n",
              "      <td>PACIFICO PROFUNDO COLOMBIANO</td>\n",
              "      <td>2.698517e+07</td>\n",
              "      <td>PAC PRF</td>\n",
              "      <td>2007</td>\n",
              "      <td>OFFSHORE</td>\n",
              "      <td>NaN</td>\n",
              "      <td>0</td>\n",
              "      <td>0</td>\n",
              "      <td>0</td>\n",
              "      <td>0</td>\n",
              "      <td>0</td>\n",
              "      <td>0</td>\n",
              "      <td>-1</td>\n",
              "      <td>0</td>\n",
              "      <td>0</td>\n",
              "      <td>POLYGON Z ((292094.635 656338.951 0.000, -2248...</td>\n",
              "    </tr>\n",
              "    <tr>\n",
              "      <th>5</th>\n",
              "      <td>15</td>\n",
              "      <td>CHOCO OFFSHORE</td>\n",
              "      <td>3.746078e+06</td>\n",
              "      <td>CHO OFF</td>\n",
              "      <td>2007</td>\n",
              "      <td>OFFSHORE</td>\n",
              "      <td>NaN</td>\n",
              "      <td>0</td>\n",
              "      <td>50</td>\n",
              "      <td>798</td>\n",
              "      <td>0</td>\n",
              "      <td>0</td>\n",
              "      <td>0</td>\n",
              "      <td>-1</td>\n",
              "      <td>0</td>\n",
              "      <td>0</td>\n",
              "      <td>POLYGON Z ((579790.670 1291077.684 0.000, 5799...</td>\n",
              "    </tr>\n",
              "    <tr>\n",
              "      <th>6</th>\n",
              "      <td>16</td>\n",
              "      <td>TUMACO OFFSHORE</td>\n",
              "      <td>3.232512e+06</td>\n",
              "      <td>TUM OFF</td>\n",
              "      <td>2007</td>\n",
              "      <td>OFFSHORE</td>\n",
              "      <td>NaN</td>\n",
              "      <td>0</td>\n",
              "      <td>50</td>\n",
              "      <td>618</td>\n",
              "      <td>0</td>\n",
              "      <td>0</td>\n",
              "      <td>0</td>\n",
              "      <td>-1</td>\n",
              "      <td>0</td>\n",
              "      <td>0</td>\n",
              "      <td>POLYGON Z ((467989.621 655792.087 0.000, 29209...</td>\n",
              "    </tr>\n",
              "    <tr>\n",
              "      <th>7</th>\n",
              "      <td>0</td>\n",
              "      <td>AMAGA</td>\n",
              "      <td>2.824929e+05</td>\n",
              "      <td>AMA</td>\n",
              "      <td>2007</td>\n",
              "      <td>FRONTERA</td>\n",
              "      <td>NaN</td>\n",
              "      <td>0</td>\n",
              "      <td>0</td>\n",
              "      <td>0</td>\n",
              "      <td>0</td>\n",
              "      <td>0</td>\n",
              "      <td>0</td>\n",
              "      <td>0</td>\n",
              "      <td>1</td>\n",
              "      <td>2</td>\n",
              "      <td>POLYGON Z ((806478.855 1183302.583 0.000, 8057...</td>\n",
              "    </tr>\n",
              "    <tr>\n",
              "      <th>8</th>\n",
              "      <td>1</td>\n",
              "      <td>AREA NO PROSPECTIVA</td>\n",
              "      <td>3.282873e+07</td>\n",
              "      <td>ANP</td>\n",
              "      <td>2007</td>\n",
              "      <td>NaN</td>\n",
              "      <td>NaN</td>\n",
              "      <td>0</td>\n",
              "      <td>0</td>\n",
              "      <td>0</td>\n",
              "      <td>0</td>\n",
              "      <td>0</td>\n",
              "      <td>0</td>\n",
              "      <td>0</td>\n",
              "      <td>1</td>\n",
              "      <td>2</td>\n",
              "      <td>MULTIPOLYGON Z (((1003508.374 1746889.414 0.00...</td>\n",
              "    </tr>\n",
              "    <tr>\n",
              "      <th>9</th>\n",
              "      <td>2</td>\n",
              "      <td>CAGUAN-PUTUMAYO</td>\n",
              "      <td>1.099493e+07</td>\n",
              "      <td>CAG PUT</td>\n",
              "      <td>2007</td>\n",
              "      <td>MADURA</td>\n",
              "      <td>FORELAND</td>\n",
              "      <td>255</td>\n",
              "      <td>300</td>\n",
              "      <td>955</td>\n",
              "      <td>57</td>\n",
              "      <td>128</td>\n",
              "      <td>51</td>\n",
              "      <td>0</td>\n",
              "      <td>1</td>\n",
              "      <td>2</td>\n",
              "      <td>POLYGON Z ((1042217.870 741297.143 0.000, 1048...</td>\n",
              "    </tr>\n",
              "    <tr>\n",
              "      <th>10</th>\n",
              "      <td>5</td>\n",
              "      <td>CATATUMBO</td>\n",
              "      <td>7.720632e+05</td>\n",
              "      <td>CAT</td>\n",
              "      <td>2007</td>\n",
              "      <td>MADURA</td>\n",
              "      <td>FORELAND</td>\n",
              "      <td>0</td>\n",
              "      <td>200</td>\n",
              "      <td>199</td>\n",
              "      <td>26</td>\n",
              "      <td>151</td>\n",
              "      <td>28</td>\n",
              "      <td>0</td>\n",
              "      <td>1</td>\n",
              "      <td>2</td>\n",
              "      <td>POLYGON Z ((1118019.312 1518993.402 0.000, 111...</td>\n",
              "    </tr>\n",
              "    <tr>\n",
              "      <th>11</th>\n",
              "      <td>6</td>\n",
              "      <td>CAUCA PATIA</td>\n",
              "      <td>1.282331e+06</td>\n",
              "      <td>CAU PAT</td>\n",
              "      <td>2007</td>\n",
              "      <td>FRONTERA</td>\n",
              "      <td>COLLISION RELATED</td>\n",
              "      <td>0</td>\n",
              "      <td>10</td>\n",
              "      <td>50</td>\n",
              "      <td>0</td>\n",
              "      <td>0</td>\n",
              "      <td>0</td>\n",
              "      <td>0</td>\n",
              "      <td>1</td>\n",
              "      <td>2</td>\n",
              "      <td>POLYGON Z ((805405.031 1052125.845 0.000, 8039...</td>\n",
              "    </tr>\n",
              "    <tr>\n",
              "      <th>12</th>\n",
              "      <td>8</td>\n",
              "      <td>CESAR RANCHERIA</td>\n",
              "      <td>1.168550e+06</td>\n",
              "      <td>CES RAN</td>\n",
              "      <td>2007</td>\n",
              "      <td>FRONTERA</td>\n",
              "      <td>INTRAMOUNTAIN</td>\n",
              "      <td>17</td>\n",
              "      <td>44</td>\n",
              "      <td>49</td>\n",
              "      <td>0</td>\n",
              "      <td>0</td>\n",
              "      <td>0</td>\n",
              "      <td>0</td>\n",
              "      <td>1</td>\n",
              "      <td>2</td>\n",
              "      <td>POLYGON Z ((1151578.844 1725538.537 0.000, 115...</td>\n",
              "    </tr>\n",
              "    <tr>\n",
              "      <th>13</th>\n",
              "      <td>9</td>\n",
              "      <td>CHOCO</td>\n",
              "      <td>3.891897e+06</td>\n",
              "      <td>CHO</td>\n",
              "      <td>2007</td>\n",
              "      <td>FRONTERA</td>\n",
              "      <td>FORE ARC?</td>\n",
              "      <td>0</td>\n",
              "      <td>50</td>\n",
              "      <td>978</td>\n",
              "      <td>0</td>\n",
              "      <td>0</td>\n",
              "      <td>0</td>\n",
              "      <td>0</td>\n",
              "      <td>1</td>\n",
              "      <td>2</td>\n",
              "      <td>POLYGON Z ((655212.046 1368919.742 0.000, 6553...</td>\n",
              "    </tr>\n",
              "    <tr>\n",
              "      <th>14</th>\n",
              "      <td>12</td>\n",
              "      <td>CORDILLERA ORIENTAL</td>\n",
              "      <td>7.174581e+06</td>\n",
              "      <td>COR</td>\n",
              "      <td>2007</td>\n",
              "      <td>FRONTERA</td>\n",
              "      <td>INVERTED GRABEN / FOLD BELT</td>\n",
              "      <td>16</td>\n",
              "      <td>450</td>\n",
              "      <td>574</td>\n",
              "      <td>168</td>\n",
              "      <td>19</td>\n",
              "      <td>7</td>\n",
              "      <td>0</td>\n",
              "      <td>1</td>\n",
              "      <td>2</td>\n",
              "      <td>POLYGON Z ((1176852.058 1337805.521 0.000, 117...</td>\n",
              "    </tr>\n",
              "    <tr>\n",
              "      <th>15</th>\n",
              "      <td>13</td>\n",
              "      <td>GUAJIRA</td>\n",
              "      <td>1.385609e+06</td>\n",
              "      <td>GUA</td>\n",
              "      <td>2007</td>\n",
              "      <td>FRONTERA</td>\n",
              "      <td>TRANSTENSIONAL  MARGIN</td>\n",
              "      <td>30</td>\n",
              "      <td>100</td>\n",
              "      <td>185</td>\n",
              "      <td>386</td>\n",
              "      <td>73</td>\n",
              "      <td>785</td>\n",
              "      <td>0</td>\n",
              "      <td>1</td>\n",
              "      <td>2</td>\n",
              "      <td>POLYGON Z ((1262240.182 1870575.139 0.000, 126...</td>\n",
              "    </tr>\n",
              "    <tr>\n",
              "      <th>16</th>\n",
              "      <td>14</td>\n",
              "      <td>LLANOS ORIENTALES</td>\n",
              "      <td>2.257066e+07</td>\n",
              "      <td>LLA</td>\n",
              "      <td>2007</td>\n",
              "      <td>MADURA</td>\n",
              "      <td>CENOZOIC FORELAND</td>\n",
              "      <td>0</td>\n",
              "      <td>500</td>\n",
              "      <td>1463</td>\n",
              "      <td>712</td>\n",
              "      <td>1493</td>\n",
              "      <td>2463</td>\n",
              "      <td>0</td>\n",
              "      <td>1</td>\n",
              "      <td>2</td>\n",
              "      <td>POLYGON Z ((1375562.742 1277436.060 0.000, 137...</td>\n",
              "    </tr>\n",
              "    <tr>\n",
              "      <th>17</th>\n",
              "      <td>18</td>\n",
              "      <td>TUMACO</td>\n",
              "      <td>2.510154e+06</td>\n",
              "      <td>TUM</td>\n",
              "      <td>2007</td>\n",
              "      <td>FRONTERA</td>\n",
              "      <td>NaN</td>\n",
              "      <td>0</td>\n",
              "      <td>50</td>\n",
              "      <td>688</td>\n",
              "      <td>0</td>\n",
              "      <td>0</td>\n",
              "      <td>0</td>\n",
              "      <td>0</td>\n",
              "      <td>1</td>\n",
              "      <td>2</td>\n",
              "      <td>POLYGON Z ((701378.257 930061.263 0.000, 69674...</td>\n",
              "    </tr>\n",
              "    <tr>\n",
              "      <th>18</th>\n",
              "      <td>20</td>\n",
              "      <td>VALLE INFERIOR DEL MAGDALENA</td>\n",
              "      <td>3.801740e+06</td>\n",
              "      <td>VIM</td>\n",
              "      <td>2007</td>\n",
              "      <td>MADURA</td>\n",
              "      <td>TRANSTENSIONAL</td>\n",
              "      <td>312</td>\n",
              "      <td>450</td>\n",
              "      <td>510</td>\n",
              "      <td>73</td>\n",
              "      <td>53</td>\n",
              "      <td>1079</td>\n",
              "      <td>0</td>\n",
              "      <td>1</td>\n",
              "      <td>2</td>\n",
              "      <td>POLYGON Z ((1016992.175 1597182.465 0.000, 101...</td>\n",
              "    </tr>\n",
              "    <tr>\n",
              "      <th>19</th>\n",
              "      <td>21</td>\n",
              "      <td>VALLE MEDIO DEL MAGDALENA</td>\n",
              "      <td>3.294942e+06</td>\n",
              "      <td>VMM</td>\n",
              "      <td>2007</td>\n",
              "      <td>MADURA</td>\n",
              "      <td>POLYHISTORY RIFT TO BROKEN FORELAND</td>\n",
              "      <td>0</td>\n",
              "      <td>600</td>\n",
              "      <td>1014</td>\n",
              "      <td>320</td>\n",
              "      <td>645</td>\n",
              "      <td>276</td>\n",
              "      <td>0</td>\n",
              "      <td>1</td>\n",
              "      <td>2</td>\n",
              "      <td>POLYGON Z ((1048134.345 1506075.666 0.000, 104...</td>\n",
              "    </tr>\n",
              "    <tr>\n",
              "      <th>20</th>\n",
              "      <td>22</td>\n",
              "      <td>VALLE SUPERIOR DEL MAGDALENA</td>\n",
              "      <td>2.151284e+06</td>\n",
              "      <td>VSM</td>\n",
              "      <td>2007</td>\n",
              "      <td>MADURA</td>\n",
              "      <td>POLYHISTORY RIFT SHOULDER TO BROKEN FORELAND</td>\n",
              "      <td>0</td>\n",
              "      <td>550</td>\n",
              "      <td>569</td>\n",
              "      <td>135</td>\n",
              "      <td>224</td>\n",
              "      <td>319</td>\n",
              "      <td>0</td>\n",
              "      <td>1</td>\n",
              "      <td>2</td>\n",
              "      <td>POLYGON Z ((879973.598 798711.212 0.000, 87526...</td>\n",
              "    </tr>\n",
              "    <tr>\n",
              "      <th>21</th>\n",
              "      <td>23</td>\n",
              "      <td>VAUPES-AMAZONAS</td>\n",
              "      <td>1.545700e+07</td>\n",
              "      <td>VAU AMAZ</td>\n",
              "      <td>2007</td>\n",
              "      <td>FRONTERA</td>\n",
              "      <td>NaN</td>\n",
              "      <td>0</td>\n",
              "      <td>5</td>\n",
              "      <td>1240</td>\n",
              "      <td>0</td>\n",
              "      <td>0</td>\n",
              "      <td>0</td>\n",
              "      <td>0</td>\n",
              "      <td>1</td>\n",
              "      <td>2</td>\n",
              "      <td>MULTIPOLYGON Z (((1419379.360 609617.750 0.000...</td>\n",
              "    </tr>\n",
              "    <tr>\n",
              "      <th>22</th>\n",
              "      <td>17</td>\n",
              "      <td>SINU-SAN JACINTO</td>\n",
              "      <td>3.974779e+06</td>\n",
              "      <td>SIN SJ</td>\n",
              "      <td>2007</td>\n",
              "      <td>FRONTERA</td>\n",
              "      <td>ACCRETIONARY PRISM</td>\n",
              "      <td>0</td>\n",
              "      <td>50</td>\n",
              "      <td>1011</td>\n",
              "      <td>0</td>\n",
              "      <td>0</td>\n",
              "      <td>262</td>\n",
              "      <td>0</td>\n",
              "      <td>1</td>\n",
              "      <td>2</td>\n",
              "      <td>POLYGON Z ((917048.979 1719084.167 0.000, 9171...</td>\n",
              "    </tr>\n",
              "    <tr>\n",
              "      <th>23</th>\n",
              "      <td>19</td>\n",
              "      <td>URABA</td>\n",
              "      <td>9.465012e+05</td>\n",
              "      <td>URA</td>\n",
              "      <td>2007</td>\n",
              "      <td>FRONTERA</td>\n",
              "      <td>NaN</td>\n",
              "      <td>0</td>\n",
              "      <td>10</td>\n",
              "      <td>199</td>\n",
              "      <td>0</td>\n",
              "      <td>0</td>\n",
              "      <td>0</td>\n",
              "      <td>-1</td>\n",
              "      <td>0</td>\n",
              "      <td>0</td>\n",
              "      <td>POLYGON Z ((680413.182 1471139.138 0.000, 6907...</td>\n",
              "    </tr>\n",
              "  </tbody>\n",
              "</table>\n",
              "</div>\n",
              "      <button class=\"colab-df-convert\" onclick=\"convertToInteractive('df-ea50ca1e-cf31-428f-90c9-47118135f843')\"\n",
              "              title=\"Convert this dataframe to an interactive table.\"\n",
              "              style=\"display:none;\">\n",
              "        \n",
              "  <svg xmlns=\"http://www.w3.org/2000/svg\" height=\"24px\"viewBox=\"0 0 24 24\"\n",
              "       width=\"24px\">\n",
              "    <path d=\"M0 0h24v24H0V0z\" fill=\"none\"/>\n",
              "    <path d=\"M18.56 5.44l.94 2.06.94-2.06 2.06-.94-2.06-.94-.94-2.06-.94 2.06-2.06.94zm-11 1L8.5 8.5l.94-2.06 2.06-.94-2.06-.94L8.5 2.5l-.94 2.06-2.06.94zm10 10l.94 2.06.94-2.06 2.06-.94-2.06-.94-.94-2.06-.94 2.06-2.06.94z\"/><path d=\"M17.41 7.96l-1.37-1.37c-.4-.4-.92-.59-1.43-.59-.52 0-1.04.2-1.43.59L10.3 9.45l-7.72 7.72c-.78.78-.78 2.05 0 2.83L4 21.41c.39.39.9.59 1.41.59.51 0 1.02-.2 1.41-.59l7.78-7.78 2.81-2.81c.8-.78.8-2.07 0-2.86zM5.41 20L4 18.59l7.72-7.72 1.47 1.35L5.41 20z\"/>\n",
              "  </svg>\n",
              "      </button>\n",
              "      \n",
              "  <style>\n",
              "    .colab-df-container {\n",
              "      display:flex;\n",
              "      flex-wrap:wrap;\n",
              "      gap: 12px;\n",
              "    }\n",
              "\n",
              "    .colab-df-convert {\n",
              "      background-color: #E8F0FE;\n",
              "      border: none;\n",
              "      border-radius: 50%;\n",
              "      cursor: pointer;\n",
              "      display: none;\n",
              "      fill: #1967D2;\n",
              "      height: 32px;\n",
              "      padding: 0 0 0 0;\n",
              "      width: 32px;\n",
              "    }\n",
              "\n",
              "    .colab-df-convert:hover {\n",
              "      background-color: #E2EBFA;\n",
              "      box-shadow: 0px 1px 2px rgba(60, 64, 67, 0.3), 0px 1px 3px 1px rgba(60, 64, 67, 0.15);\n",
              "      fill: #174EA6;\n",
              "    }\n",
              "\n",
              "    [theme=dark] .colab-df-convert {\n",
              "      background-color: #3B4455;\n",
              "      fill: #D2E3FC;\n",
              "    }\n",
              "\n",
              "    [theme=dark] .colab-df-convert:hover {\n",
              "      background-color: #434B5C;\n",
              "      box-shadow: 0px 1px 3px 1px rgba(0, 0, 0, 0.15);\n",
              "      filter: drop-shadow(0px 1px 2px rgba(0, 0, 0, 0.3));\n",
              "      fill: #FFFFFF;\n",
              "    }\n",
              "  </style>\n",
              "\n",
              "      <script>\n",
              "        const buttonEl =\n",
              "          document.querySelector('#df-ea50ca1e-cf31-428f-90c9-47118135f843 button.colab-df-convert');\n",
              "        buttonEl.style.display =\n",
              "          google.colab.kernel.accessAllowed ? 'block' : 'none';\n",
              "\n",
              "        async function convertToInteractive(key) {\n",
              "          const element = document.querySelector('#df-ea50ca1e-cf31-428f-90c9-47118135f843');\n",
              "          const dataTable =\n",
              "            await google.colab.kernel.invokeFunction('convertToInteractive',\n",
              "                                                     [key], {});\n",
              "          if (!dataTable) return;\n",
              "\n",
              "          const docLinkHtml = 'Like what you see? Visit the ' +\n",
              "            '<a target=\"_blank\" href=https://colab.research.google.com/notebooks/data_table.ipynb>data table notebook</a>'\n",
              "            + ' to learn more about interactive tables.';\n",
              "          element.innerHTML = '';\n",
              "          dataTable['output_type'] = 'display_data';\n",
              "          await google.colab.output.renderOutput(dataTable, element);\n",
              "          const docLink = document.createElement('div');\n",
              "          docLink.innerHTML = docLinkHtml;\n",
              "          element.appendChild(docLink);\n",
              "        }\n",
              "      </script>\n",
              "    </div>\n",
              "  </div>\n",
              "  "
            ]
          },
          "metadata": {},
          "execution_count": 53
        }
      ]
    },
    {
      "cell_type": "code",
      "source": [
        "Cuencas.plot();"
      ],
      "metadata": {
        "colab": {
          "base_uri": "https://localhost:8080/"
        },
        "id": "425bVnnNIsK3",
        "outputId": "56f62f84-d1b3-43e4-c460-1f8bb4037174"
      },
      "execution_count": null,
      "outputs": [
        {
          "output_type": "display_data",
          "data": {
            "text/plain": [
              "<Figure size 640x480 with 1 Axes>"
            ],
            "image/png": "[encoded data removed]"
          },
          "metadata": {}
        }
      ]
    },
    {
      "cell_type": "code",
      "source": [
        "import matplotlib.pyplot as plt\n",
        "fig, ax = plt.subplots(figsize=(12,10))\n",
        "Cuencas.plot(column='NOMBRE', ax=ax);"
      ],
      "metadata": {
        "colab": {
          "base_uri": "https://localhost:8080/"
        },
        "id": "aFdvIv6GIxau",
        "outputId": "51639132-d993-40fb-8cf9-71c11e05f431"
      },
      "execution_count": null,
      "outputs": [
        {
          "output_type": "display_data",
          "data": {
            "text/plain": [
              "<Figure size 1200x1000 with 1 Axes>"
            ],
            "image/png": "[encoded data removed]"
          },
          "metadata": {}
        }
      ]
    },
    {
      "cell_type": "code",
      "source": [
        "SSJ = gpd.read_file(\"/content/drive/MyDrive/DATA_ProyectoAG/Datos creados/Sinu_SanJacinto.shp\")"
      ],
      "metadata": {
        "id": "XVuKuCNNAndJ"
      },
      "execution_count": null,
      "outputs": []
    },
    {
      "cell_type": "code",
      "source": [
        "SSJ.head(4)"
      ],
      "metadata": {
        "colab": {
          "base_uri": "https://localhost:8080/"
        },
        "id": "9wizAaxvA8IC",
        "outputId": "1559d47f-5508-4d5b-a2f6-d2100d4aab5e"
      },
      "execution_count": null,
      "outputs": [
        {
          "output_type": "execute_result",
          "data": {
            "text/plain": [
              "   FID_CUENCA            NOMBRE          AREA     NMG   AÑO      TIPO  \\\n",
              "0          17  SINU-SAN JACINTO  3.974779e+06  SIN SJ  2007  FRONTERA   \n",
              "\n",
              "               TIPO_2  LOWYTF  BASEYTF  HIGHYTF  R_PROBADAS  R_PROBABLE  \\\n",
              "0  ACCRETIONARY PRISM       0       50     1011           0           0   \n",
              "\n",
              "   R_POSIBLES  FID_LIMITE  ObjectID  EntID  \\\n",
              "0         262           0         1      2   \n",
              "\n",
              "                                            geometry  \n",
              "0  POLYGON Z ((917048.979 1719084.167 0.000, 9171...  "
            ],
            "text/html": [
              "\n",
              "  <div id=\"df-105923cf-5537-42ae-9e9d-94694ba0e459\">\n",
              "    <div class=\"colab-df-container\">\n",
              "      <div>\n",
              "<style scoped>\n",
              "    .dataframe tbody tr th:only-of-type {\n",
              "        vertical-align: middle;\n",
              "    }\n",
              "\n",
              "    .dataframe tbody tr th {\n",
              "        vertical-align: top;\n",
              "    }\n",
              "\n",
              "    .dataframe thead th {\n",
              "        text-align: right;\n",
              "    }\n",
              "</style>\n",
              "<table border=\"1\" class=\"dataframe\">\n",
              "  <thead>\n",
              "    <tr style=\"text-align: right;\">\n",
              "      <th></th>\n",
              "      <th>FID_CUENCA</th>\n",
              "      <th>NOMBRE</th>\n",
              "      <th>AREA</th>\n",
              "      <th>NMG</th>\n",
              "      <th>AÑO</th>\n",
              "      <th>TIPO</th>\n",
              "      <th>TIPO_2</th>\n",
              "      <th>LOWYTF</th>\n",
              "      <th>BASEYTF</th>\n",
              "      <th>HIGHYTF</th>\n",
              "      <th>R_PROBADAS</th>\n",
              "      <th>R_PROBABLE</th>\n",
              "      <th>R_POSIBLES</th>\n",
              "      <th>FID_LIMITE</th>\n",
              "      <th>ObjectID</th>\n",
              "      <th>EntID</th>\n",
              "      <th>geometry</th>\n",
              "    </tr>\n",
              "  </thead>\n",
              "  <tbody>\n",
              "    <tr>\n",
              "      <th>0</th>\n",
              "      <td>17</td>\n",
              "      <td>SINU-SAN JACINTO</td>\n",
              "      <td>3.974779e+06</td>\n",
              "      <td>SIN SJ</td>\n",
              "      <td>2007</td>\n",
              "      <td>FRONTERA</td>\n",
              "      <td>ACCRETIONARY PRISM</td>\n",
              "      <td>0</td>\n",
              "      <td>50</td>\n",
              "      <td>1011</td>\n",
              "      <td>0</td>\n",
              "      <td>0</td>\n",
              "      <td>262</td>\n",
              "      <td>0</td>\n",
              "      <td>1</td>\n",
              "      <td>2</td>\n",
              "      <td>POLYGON Z ((917048.979 1719084.167 0.000, 9171...</td>\n",
              "    </tr>\n",
              "  </tbody>\n",
              "</table>\n",
              "</div>\n",
              "      <button class=\"colab-df-convert\" onclick=\"convertToInteractive('df-105923cf-5537-42ae-9e9d-94694ba0e459')\"\n",
              "              title=\"Convert this dataframe to an interactive table.\"\n",
              "              style=\"display:none;\">\n",
              "        \n",
              "  <svg xmlns=\"http://www.w3.org/2000/svg\" height=\"24px\"viewBox=\"0 0 24 24\"\n",
              "       width=\"24px\">\n",
              "    <path d=\"M0 0h24v24H0V0z\" fill=\"none\"/>\n",
              "    <path d=\"M18.56 5.44l.94 2.06.94-2.06 2.06-.94-2.06-.94-.94-2.06-.94 2.06-2.06.94zm-11 1L8.5 8.5l.94-2.06 2.06-.94-2.06-.94L8.5 2.5l-.94 2.06-2.06.94zm10 10l.94 2.06.94-2.06 2.06-.94-2.06-.94-.94-2.06-.94 2.06-2.06.94z\"/><path d=\"M17.41 7.96l-1.37-1.37c-.4-.4-.92-.59-1.43-.59-.52 0-1.04.2-1.43.59L10.3 9.45l-7.72 7.72c-.78.78-.78 2.05 0 2.83L4 21.41c.39.39.9.59 1.41.59.51 0 1.02-.2 1.41-.59l7.78-7.78 2.81-2.81c.8-.78.8-2.07 0-2.86zM5.41 20L4 18.59l7.72-7.72 1.47 1.35L5.41 20z\"/>\n",
              "  </svg>\n",
              "      </button>\n",
              "      \n",
              "  <style>\n",
              "    .colab-df-container {\n",
              "      display:flex;\n",
              "      flex-wrap:wrap;\n",
              "      gap: 12px;\n",
              "    }\n",
              "\n",
              "    .colab-df-convert {\n",
              "      background-color: #E8F0FE;\n",
              "      border: none;\n",
              "      border-radius: 50%;\n",
              "      cursor: pointer;\n",
              "      display: none;\n",
              "      fill: #1967D2;\n",
              "      height: 32px;\n",
              "      padding: 0 0 0 0;\n",
              "      width: 32px;\n",
              "    }\n",
              "\n",
              "    .colab-df-convert:hover {\n",
              "      background-color: #E2EBFA;\n",
              "      box-shadow: 0px 1px 2px rgba(60, 64, 67, 0.3), 0px 1px 3px 1px rgba(60, 64, 67, 0.15);\n",
              "      fill: #174EA6;\n",
              "    }\n",
              "\n",
              "    [theme=dark] .colab-df-convert {\n",
              "      background-color: #3B4455;\n",
              "      fill: #D2E3FC;\n",
              "    }\n",
              "\n",
              "    [theme=dark] .colab-df-convert:hover {\n",
              "      background-color: #434B5C;\n",
              "      box-shadow: 0px 1px 3px 1px rgba(0, 0, 0, 0.15);\n",
              "      filter: drop-shadow(0px 1px 2px rgba(0, 0, 0, 0.3));\n",
              "      fill: #FFFFFF;\n",
              "    }\n",
              "  </style>\n",
              "\n",
              "      <script>\n",
              "        const buttonEl =\n",
              "          document.querySelector('#df-105923cf-5537-42ae-9e9d-94694ba0e459 button.colab-df-convert');\n",
              "        buttonEl.style.display =\n",
              "          google.colab.kernel.accessAllowed ? 'block' : 'none';\n",
              "\n",
              "        async function convertToInteractive(key) {\n",
              "          const element = document.querySelector('#df-105923cf-5537-42ae-9e9d-94694ba0e459');\n",
              "          const dataTable =\n",
              "            await google.colab.kernel.invokeFunction('convertToInteractive',\n",
              "                                                     [key], {});\n",
              "          if (!dataTable) return;\n",
              "\n",
              "          const docLinkHtml = 'Like what you see? Visit the ' +\n",
              "            '<a target=\"_blank\" href=https://colab.research.google.com/notebooks/data_table.ipynb>data table notebook</a>'\n",
              "            + ' to learn more about interactive tables.';\n",
              "          element.innerHTML = '';\n",
              "          dataTable['output_type'] = 'display_data';\n",
              "          await google.colab.output.renderOutput(dataTable, element);\n",
              "          const docLink = document.createElement('div');\n",
              "          docLink.innerHTML = docLinkHtml;\n",
              "          element.appendChild(docLink);\n",
              "        }\n",
              "      </script>\n",
              "    </div>\n",
              "  </div>\n",
              "  "
            ]
          },
          "metadata": {},
          "execution_count": 57
        }
      ]
    },
    {
      "cell_type": "code",
      "source": [
        "SSJ.plot()"
      ],
      "metadata": {
        "colab": {
          "base_uri": "https://localhost:8080/"
        },
        "id": "1zQLRUysYjNT",
        "outputId": "49a8cc61-509b-42d6-b602-db87fcdfa5d9"
      },
      "execution_count": null,
      "outputs": [
        {
          "output_type": "execute_result",
          "data": {
            "text/plain": [
              "<Axes: >"
            ]
          },
          "metadata": {},
          "execution_count": 58
        },
        {
          "output_type": "display_data",
          "data": {
            "text/plain": [
              "<Figure size 640x480 with 1 Axes>"
            ],
            "image/png": "[encoded data removed]"
          },
          "metadata": {}
        }
      ]
    },
    {
      "cell_type": "markdown",
      "source": [
        "# **3.Emisiones por ciudad**"
      ],
      "metadata": {
        "id": "rUNXGKtj0MzC"
      }
    },
    {
      "cell_type": "code",
      "source": [
        "import pandas as pd"
      ],
      "metadata": {
        "id": "YGDoDHraJLrc"
      },
      "execution_count": null,
      "outputs": []
    },
    {
      "cell_type": "code",
      "source": [
        "!pip install geopandas"
      ],
      "metadata": {
        "colab": {
          "base_uri": "https://localhost:8080/"
        },
        "id": "8gD1cSDGr18J",
        "outputId": "061f4ada-1e80-4e21-9351-b240b28fb937"
      },
      "execution_count": null,
      "outputs": [
        {
          "output_type": "stream",
          "name": "stdout",
          "text": [
            "Looking in indexes: https://pypi.org/simple, https://us-python.pkg.dev/colab-wheels/public/simple/\n",
            "Requirement already satisfied: geopandas in /usr/local/lib/python3.10/dist-packages (0.13.0)\n",
            "Requirement already satisfied: fiona>=1.8.19 in /usr/local/lib/python3.10/dist-packages (from geopandas) (1.9.4.post1)\n",
            "Requirement already satisfied: packaging in /usr/local/lib/python3.10/dist-packages (from geopandas) (23.1)\n",
            "Requirement already satisfied: pandas>=1.1.0 in /usr/local/lib/python3.10/dist-packages (from geopandas) (1.5.3)\n",
            "Requirement already satisfied: pyproj>=3.0.1 in /usr/local/lib/python3.10/dist-packages (from geopandas) (3.5.0)\n",
            "Requirement already satisfied: shapely>=1.7.1 in /usr/local/lib/python3.10/dist-packages (from geopandas) (2.0.1)\n",
            "Requirement already satisfied: attrs>=19.2.0 in /usr/local/lib/python3.10/dist-packages (from fiona>=1.8.19->geopandas) (23.1.0)\n",
            "Requirement already satisfied: certifi in /usr/local/lib/python3.10/dist-packages (from fiona>=1.8.19->geopandas) (2022.12.7)\n",
            "Requirement already satisfied: click~=8.0 in /usr/local/lib/python3.10/dist-packages (from fiona>=1.8.19->geopandas) (8.1.3)\n",
            "Requirement already satisfied: click-plugins>=1.0 in /usr/local/lib/python3.10/dist-packages (from fiona>=1.8.19->geopandas) (1.1.1)\n",
            "Requirement already satisfied: cligj>=0.5 in /usr/local/lib/python3.10/dist-packages (from fiona>=1.8.19->geopandas) (0.7.2)\n",
            "Requirement already satisfied: six in /usr/local/lib/python3.10/dist-packages (from fiona>=1.8.19->geopandas) (1.16.0)\n",
            "Requirement already satisfied: python-dateutil>=2.8.1 in /usr/local/lib/python3.10/dist-packages (from pandas>=1.1.0->geopandas) (2.8.2)\n",
            "Requirement already satisfied: pytz>=2020.1 in /usr/local/lib/python3.10/dist-packages (from pandas>=1.1.0->geopandas) (2022.7.1)\n",
            "Requirement already satisfied: numpy>=1.21.0 in /usr/local/lib/python3.10/dist-packages (from pandas>=1.1.0->geopandas) (1.22.4)\n"
          ]
        }
      ]
    },
    {
      "cell_type": "code",
      "source": [
        "Ciudades = gpd.read_file(\"/content/drive/MyDrive/DATA_ProyectoAG/Datos creados/Emisiones SSJ.shp\")"
      ],
      "metadata": {
        "id": "CJXFwHnayll4"
      },
      "execution_count": null,
      "outputs": []
    },
    {
      "cell_type": "code",
      "source": [
        "max_emisiones = Ciudades['Emisiones'].max()\n",
        "min_emisiones = Ciudades['Emisiones'].min()\n",
        "\n",
        "print(max_emisiones)\n",
        "print(min_emisiones)"
      ],
      "metadata": {
        "colab": {
          "base_uri": "https://localhost:8080/"
        },
        "id": "h_5gTi5S7Epx",
        "outputId": "f84a5132-56e8-4a93-fd1b-47507c63da7c"
      },
      "execution_count": null,
      "outputs": [
        {
          "output_type": "stream",
          "name": "stdout",
          "text": [
            "4171.81\n",
            "6.66\n"
          ]
        }
      ]
    },
    {
      "cell_type": "code",
      "source": [
        "fila_max = Ciudades.loc[Ciudades['Emisiones'] == max_emisiones]\n",
        "\n",
        "print(fila_max)"
      ],
      "metadata": {
        "colab": {
          "base_uri": "https://localhost:8080/"
        },
        "id": "Oa-REITuIA5f",
        "outputId": "b1a89d28-6820-49ef-a9f6-d516e7baf2ec"
      },
      "execution_count": null,
      "outputs": [
        {
          "output_type": "stream",
          "name": "stdout",
          "text": [
            "   DPTO_CCDGO MPIO_CCDGO    MPIO_CNMBR  \\\n",
            "39         08        001  BARRANQUILLA   \n",
            "46         08        433       MALAMBO   \n",
            "58         08        758       SOLEDAD   \n",
            "\n",
            "                                           MPIO_CRSLC  MPIO_NAREA MPIO_CCNCT  \\\n",
            "39  Ordenanza 30 del 5 de Mayo de 1913 Ley 44 del ...  154.202079      08001   \n",
            "46               Ordenanza 24 del 24 de Abril de 1912   97.942337      08433   \n",
            "58                                               1813   59.358357      08758   \n",
            "\n",
            "    MPIO_NANO  DPTO_CNMBR  SHAPE_AREA  SHAPE_LEN     COD  Emisiones  \\\n",
            "39     2020.0  ATLÃNTICO    0.012753   0.814371  8001.0    4171.81   \n",
            "46     2020.0  ATLÃNTICO    0.008097   0.499109  8433.0    4171.81   \n",
            "58     2020.0  ATLÃNTICO    0.004908   0.420027  8758.0    4171.81   \n",
            "\n",
            "    Emisiones2                                           geometry  \n",
            "39     2507.02  MULTIPOLYGON (((913349.678 1713760.426, 913426...  \n",
            "46     2507.02  POLYGON ((918604.160 1696305.952, 918613.208 1...  \n",
            "58     2507.02  POLYGON ((925318.566 1702142.495, 925340.342 1...  \n"
          ]
        }
      ]
    },
    {
      "cell_type": "code",
      "source": [
        "Ciudades.info()"
      ],
      "metadata": {
        "colab": {
          "base_uri": "https://localhost:8080/"
        },
        "id": "RnrkvwVLyy0x",
        "outputId": "8ce73117-bf1e-4b7e-cdfd-61416b2dc59e"
      },
      "execution_count": null,
      "outputs": [
        {
          "output_type": "stream",
          "name": "stdout",
          "text": [
            "<class 'geopandas.geodataframe.GeoDataFrame'>\n",
            "RangeIndex: 86 entries, 0 to 85\n",
            "Data columns (total 14 columns):\n",
            " #   Column      Non-Null Count  Dtype   \n",
            "---  ------      --------------  -----   \n",
            " 0   DPTO_CCDGO  85 non-null     object  \n",
            " 1   MPIO_CCDGO  85 non-null     object  \n",
            " 2   MPIO_CNMBR  85 non-null     object  \n",
            " 3   MPIO_CRSLC  85 non-null     object  \n",
            " 4   MPIO_NAREA  85 non-null     float64 \n",
            " 5   MPIO_CCNCT  85 non-null     object  \n",
            " 6   MPIO_NANO   85 non-null     float64 \n",
            " 7   DPTO_CNMBR  86 non-null     object  \n",
            " 8   SHAPE_AREA  85 non-null     float64 \n",
            " 9   SHAPE_LEN   85 non-null     float64 \n",
            " 10  COD         85 non-null     float64 \n",
            " 11  Emisiones   86 non-null     float64 \n",
            " 12  Emisiones2  86 non-null     float64 \n",
            " 13  geometry    86 non-null     geometry\n",
            "dtypes: float64(7), geometry(1), object(6)\n",
            "memory usage: 9.5+ KB\n"
          ]
        }
      ]
    },
    {
      "cell_type": "code",
      "source": [
        "Ciudades.head(2)"
      ],
      "metadata": {
        "colab": {
          "base_uri": "https://localhost:8080/",
          "height": 315
        },
        "id": "x_4PBcHby6p4",
        "outputId": "6f78726a-404b-4b1d-c33e-4b7e73609fc3"
      },
      "execution_count": null,
      "outputs": [
        {
          "output_type": "execute_result",
          "data": {
            "text/plain": [
              "  DPTO_CCDGO MPIO_CCDGO      MPIO_CNMBR                 MPIO_CRSLC  \\\n",
              "0         13        620  SAN CRISTÃBAL  ORD 36 DE FEBRERO DE 1996   \n",
              "1         13        647  SAN ESTANISLAO                       1936   \n",
              "\n",
              "   MPIO_NAREA MPIO_CCNCT  MPIO_NANO DPTO_CNMBR  SHAPE_AREA  SHAPE_LEN  \\\n",
              "0   42.268805      13620     2020.0   BOLÃVAR    0.003488   0.301725   \n",
              "1  211.639257      13647     2020.0   BOLÃVAR    0.017465   0.715870   \n",
              "\n",
              "       COD  Emisiones  Emisiones2  \\\n",
              "0  13620.0    21.0211     15.3356   \n",
              "1  13647.0    21.0211     15.3356   \n",
              "\n",
              "                                            geometry  \n",
              "0  POLYGON ((890666.098 1643146.065, 890671.003 1...  \n",
              "1  POLYGON ((880654.703 1647646.051, 880666.623 1...  "
            ],
            "text/html": [
              "\n",
              "  <div id=\"df-3f7064e2-9d68-4298-b0dd-16ddff902680\">\n",
              "    <div class=\"colab-df-container\">\n",
              "      <div>\n",
              "<style scoped>\n",
              "    .dataframe tbody tr th:only-of-type {\n",
              "        vertical-align: middle;\n",
              "    }\n",
              "\n",
              "    .dataframe tbody tr th {\n",
              "        vertical-align: top;\n",
              "    }\n",
              "\n",
              "    .dataframe thead th {\n",
              "        text-align: right;\n",
              "    }\n",
              "</style>\n",
              "<table border=\"1\" class=\"dataframe\">\n",
              "  <thead>\n",
              "    <tr style=\"text-align: right;\">\n",
              "      <th></th>\n",
              "      <th>DPTO_CCDGO</th>\n",
              "      <th>MPIO_CCDGO</th>\n",
              "      <th>MPIO_CNMBR</th>\n",
              "      <th>MPIO_CRSLC</th>\n",
              "      <th>MPIO_NAREA</th>\n",
              "      <th>MPIO_CCNCT</th>\n",
              "      <th>MPIO_NANO</th>\n",
              "      <th>DPTO_CNMBR</th>\n",
              "      <th>SHAPE_AREA</th>\n",
              "      <th>SHAPE_LEN</th>\n",
              "      <th>COD</th>\n",
              "      <th>Emisiones</th>\n",
              "      <th>Emisiones2</th>\n",
              "      <th>geometry</th>\n",
              "    </tr>\n",
              "  </thead>\n",
              "  <tbody>\n",
              "    <tr>\n",
              "      <th>0</th>\n",
              "      <td>13</td>\n",
              "      <td>620</td>\n",
              "      <td>SAN CRISTÃBAL</td>\n",
              "      <td>ORD 36 DE FEBRERO DE 1996</td>\n",
              "      <td>42.268805</td>\n",
              "      <td>13620</td>\n",
              "      <td>2020.0</td>\n",
              "      <td>BOLÃVAR</td>\n",
              "      <td>0.003488</td>\n",
              "      <td>0.301725</td>\n",
              "      <td>13620.0</td>\n",
              "      <td>21.0211</td>\n",
              "      <td>15.3356</td>\n",
              "      <td>POLYGON ((890666.098 1643146.065, 890671.003 1...</td>\n",
              "    </tr>\n",
              "    <tr>\n",
              "      <th>1</th>\n",
              "      <td>13</td>\n",
              "      <td>647</td>\n",
              "      <td>SAN ESTANISLAO</td>\n",
              "      <td>1936</td>\n",
              "      <td>211.639257</td>\n",
              "      <td>13647</td>\n",
              "      <td>2020.0</td>\n",
              "      <td>BOLÃVAR</td>\n",
              "      <td>0.017465</td>\n",
              "      <td>0.715870</td>\n",
              "      <td>13647.0</td>\n",
              "      <td>21.0211</td>\n",
              "      <td>15.3356</td>\n",
              "      <td>POLYGON ((880654.703 1647646.051, 880666.623 1...</td>\n",
              "    </tr>\n",
              "  </tbody>\n",
              "</table>\n",
              "</div>\n",
              "      <button class=\"colab-df-convert\" onclick=\"convertToInteractive('df-3f7064e2-9d68-4298-b0dd-16ddff902680')\"\n",
              "              title=\"Convert this dataframe to an interactive table.\"\n",
              "              style=\"display:none;\">\n",
              "        \n",
              "  <svg xmlns=\"http://www.w3.org/2000/svg\" height=\"24px\"viewBox=\"0 0 24 24\"\n",
              "       width=\"24px\">\n",
              "    <path d=\"M0 0h24v24H0V0z\" fill=\"none\"/>\n",
              "    <path d=\"M18.56 5.44l.94 2.06.94-2.06 2.06-.94-2.06-.94-.94-2.06-.94 2.06-2.06.94zm-11 1L8.5 8.5l.94-2.06 2.06-.94-2.06-.94L8.5 2.5l-.94 2.06-2.06.94zm10 10l.94 2.06.94-2.06 2.06-.94-2.06-.94-.94-2.06-.94 2.06-2.06.94z\"/><path d=\"M17.41 7.96l-1.37-1.37c-.4-.4-.92-.59-1.43-.59-.52 0-1.04.2-1.43.59L10.3 9.45l-7.72 7.72c-.78.78-.78 2.05 0 2.83L4 21.41c.39.39.9.59 1.41.59.51 0 1.02-.2 1.41-.59l7.78-7.78 2.81-2.81c.8-.78.8-2.07 0-2.86zM5.41 20L4 18.59l7.72-7.72 1.47 1.35L5.41 20z\"/>\n",
              "  </svg>\n",
              "      </button>\n",
              "      \n",
              "  <style>\n",
              "    .colab-df-container {\n",
              "      display:flex;\n",
              "      flex-wrap:wrap;\n",
              "      gap: 12px;\n",
              "    }\n",
              "\n",
              "    .colab-df-convert {\n",
              "      background-color: #E8F0FE;\n",
              "      border: none;\n",
              "      border-radius: 50%;\n",
              "      cursor: pointer;\n",
              "      display: none;\n",
              "      fill: #1967D2;\n",
              "      height: 32px;\n",
              "      padding: 0 0 0 0;\n",
              "      width: 32px;\n",
              "    }\n",
              "\n",
              "    .colab-df-convert:hover {\n",
              "      background-color: #E2EBFA;\n",
              "      box-shadow: 0px 1px 2px rgba(60, 64, 67, 0.3), 0px 1px 3px 1px rgba(60, 64, 67, 0.15);\n",
              "      fill: #174EA6;\n",
              "    }\n",
              "\n",
              "    [theme=dark] .colab-df-convert {\n",
              "      background-color: #3B4455;\n",
              "      fill: #D2E3FC;\n",
              "    }\n",
              "\n",
              "    [theme=dark] .colab-df-convert:hover {\n",
              "      background-color: #434B5C;\n",
              "      box-shadow: 0px 1px 3px 1px rgba(0, 0, 0, 0.15);\n",
              "      filter: drop-shadow(0px 1px 2px rgba(0, 0, 0, 0.3));\n",
              "      fill: #FFFFFF;\n",
              "    }\n",
              "  </style>\n",
              "\n",
              "      <script>\n",
              "        const buttonEl =\n",
              "          document.querySelector('#df-3f7064e2-9d68-4298-b0dd-16ddff902680 button.colab-df-convert');\n",
              "        buttonEl.style.display =\n",
              "          google.colab.kernel.accessAllowed ? 'block' : 'none';\n",
              "\n",
              "        async function convertToInteractive(key) {\n",
              "          const element = document.querySelector('#df-3f7064e2-9d68-4298-b0dd-16ddff902680');\n",
              "          const dataTable =\n",
              "            await google.colab.kernel.invokeFunction('convertToInteractive',\n",
              "                                                     [key], {});\n",
              "          if (!dataTable) return;\n",
              "\n",
              "          const docLinkHtml = 'Like what you see? Visit the ' +\n",
              "            '<a target=\"_blank\" href=https://colab.research.google.com/notebooks/data_table.ipynb>data table notebook</a>'\n",
              "            + ' to learn more about interactive tables.';\n",
              "          element.innerHTML = '';\n",
              "          dataTable['output_type'] = 'display_data';\n",
              "          await google.colab.output.renderOutput(dataTable, element);\n",
              "          const docLink = document.createElement('div');\n",
              "          docLink.innerHTML = docLinkHtml;\n",
              "          element.appendChild(docLink);\n",
              "        }\n",
              "      </script>\n",
              "    </div>\n",
              "  </div>\n",
              "  "
            ]
          },
          "metadata": {},
          "execution_count": 65
        }
      ]
    },
    {
      "cell_type": "code",
      "source": [
        "Ordenadoporemisiones=Ciudades.sort_values('Emisiones', ascending=False)"
      ],
      "metadata": {
        "id": "xzWvbhicM_7H"
      },
      "execution_count": null,
      "outputs": []
    },
    {
      "cell_type": "code",
      "source": [
        "Ordenadoporemisiones.head(5)"
      ],
      "metadata": {
        "colab": {
          "base_uri": "https://localhost:8080/",
          "height": 530
        },
        "id": "DC5qBakHNqwP",
        "outputId": "503d9bee-e0b5-44ed-b2b0-41d6c1cb12e7"
      },
      "execution_count": null,
      "outputs": [
        {
          "output_type": "execute_result",
          "data": {
            "text/plain": [
              "   DPTO_CCDGO MPIO_CCDGO           MPIO_CNMBR  \\\n",
              "39         08        001         BARRANQUILLA   \n",
              "58         08        758              SOLEDAD   \n",
              "46         08        433              MALAMBO   \n",
              "70         13        442       MARÃA LA BAJA   \n",
              "62         13        001  CARTAGENA DE INDIAS   \n",
              "\n",
              "                                           MPIO_CRSLC  MPIO_NAREA MPIO_CCNCT  \\\n",
              "39  Ordenanza 30 del 5 de Mayo de 1913 Ley 44 del ...  154.202079      08001   \n",
              "58                                               1813   59.358357      08758   \n",
              "46               Ordenanza 24 del 24 de Abril de 1912   97.942337      08433   \n",
              "70        Ley 119 del 14 de Septiembretiembre de 1936  559.917843      13442   \n",
              "62                                               1599  597.681012      13001   \n",
              "\n",
              "    MPIO_NANO  DPTO_CNMBR  SHAPE_AREA  SHAPE_LEN      COD  Emisiones  \\\n",
              "39     2020.0  ATLÃNTICO    0.012753   0.814371   8001.0    4171.81   \n",
              "58     2020.0  ATLÃNTICO    0.004908   0.420027   8758.0    4171.81   \n",
              "46     2020.0  ATLÃNTICO    0.008097   0.499109   8433.0    4171.81   \n",
              "70     2020.0    BOLÃVAR    0.046146   1.404783  13442.0    1869.52   \n",
              "62     2020.0    BOLÃVAR    0.049325   4.239567  13001.0    1869.52   \n",
              "\n",
              "    Emisiones2                                           geometry  \n",
              "39     2507.02  MULTIPOLYGON (((913349.678 1713760.426, 913426...  \n",
              "58     2507.02  POLYGON ((925318.566 1702142.495, 925340.342 1...  \n",
              "46     2507.02  POLYGON ((918604.160 1696305.952, 918613.208 1...  \n",
              "70     1363.88  POLYGON ((865212.388 1608065.176, 865235.068 1...  \n",
              "62     1363.88  MULTIPOLYGON (((840756.832 1617267.966, 840830...  "
            ],
            "text/html": [
              "\n",
              "  <div id=\"df-cd316039-74c5-402b-8afb-71a6266fa2e8\">\n",
              "    <div class=\"colab-df-container\">\n",
              "      <div>\n",
              "<style scoped>\n",
              "    .dataframe tbody tr th:only-of-type {\n",
              "        vertical-align: middle;\n",
              "    }\n",
              "\n",
              "    .dataframe tbody tr th {\n",
              "        vertical-align: top;\n",
              "    }\n",
              "\n",
              "    .dataframe thead th {\n",
              "        text-align: right;\n",
              "    }\n",
              "</style>\n",
              "<table border=\"1\" class=\"dataframe\">\n",
              "  <thead>\n",
              "    <tr style=\"text-align: right;\">\n",
              "      <th></th>\n",
              "      <th>DPTO_CCDGO</th>\n",
              "      <th>MPIO_CCDGO</th>\n",
              "      <th>MPIO_CNMBR</th>\n",
              "      <th>MPIO_CRSLC</th>\n",
              "      <th>MPIO_NAREA</th>\n",
              "      <th>MPIO_CCNCT</th>\n",
              "      <th>MPIO_NANO</th>\n",
              "      <th>DPTO_CNMBR</th>\n",
              "      <th>SHAPE_AREA</th>\n",
              "      <th>SHAPE_LEN</th>\n",
              "      <th>COD</th>\n",
              "      <th>Emisiones</th>\n",
              "      <th>Emisiones2</th>\n",
              "      <th>geometry</th>\n",
              "    </tr>\n",
              "  </thead>\n",
              "  <tbody>\n",
              "    <tr>\n",
              "      <th>39</th>\n",
              "      <td>08</td>\n",
              "      <td>001</td>\n",
              "      <td>BARRANQUILLA</td>\n",
              "      <td>Ordenanza 30 del 5 de Mayo de 1913 Ley 44 del ...</td>\n",
              "      <td>154.202079</td>\n",
              "      <td>08001</td>\n",
              "      <td>2020.0</td>\n",
              "      <td>ATLÃNTICO</td>\n",
              "      <td>0.012753</td>\n",
              "      <td>0.814371</td>\n",
              "      <td>8001.0</td>\n",
              "      <td>4171.81</td>\n",
              "      <td>2507.02</td>\n",
              "      <td>MULTIPOLYGON (((913349.678 1713760.426, 913426...</td>\n",
              "    </tr>\n",
              "    <tr>\n",
              "      <th>58</th>\n",
              "      <td>08</td>\n",
              "      <td>758</td>\n",
              "      <td>SOLEDAD</td>\n",
              "      <td>1813</td>\n",
              "      <td>59.358357</td>\n",
              "      <td>08758</td>\n",
              "      <td>2020.0</td>\n",
              "      <td>ATLÃNTICO</td>\n",
              "      <td>0.004908</td>\n",
              "      <td>0.420027</td>\n",
              "      <td>8758.0</td>\n",
              "      <td>4171.81</td>\n",
              "      <td>2507.02</td>\n",
              "      <td>POLYGON ((925318.566 1702142.495, 925340.342 1...</td>\n",
              "    </tr>\n",
              "    <tr>\n",
              "      <th>46</th>\n",
              "      <td>08</td>\n",
              "      <td>433</td>\n",
              "      <td>MALAMBO</td>\n",
              "      <td>Ordenanza 24 del 24 de Abril de 1912</td>\n",
              "      <td>97.942337</td>\n",
              "      <td>08433</td>\n",
              "      <td>2020.0</td>\n",
              "      <td>ATLÃNTICO</td>\n",
              "      <td>0.008097</td>\n",
              "      <td>0.499109</td>\n",
              "      <td>8433.0</td>\n",
              "      <td>4171.81</td>\n",
              "      <td>2507.02</td>\n",
              "      <td>POLYGON ((918604.160 1696305.952, 918613.208 1...</td>\n",
              "    </tr>\n",
              "    <tr>\n",
              "      <th>70</th>\n",
              "      <td>13</td>\n",
              "      <td>442</td>\n",
              "      <td>MARÃA LA BAJA</td>\n",
              "      <td>Ley 119 del 14 de Septiembretiembre de 1936</td>\n",
              "      <td>559.917843</td>\n",
              "      <td>13442</td>\n",
              "      <td>2020.0</td>\n",
              "      <td>BOLÃVAR</td>\n",
              "      <td>0.046146</td>\n",
              "      <td>1.404783</td>\n",
              "      <td>13442.0</td>\n",
              "      <td>1869.52</td>\n",
              "      <td>1363.88</td>\n",
              "      <td>POLYGON ((865212.388 1608065.176, 865235.068 1...</td>\n",
              "    </tr>\n",
              "    <tr>\n",
              "      <th>62</th>\n",
              "      <td>13</td>\n",
              "      <td>001</td>\n",
              "      <td>CARTAGENA DE INDIAS</td>\n",
              "      <td>1599</td>\n",
              "      <td>597.681012</td>\n",
              "      <td>13001</td>\n",
              "      <td>2020.0</td>\n",
              "      <td>BOLÃVAR</td>\n",
              "      <td>0.049325</td>\n",
              "      <td>4.239567</td>\n",
              "      <td>13001.0</td>\n",
              "      <td>1869.52</td>\n",
              "      <td>1363.88</td>\n",
              "      <td>MULTIPOLYGON (((840756.832 1617267.966, 840830...</td>\n",
              "    </tr>\n",
              "  </tbody>\n",
              "</table>\n",
              "</div>\n",
              "      <button class=\"colab-df-convert\" onclick=\"convertToInteractive('df-cd316039-74c5-402b-8afb-71a6266fa2e8')\"\n",
              "              title=\"Convert this dataframe to an interactive table.\"\n",
              "              style=\"display:none;\">\n",
              "        \n",
              "  <svg xmlns=\"http://www.w3.org/2000/svg\" height=\"24px\"viewBox=\"0 0 24 24\"\n",
              "       width=\"24px\">\n",
              "    <path d=\"M0 0h24v24H0V0z\" fill=\"none\"/>\n",
              "    <path d=\"M18.56 5.44l.94 2.06.94-2.06 2.06-.94-2.06-.94-.94-2.06-.94 2.06-2.06.94zm-11 1L8.5 8.5l.94-2.06 2.06-.94-2.06-.94L8.5 2.5l-.94 2.06-2.06.94zm10 10l.94 2.06.94-2.06 2.06-.94-2.06-.94-.94-2.06-.94 2.06-2.06.94z\"/><path d=\"M17.41 7.96l-1.37-1.37c-.4-.4-.92-.59-1.43-.59-.52 0-1.04.2-1.43.59L10.3 9.45l-7.72 7.72c-.78.78-.78 2.05 0 2.83L4 21.41c.39.39.9.59 1.41.59.51 0 1.02-.2 1.41-.59l7.78-7.78 2.81-2.81c.8-.78.8-2.07 0-2.86zM5.41 20L4 18.59l7.72-7.72 1.47 1.35L5.41 20z\"/>\n",
              "  </svg>\n",
              "      </button>\n",
              "      \n",
              "  <style>\n",
              "    .colab-df-container {\n",
              "      display:flex;\n",
              "      flex-wrap:wrap;\n",
              "      gap: 12px;\n",
              "    }\n",
              "\n",
              "    .colab-df-convert {\n",
              "      background-color: #E8F0FE;\n",
              "      border: none;\n",
              "      border-radius: 50%;\n",
              "      cursor: pointer;\n",
              "      display: none;\n",
              "      fill: #1967D2;\n",
              "      height: 32px;\n",
              "      padding: 0 0 0 0;\n",
              "      width: 32px;\n",
              "    }\n",
              "\n",
              "    .colab-df-convert:hover {\n",
              "      background-color: #E2EBFA;\n",
              "      box-shadow: 0px 1px 2px rgba(60, 64, 67, 0.3), 0px 1px 3px 1px rgba(60, 64, 67, 0.15);\n",
              "      fill: #174EA6;\n",
              "    }\n",
              "\n",
              "    [theme=dark] .colab-df-convert {\n",
              "      background-color: #3B4455;\n",
              "      fill: #D2E3FC;\n",
              "    }\n",
              "\n",
              "    [theme=dark] .colab-df-convert:hover {\n",
              "      background-color: #434B5C;\n",
              "      box-shadow: 0px 1px 3px 1px rgba(0, 0, 0, 0.15);\n",
              "      filter: drop-shadow(0px 1px 2px rgba(0, 0, 0, 0.3));\n",
              "      fill: #FFFFFF;\n",
              "    }\n",
              "  </style>\n",
              "\n",
              "      <script>\n",
              "        const buttonEl =\n",
              "          document.querySelector('#df-cd316039-74c5-402b-8afb-71a6266fa2e8 button.colab-df-convert');\n",
              "        buttonEl.style.display =\n",
              "          google.colab.kernel.accessAllowed ? 'block' : 'none';\n",
              "\n",
              "        async function convertToInteractive(key) {\n",
              "          const element = document.querySelector('#df-cd316039-74c5-402b-8afb-71a6266fa2e8');\n",
              "          const dataTable =\n",
              "            await google.colab.kernel.invokeFunction('convertToInteractive',\n",
              "                                                     [key], {});\n",
              "          if (!dataTable) return;\n",
              "\n",
              "          const docLinkHtml = 'Like what you see? Visit the ' +\n",
              "            '<a target=\"_blank\" href=https://colab.research.google.com/notebooks/data_table.ipynb>data table notebook</a>'\n",
              "            + ' to learn more about interactive tables.';\n",
              "          element.innerHTML = '';\n",
              "          dataTable['output_type'] = 'display_data';\n",
              "          await google.colab.output.renderOutput(dataTable, element);\n",
              "          const docLink = document.createElement('div');\n",
              "          docLink.innerHTML = docLinkHtml;\n",
              "          element.appendChild(docLink);\n",
              "        }\n",
              "      </script>\n",
              "    </div>\n",
              "  </div>\n",
              "  "
            ]
          },
          "metadata": {},
          "execution_count": 67
        }
      ]
    },
    {
      "cell_type": "code",
      "source": [
        "primeros_items = Ordenadoporemisiones.head(6)"
      ],
      "metadata": {
        "id": "P0wJZpDVisB9"
      },
      "execution_count": null,
      "outputs": []
    },
    {
      "cell_type": "code",
      "source": [
        "primeros_items.head()"
      ],
      "metadata": {
        "colab": {
          "base_uri": "https://localhost:8080/",
          "height": 530
        },
        "id": "QoqgfPB9jCua",
        "outputId": "31bdc8bb-a42f-4d60-c293-06df1decaacd"
      },
      "execution_count": null,
      "outputs": [
        {
          "output_type": "execute_result",
          "data": {
            "text/plain": [
              "   DPTO_CCDGO MPIO_CCDGO           MPIO_CNMBR  \\\n",
              "39         08        001         BARRANQUILLA   \n",
              "58         08        758              SOLEDAD   \n",
              "46         08        433              MALAMBO   \n",
              "70         13        442       MARÃA LA BAJA   \n",
              "62         13        001  CARTAGENA DE INDIAS   \n",
              "\n",
              "                                           MPIO_CRSLC  MPIO_NAREA MPIO_CCNCT  \\\n",
              "39  Ordenanza 30 del 5 de Mayo de 1913 Ley 44 del ...  154.202079      08001   \n",
              "58                                               1813   59.358357      08758   \n",
              "46               Ordenanza 24 del 24 de Abril de 1912   97.942337      08433   \n",
              "70        Ley 119 del 14 de Septiembretiembre de 1936  559.917843      13442   \n",
              "62                                               1599  597.681012      13001   \n",
              "\n",
              "    MPIO_NANO  DPTO_CNMBR  SHAPE_AREA  SHAPE_LEN      COD  Emisiones  \\\n",
              "39     2020.0  ATLÃNTICO    0.012753   0.814371   8001.0    4171.81   \n",
              "58     2020.0  ATLÃNTICO    0.004908   0.420027   8758.0    4171.81   \n",
              "46     2020.0  ATLÃNTICO    0.008097   0.499109   8433.0    4171.81   \n",
              "70     2020.0    BOLÃVAR    0.046146   1.404783  13442.0    1869.52   \n",
              "62     2020.0    BOLÃVAR    0.049325   4.239567  13001.0    1869.52   \n",
              "\n",
              "    Emisiones2                                           geometry  \n",
              "39     2507.02  MULTIPOLYGON (((913349.678 1713760.426, 913426...  \n",
              "58     2507.02  POLYGON ((925318.566 1702142.495, 925340.342 1...  \n",
              "46     2507.02  POLYGON ((918604.160 1696305.952, 918613.208 1...  \n",
              "70     1363.88  POLYGON ((865212.388 1608065.176, 865235.068 1...  \n",
              "62     1363.88  MULTIPOLYGON (((840756.832 1617267.966, 840830...  "
            ],
            "text/html": [
              "\n",
              "  <div id=\"df-5df42c1b-bd71-42c1-aacf-a76a3257c216\">\n",
              "    <div class=\"colab-df-container\">\n",
              "      <div>\n",
              "<style scoped>\n",
              "    .dataframe tbody tr th:only-of-type {\n",
              "        vertical-align: middle;\n",
              "    }\n",
              "\n",
              "    .dataframe tbody tr th {\n",
              "        vertical-align: top;\n",
              "    }\n",
              "\n",
              "    .dataframe thead th {\n",
              "        text-align: right;\n",
              "    }\n",
              "</style>\n",
              "<table border=\"1\" class=\"dataframe\">\n",
              "  <thead>\n",
              "    <tr style=\"text-align: right;\">\n",
              "      <th></th>\n",
              "      <th>DPTO_CCDGO</th>\n",
              "      <th>MPIO_CCDGO</th>\n",
              "      <th>MPIO_CNMBR</th>\n",
              "      <th>MPIO_CRSLC</th>\n",
              "      <th>MPIO_NAREA</th>\n",
              "      <th>MPIO_CCNCT</th>\n",
              "      <th>MPIO_NANO</th>\n",
              "      <th>DPTO_CNMBR</th>\n",
              "      <th>SHAPE_AREA</th>\n",
              "      <th>SHAPE_LEN</th>\n",
              "      <th>COD</th>\n",
              "      <th>Emisiones</th>\n",
              "      <th>Emisiones2</th>\n",
              "      <th>geometry</th>\n",
              "    </tr>\n",
              "  </thead>\n",
              "  <tbody>\n",
              "    <tr>\n",
              "      <th>39</th>\n",
              "      <td>08</td>\n",
              "      <td>001</td>\n",
              "      <td>BARRANQUILLA</td>\n",
              "      <td>Ordenanza 30 del 5 de Mayo de 1913 Ley 44 del ...</td>\n",
              "      <td>154.202079</td>\n",
              "      <td>08001</td>\n",
              "      <td>2020.0</td>\n",
              "      <td>ATLÃNTICO</td>\n",
              "      <td>0.012753</td>\n",
              "      <td>0.814371</td>\n",
              "      <td>8001.0</td>\n",
              "      <td>4171.81</td>\n",
              "      <td>2507.02</td>\n",
              "      <td>MULTIPOLYGON (((913349.678 1713760.426, 913426...</td>\n",
              "    </tr>\n",
              "    <tr>\n",
              "      <th>58</th>\n",
              "      <td>08</td>\n",
              "      <td>758</td>\n",
              "      <td>SOLEDAD</td>\n",
              "      <td>1813</td>\n",
              "      <td>59.358357</td>\n",
              "      <td>08758</td>\n",
              "      <td>2020.0</td>\n",
              "      <td>ATLÃNTICO</td>\n",
              "      <td>0.004908</td>\n",
              "      <td>0.420027</td>\n",
              "      <td>8758.0</td>\n",
              "      <td>4171.81</td>\n",
              "      <td>2507.02</td>\n",
              "      <td>POLYGON ((925318.566 1702142.495, 925340.342 1...</td>\n",
              "    </tr>\n",
              "    <tr>\n",
              "      <th>46</th>\n",
              "      <td>08</td>\n",
              "      <td>433</td>\n",
              "      <td>MALAMBO</td>\n",
              "      <td>Ordenanza 24 del 24 de Abril de 1912</td>\n",
              "      <td>97.942337</td>\n",
              "      <td>08433</td>\n",
              "      <td>2020.0</td>\n",
              "      <td>ATLÃNTICO</td>\n",
              "      <td>0.008097</td>\n",
              "      <td>0.499109</td>\n",
              "      <td>8433.0</td>\n",
              "      <td>4171.81</td>\n",
              "      <td>2507.02</td>\n",
              "      <td>POLYGON ((918604.160 1696305.952, 918613.208 1...</td>\n",
              "    </tr>\n",
              "    <tr>\n",
              "      <th>70</th>\n",
              "      <td>13</td>\n",
              "      <td>442</td>\n",
              "      <td>MARÃA LA BAJA</td>\n",
              "      <td>Ley 119 del 14 de Septiembretiembre de 1936</td>\n",
              "      <td>559.917843</td>\n",
              "      <td>13442</td>\n",
              "      <td>2020.0</td>\n",
              "      <td>BOLÃVAR</td>\n",
              "      <td>0.046146</td>\n",
              "      <td>1.404783</td>\n",
              "      <td>13442.0</td>\n",
              "      <td>1869.52</td>\n",
              "      <td>1363.88</td>\n",
              "      <td>POLYGON ((865212.388 1608065.176, 865235.068 1...</td>\n",
              "    </tr>\n",
              "    <tr>\n",
              "      <th>62</th>\n",
              "      <td>13</td>\n",
              "      <td>001</td>\n",
              "      <td>CARTAGENA DE INDIAS</td>\n",
              "      <td>1599</td>\n",
              "      <td>597.681012</td>\n",
              "      <td>13001</td>\n",
              "      <td>2020.0</td>\n",
              "      <td>BOLÃVAR</td>\n",
              "      <td>0.049325</td>\n",
              "      <td>4.239567</td>\n",
              "      <td>13001.0</td>\n",
              "      <td>1869.52</td>\n",
              "      <td>1363.88</td>\n",
              "      <td>MULTIPOLYGON (((840756.832 1617267.966, 840830...</td>\n",
              "    </tr>\n",
              "  </tbody>\n",
              "</table>\n",
              "</div>\n",
              "      <button class=\"colab-df-convert\" onclick=\"convertToInteractive('df-5df42c1b-bd71-42c1-aacf-a76a3257c216')\"\n",
              "              title=\"Convert this dataframe to an interactive table.\"\n",
              "              style=\"display:none;\">\n",
              "        \n",
              "  <svg xmlns=\"http://www.w3.org/2000/svg\" height=\"24px\"viewBox=\"0 0 24 24\"\n",
              "       width=\"24px\">\n",
              "    <path d=\"M0 0h24v24H0V0z\" fill=\"none\"/>\n",
              "    <path d=\"M18.56 5.44l.94 2.06.94-2.06 2.06-.94-2.06-.94-.94-2.06-.94 2.06-2.06.94zm-11 1L8.5 8.5l.94-2.06 2.06-.94-2.06-.94L8.5 2.5l-.94 2.06-2.06.94zm10 10l.94 2.06.94-2.06 2.06-.94-2.06-.94-.94-2.06-.94 2.06-2.06.94z\"/><path d=\"M17.41 7.96l-1.37-1.37c-.4-.4-.92-.59-1.43-.59-.52 0-1.04.2-1.43.59L10.3 9.45l-7.72 7.72c-.78.78-.78 2.05 0 2.83L4 21.41c.39.39.9.59 1.41.59.51 0 1.02-.2 1.41-.59l7.78-7.78 2.81-2.81c.8-.78.8-2.07 0-2.86zM5.41 20L4 18.59l7.72-7.72 1.47 1.35L5.41 20z\"/>\n",
              "  </svg>\n",
              "      </button>\n",
              "      \n",
              "  <style>\n",
              "    .colab-df-container {\n",
              "      display:flex;\n",
              "      flex-wrap:wrap;\n",
              "      gap: 12px;\n",
              "    }\n",
              "\n",
              "    .colab-df-convert {\n",
              "      background-color: #E8F0FE;\n",
              "      border: none;\n",
              "      border-radius: 50%;\n",
              "      cursor: pointer;\n",
              "      display: none;\n",
              "      fill: #1967D2;\n",
              "      height: 32px;\n",
              "      padding: 0 0 0 0;\n",
              "      width: 32px;\n",
              "    }\n",
              "\n",
              "    .colab-df-convert:hover {\n",
              "      background-color: #E2EBFA;\n",
              "      box-shadow: 0px 1px 2px rgba(60, 64, 67, 0.3), 0px 1px 3px 1px rgba(60, 64, 67, 0.15);\n",
              "      fill: #174EA6;\n",
              "    }\n",
              "\n",
              "    [theme=dark] .colab-df-convert {\n",
              "      background-color: #3B4455;\n",
              "      fill: #D2E3FC;\n",
              "    }\n",
              "\n",
              "    [theme=dark] .colab-df-convert:hover {\n",
              "      background-color: #434B5C;\n",
              "      box-shadow: 0px 1px 3px 1px rgba(0, 0, 0, 0.15);\n",
              "      filter: drop-shadow(0px 1px 2px rgba(0, 0, 0, 0.3));\n",
              "      fill: #FFFFFF;\n",
              "    }\n",
              "  </style>\n",
              "\n",
              "      <script>\n",
              "        const buttonEl =\n",
              "          document.querySelector('#df-5df42c1b-bd71-42c1-aacf-a76a3257c216 button.colab-df-convert');\n",
              "        buttonEl.style.display =\n",
              "          google.colab.kernel.accessAllowed ? 'block' : 'none';\n",
              "\n",
              "        async function convertToInteractive(key) {\n",
              "          const element = document.querySelector('#df-5df42c1b-bd71-42c1-aacf-a76a3257c216');\n",
              "          const dataTable =\n",
              "            await google.colab.kernel.invokeFunction('convertToInteractive',\n",
              "                                                     [key], {});\n",
              "          if (!dataTable) return;\n",
              "\n",
              "          const docLinkHtml = 'Like what you see? Visit the ' +\n",
              "            '<a target=\"_blank\" href=https://colab.research.google.com/notebooks/data_table.ipynb>data table notebook</a>'\n",
              "            + ' to learn more about interactive tables.';\n",
              "          element.innerHTML = '';\n",
              "          dataTable['output_type'] = 'display_data';\n",
              "          await google.colab.output.renderOutput(dataTable, element);\n",
              "          const docLink = document.createElement('div');\n",
              "          docLink.innerHTML = docLinkHtml;\n",
              "          element.appendChild(docLink);\n",
              "        }\n",
              "      </script>\n",
              "    </div>\n",
              "  </div>\n",
              "  "
            ]
          },
          "metadata": {},
          "execution_count": 69
        }
      ]
    },
    {
      "cell_type": "code",
      "source": [
        "data_nuevo = Ordenadoporemisiones.loc[:, [\"MPIO_CNMBR\", \"Emisiones\"]]"
      ],
      "metadata": {
        "id": "en4bjlrTOD3X"
      },
      "execution_count": null,
      "outputs": []
    },
    {
      "cell_type": "code",
      "source": [
        "data_nuevo.head(6)"
      ],
      "metadata": {
        "colab": {
          "base_uri": "https://localhost:8080/",
          "height": 237
        },
        "id": "rZpI3v1MOSr9",
        "outputId": "10c6f3de-7a5d-4f0d-e8f2-160f00f965a1"
      },
      "execution_count": null,
      "outputs": [
        {
          "output_type": "execute_result",
          "data": {
            "text/plain": [
              "               MPIO_CNMBR  Emisiones\n",
              "39           BARRANQUILLA    4171.81\n",
              "58                SOLEDAD    4171.81\n",
              "46                MALAMBO    4171.81\n",
              "70         MARÃA LA BAJA    1869.52\n",
              "62    CARTAGENA DE INDIAS    1869.52\n",
              "67  EL CARMEN DE BOLÃVAR    1869.52"
            ],
            "text/html": [
              "\n",
              "  <div id=\"df-b508f3d0-ed75-4404-91fc-5db7fa0b7c0d\">\n",
              "    <div class=\"colab-df-container\">\n",
              "      <div>\n",
              "<style scoped>\n",
              "    .dataframe tbody tr th:only-of-type {\n",
              "        vertical-align: middle;\n",
              "    }\n",
              "\n",
              "    .dataframe tbody tr th {\n",
              "        vertical-align: top;\n",
              "    }\n",
              "\n",
              "    .dataframe thead th {\n",
              "        text-align: right;\n",
              "    }\n",
              "</style>\n",
              "<table border=\"1\" class=\"dataframe\">\n",
              "  <thead>\n",
              "    <tr style=\"text-align: right;\">\n",
              "      <th></th>\n",
              "      <th>MPIO_CNMBR</th>\n",
              "      <th>Emisiones</th>\n",
              "    </tr>\n",
              "  </thead>\n",
              "  <tbody>\n",
              "    <tr>\n",
              "      <th>39</th>\n",
              "      <td>BARRANQUILLA</td>\n",
              "      <td>4171.81</td>\n",
              "    </tr>\n",
              "    <tr>\n",
              "      <th>58</th>\n",
              "      <td>SOLEDAD</td>\n",
              "      <td>4171.81</td>\n",
              "    </tr>\n",
              "    <tr>\n",
              "      <th>46</th>\n",
              "      <td>MALAMBO</td>\n",
              "      <td>4171.81</td>\n",
              "    </tr>\n",
              "    <tr>\n",
              "      <th>70</th>\n",
              "      <td>MARÃA LA BAJA</td>\n",
              "      <td>1869.52</td>\n",
              "    </tr>\n",
              "    <tr>\n",
              "      <th>62</th>\n",
              "      <td>CARTAGENA DE INDIAS</td>\n",
              "      <td>1869.52</td>\n",
              "    </tr>\n",
              "    <tr>\n",
              "      <th>67</th>\n",
              "      <td>EL CARMEN DE BOLÃVAR</td>\n",
              "      <td>1869.52</td>\n",
              "    </tr>\n",
              "  </tbody>\n",
              "</table>\n",
              "</div>\n",
              "      <button class=\"colab-df-convert\" onclick=\"convertToInteractive('df-b508f3d0-ed75-4404-91fc-5db7fa0b7c0d')\"\n",
              "              title=\"Convert this dataframe to an interactive table.\"\n",
              "              style=\"display:none;\">\n",
              "        \n",
              "  <svg xmlns=\"http://www.w3.org/2000/svg\" height=\"24px\"viewBox=\"0 0 24 24\"\n",
              "       width=\"24px\">\n",
              "    <path d=\"M0 0h24v24H0V0z\" fill=\"none\"/>\n",
              "    <path d=\"M18.56 5.44l.94 2.06.94-2.06 2.06-.94-2.06-.94-.94-2.06-.94 2.06-2.06.94zm-11 1L8.5 8.5l.94-2.06 2.06-.94-2.06-.94L8.5 2.5l-.94 2.06-2.06.94zm10 10l.94 2.06.94-2.06 2.06-.94-2.06-.94-.94-2.06-.94 2.06-2.06.94z\"/><path d=\"M17.41 7.96l-1.37-1.37c-.4-.4-.92-.59-1.43-.59-.52 0-1.04.2-1.43.59L10.3 9.45l-7.72 7.72c-.78.78-.78 2.05 0 2.83L4 21.41c.39.39.9.59 1.41.59.51 0 1.02-.2 1.41-.59l7.78-7.78 2.81-2.81c.8-.78.8-2.07 0-2.86zM5.41 20L4 18.59l7.72-7.72 1.47 1.35L5.41 20z\"/>\n",
              "  </svg>\n",
              "      </button>\n",
              "      \n",
              "  <style>\n",
              "    .colab-df-container {\n",
              "      display:flex;\n",
              "      flex-wrap:wrap;\n",
              "      gap: 12px;\n",
              "    }\n",
              "\n",
              "    .colab-df-convert {\n",
              "      background-color: #E8F0FE;\n",
              "      border: none;\n",
              "      border-radius: 50%;\n",
              "      cursor: pointer;\n",
              "      display: none;\n",
              "      fill: #1967D2;\n",
              "      height: 32px;\n",
              "      padding: 0 0 0 0;\n",
              "      width: 32px;\n",
              "    }\n",
              "\n",
              "    .colab-df-convert:hover {\n",
              "      background-color: #E2EBFA;\n",
              "      box-shadow: 0px 1px 2px rgba(60, 64, 67, 0.3), 0px 1px 3px 1px rgba(60, 64, 67, 0.15);\n",
              "      fill: #174EA6;\n",
              "    }\n",
              "\n",
              "    [theme=dark] .colab-df-convert {\n",
              "      background-color: #3B4455;\n",
              "      fill: #D2E3FC;\n",
              "    }\n",
              "\n",
              "    [theme=dark] .colab-df-convert:hover {\n",
              "      background-color: #434B5C;\n",
              "      box-shadow: 0px 1px 3px 1px rgba(0, 0, 0, 0.15);\n",
              "      filter: drop-shadow(0px 1px 2px rgba(0, 0, 0, 0.3));\n",
              "      fill: #FFFFFF;\n",
              "    }\n",
              "  </style>\n",
              "\n",
              "      <script>\n",
              "        const buttonEl =\n",
              "          document.querySelector('#df-b508f3d0-ed75-4404-91fc-5db7fa0b7c0d button.colab-df-convert');\n",
              "        buttonEl.style.display =\n",
              "          google.colab.kernel.accessAllowed ? 'block' : 'none';\n",
              "\n",
              "        async function convertToInteractive(key) {\n",
              "          const element = document.querySelector('#df-b508f3d0-ed75-4404-91fc-5db7fa0b7c0d');\n",
              "          const dataTable =\n",
              "            await google.colab.kernel.invokeFunction('convertToInteractive',\n",
              "                                                     [key], {});\n",
              "          if (!dataTable) return;\n",
              "\n",
              "          const docLinkHtml = 'Like what you see? Visit the ' +\n",
              "            '<a target=\"_blank\" href=https://colab.research.google.com/notebooks/data_table.ipynb>data table notebook</a>'\n",
              "            + ' to learn more about interactive tables.';\n",
              "          element.innerHTML = '';\n",
              "          dataTable['output_type'] = 'display_data';\n",
              "          await google.colab.output.renderOutput(dataTable, element);\n",
              "          const docLink = document.createElement('div');\n",
              "          docLink.innerHTML = docLinkHtml;\n",
              "          element.appendChild(docLink);\n",
              "        }\n",
              "      </script>\n",
              "    </div>\n",
              "  </div>\n",
              "  "
            ]
          },
          "metadata": {},
          "execution_count": 71
        }
      ]
    },
    {
      "cell_type": "code",
      "source": [
        "import pandas as pd"
      ],
      "metadata": {
        "id": "lwt2xSVkY8zV"
      },
      "execution_count": null,
      "outputs": []
    },
    {
      "cell_type": "code",
      "source": [
        "import matplotlib.pyplot as plt"
      ],
      "metadata": {
        "id": "z9prH927ctp0"
      },
      "execution_count": null,
      "outputs": []
    },
    {
      "cell_type": "code",
      "source": [
        "import seaborn as sns\n",
        "Tabla = sns.distplot(Ciudades['Emisiones'], kde=False)\n"
      ],
      "metadata": {
        "colab": {
          "base_uri": "https://localhost:8080/",
          "height": 650
        },
        "id": "1EGj_WeKQRUt",
        "outputId": "979d97ca-3adf-48f1-babb-5b7326577cc3"
      },
      "execution_count": null,
      "outputs": [
        {
          "output_type": "stream",
          "name": "stderr",
          "text": [
            "<ipython-input-74-97984ee1b9b1>:2: UserWarning: \n",
            "\n",
            "`distplot` is a deprecated function and will be removed in seaborn v0.14.0.\n",
            "\n",
            "Please adapt your code to use either `displot` (a figure-level function with\n",
            "similar flexibility) or `histplot` (an axes-level function for histograms).\n",
            "\n",
            "For a guide to updating your code to use the new functions, please see\n",
            "https://gist.github.com/mwaskom/de44147ed2974457ad6372750bbe5751\n",
            "\n",
            "  Tabla = sns.distplot(Ciudades['Emisiones'], kde=False)\n"
          ]
        },
        {
          "output_type": "display_data",
          "data": {
            "text/plain": [
              "<Figure size 640x480 with 1 Axes>"
            ],
            "image/png": "[encoded data removed]"
          },
          "metadata": {}
        }
      ]
    },
    {
      "cell_type": "code",
      "source": [
        "import matplotlib.pyplot as plt\n",
        "fig, ax = plt.subplots(figsize=(12,10))\n",
        "Ciudades.plot(column='Emisiones', ax=ax);"
      ],
      "metadata": {
        "colab": {
          "base_uri": "https://localhost:8080/",
          "height": 845
        },
        "id": "y1xPZaT-zHD_",
        "outputId": "e4065165-220d-4040-9d65-72dd9aea1496"
      },
      "execution_count": null,
      "outputs": [
        {
          "output_type": "display_data",
          "data": {
            "text/plain": [
              "<Figure size 1200x1000 with 1 Axes>"
            ],
            "image/png": "[encoded data removed]"
          },
          "metadata": {}
        }
      ]
    },
    {
      "cell_type": "code",
      "source": [
        "vmin, vmax = 6.66, 4171.81\n",
        "fig, ax = plt.subplots(1, figsize=(10, 6))\n",
        "Ciudades.plot(column=\"Emisiones\", cmap='Blues', linewidth=0.8, ax=ax, edgecolor='0.8')\n",
        "ax.axis('off')\n",
        "ax.set_title('Emisiones por ciudad', \\\n",
        "              fontdict={'fontsize': '25',\n",
        "                        'fontweight' : '3'})\n",
        "ax.annotate('Source: INGEI)',\n",
        "           xy=(0.2, .08), xycoords='figure fraction',\n",
        "           horizontalalignment='left', verticalalignment='top',\n",
        "           fontsize=10, color='#555555')\n",
        "\n",
        "# Create colorbar as a legend\n",
        "sm = plt.cm.ScalarMappable(cmap='Blues', norm=plt.Normalize(vmin=vmin, vmax=vmax))\n",
        "sm._A = []\n",
        "cbar = fig.colorbar(sm)\n",
        "\n",
        "\n",
        "fig.savefig('/content/drive/MyDrive/DATA_ProyectoAG/Datos creados/MapadeEmisiones.png', dpi=300)"
      ],
      "metadata": {
        "colab": {
          "base_uri": "https://localhost:8080/",
          "height": 602
        },
        "id": "iolJOtsC6Zv3",
        "outputId": "1edafc1c-0a8a-4555-b63e-24865d693061"
      },
      "execution_count": null,
      "outputs": [
        {
          "output_type": "stream",
          "name": "stderr",
          "text": [
            "<ipython-input-76-7e5e09a0df6a>:16: MatplotlibDeprecationWarning: Unable to determine Axes to steal space for Colorbar. Using gca(), but will raise in the future. Either provide the *cax* argument to use as the Axes for the Colorbar, provide the *ax* argument to steal space from it, or add *mappable* to an Axes.\n",
            "  cbar = fig.colorbar(sm)\n"
          ]
        },
        {
          "output_type": "display_data",
          "data": {
            "text/plain": [
              "<Figure size 1000x600 with 2 Axes>"
            ],
            "image/png": "[encoded data removed]"
          },
          "metadata": {}
        }
      ]
    },
    {
      "cell_type": "code",
      "source": [
        "import matplotlib.pyplot as plt"
      ],
      "metadata": {
        "id": "RsKI2nzQWKeJ"
      },
      "execution_count": null,
      "outputs": []
    },
    {
      "cell_type": "code",
      "source": [
        "Centro=primeros_items.centroid\n",
        "Centro.head()"
      ],
      "metadata": {
        "colab": {
          "base_uri": "https://localhost:8080/"
        },
        "id": "D9RmjysjdM2s",
        "outputId": "6bc48cd0-37fa-499f-efad-0df65510c676"
      },
      "execution_count": null,
      "outputs": [
        {
          "output_type": "execute_result",
          "data": {
            "text/plain": [
              "39    POINT (918139.810 1705885.892)\n",
              "58    POINT (923372.659 1698024.823)\n",
              "46    POINT (920323.005 1691547.579)\n",
              "70    POINT (861142.569 1595235.094)\n",
              "62    POINT (848811.538 1649315.113)\n",
              "dtype: geometry"
            ]
          },
          "metadata": {},
          "execution_count": 78
        }
      ]
    },
    {
      "cell_type": "code",
      "source": [
        "Centro.plot()"
      ],
      "metadata": {
        "colab": {
          "base_uri": "https://localhost:8080/",
          "height": 463
        },
        "id": "XStJvH1bdgCW",
        "outputId": "ad1df728-03a2-49ee-ba5d-e37aee9aeea7"
      },
      "execution_count": null,
      "outputs": [
        {
          "output_type": "execute_result",
          "data": {
            "text/plain": [
              "<Axes: >"
            ]
          },
          "metadata": {},
          "execution_count": 79
        },
        {
          "output_type": "display_data",
          "data": {
            "text/plain": [
              "<Figure size 640x480 with 1 Axes>"
            ],
            "image/png": "[encoded data removed]"
          },
          "metadata": {}
        }
      ]
    },
    {
      "cell_type": "code",
      "source": [
        "cents =primeros_items.centroid\n",
        "cents.head()"
      ],
      "metadata": {
        "colab": {
          "base_uri": "https://localhost:8080/"
        },
        "id": "vjhE7Qs9Us1o",
        "outputId": "9f61861d-f2f5-407c-99cf-f6ae1c4e7815"
      },
      "execution_count": null,
      "outputs": [
        {
          "output_type": "execute_result",
          "data": {
            "text/plain": [
              "39    POINT (918139.810 1705885.892)\n",
              "58    POINT (923372.659 1698024.823)\n",
              "46    POINT (920323.005 1691547.579)\n",
              "70    POINT (861142.569 1595235.094)\n",
              "62    POINT (848811.538 1649315.113)\n",
              "dtype: geometry"
            ]
          },
          "metadata": {},
          "execution_count": 80
        }
      ]
    },
    {
      "cell_type": "code",
      "source": [
        "fig, ax = plt.subplots()\n",
        "SSJ.plot(ax=ax, facecolor='none', edgecolor='black')\n",
        "puntos_dentro = cents.within(SSJ.geometry.iloc[0])  # Filtrar puntos dentro del polígono\n",
        "cents[puntos_dentro].plot(ax=ax, color='red', markersize=5)\n",
        "plt.show()\n",
        "\n",
        "\n",
        "fig.savefig('/content/drive/MyDrive/DATA_ProyectoAG/Datos creados/centroides.png', dpi=300)"
      ],
      "metadata": {
        "colab": {
          "base_uri": "https://localhost:8080/",
          "height": 463
        },
        "id": "myC-FSDKX7di",
        "outputId": "6a565aff-f93b-40ea-ff88-533e7aa586c4"
      },
      "execution_count": null,
      "outputs": [
        {
          "output_type": "display_data",
          "data": {
            "text/plain": [
              "<Figure size 640x480 with 1 Axes>"
            ],
            "image/png": "[encoded data removed]"
          },
          "metadata": {}
        }
      ]
    },
    {
      "cell_type": "code",
      "source": [
        "import geopandas as gpd\n",
        "from shapely.geometry import Polygon"
      ],
      "metadata": {
        "id": "bGonbNrAqntv"
      },
      "execution_count": null,
      "outputs": []
    },
    {
      "cell_type": "code",
      "source": [
        "import matplotlib.pyplot as plt\n",
        "from matplotlib.patches import Ellipse"
      ],
      "metadata": {
        "id": "4xCFxfRxx6Wm"
      },
      "execution_count": null,
      "outputs": []
    },
    {
      "cell_type": "code",
      "source": [
        "fig, ax = plt.subplots()\n",
        "SSJ.plot(ax=ax, facecolor='none', edgecolor='black')\n",
        "puntos_dentro = cents.within(SSJ.geometry.iloc[0])  # Filtrar puntos dentro del polígono\n",
        "cents[puntos_dentro].plot(ax=ax, color='red', markersize=5)\n",
        "plt.show()\n",
        "\n",
        "# add a blue convex hull\n",
        "ax.add_patch(\n",
        "    plt.Polygon(\n",
        "        cents, \n",
        "        closed=True, \n",
        "        edgecolor='blue', \n",
        "        facecolor='none', \n",
        "        linestyle=':', \n",
        "        linewidth=2,\n",
        "        label='Convex Hull'\n",
        "    )\n",
        ")\n",
        "\n",
        "# Add basemap\n",
        "ctx.add_basemap(\n",
        "    ax, \n",
        "    source=ctx.providers.CartoDB.Positron\n",
        ")\n",
        "\n",
        "plt.legend();\n",
        "\n",
        "fig.savefig('/content/drive/MyDrive/DATA_ProyectoAG/Datos creados/centroides.png', dpi=300)"
      ],
      "metadata": {
        "colab": {
          "base_uri": "https://localhost:8080/",
          "height": 860
        },
        "id": "Och1WQZrqxi4",
        "outputId": "a84c2ca5-119a-4737-ff96-94f279dc211a"
      },
      "execution_count": null,
      "outputs": [
        {
          "output_type": "display_data",
          "data": {
            "text/plain": [
              "<Figure size 640x480 with 1 Axes>"
            ],
            "image/png": "[encoded data removed]"
          },
          "metadata": {}
        },
        {
          "output_type": "error",
          "ename": "ValueError",
          "evalue": "ignored",
          "traceback": [
            "\u001b[0;31m---------------------------------------------------------------------------\u001b[0m",
            "\u001b[0;31mValueError\u001b[0m                                Traceback (most recent call last)",
            "\u001b[0;32m<ipython-input-84-c16bae792205>\u001b[0m in \u001b[0;36m<cell line: 8>\u001b[0;34m()\u001b[0m\n\u001b[1;32m      7\u001b[0m \u001b[0;31m# add a blue convex hull\u001b[0m\u001b[0;34m\u001b[0m\u001b[0;34m\u001b[0m\u001b[0m\n\u001b[1;32m      8\u001b[0m ax.add_patch(\n\u001b[0;32m----> 9\u001b[0;31m     plt.Polygon(\n\u001b[0m\u001b[1;32m     10\u001b[0m         \u001b[0mcents\u001b[0m\u001b[0;34m,\u001b[0m\u001b[0;34m\u001b[0m\u001b[0;34m\u001b[0m\u001b[0m\n\u001b[1;32m     11\u001b[0m         \u001b[0mclosed\u001b[0m\u001b[0;34m=\u001b[0m\u001b[0;32mTrue\u001b[0m\u001b[0;34m,\u001b[0m\u001b[0;34m\u001b[0m\u001b[0;34m\u001b[0m\u001b[0m\n",
            "\u001b[0;32m/usr/local/lib/python3.10/dist-packages/matplotlib/_api/deprecation.py\u001b[0m in \u001b[0;36mwrapper\u001b[0;34m(*args, **kwargs)\u001b[0m\n\u001b[1;32m    452\u001b[0m                 \u001b[0;34m\"parameter will become keyword-only %(removal)s.\"\u001b[0m\u001b[0;34m,\u001b[0m\u001b[0;34m\u001b[0m\u001b[0;34m\u001b[0m\u001b[0m\n\u001b[1;32m    453\u001b[0m                 name=name, obj_type=f\"parameter of {func.__name__}()\")\n\u001b[0;32m--> 454\u001b[0;31m         \u001b[0;32mreturn\u001b[0m \u001b[0mfunc\u001b[0m\u001b[0;34m(\u001b[0m\u001b[0;34m*\u001b[0m\u001b[0margs\u001b[0m\u001b[0;34m,\u001b[0m \u001b[0;34m**\u001b[0m\u001b[0mkwargs\u001b[0m\u001b[0;34m)\u001b[0m\u001b[0;34m\u001b[0m\u001b[0;34m\u001b[0m\u001b[0m\n\u001b[0m\u001b[1;32m    455\u001b[0m \u001b[0;34m\u001b[0m\u001b[0m\n\u001b[1;32m    456\u001b[0m     \u001b[0;31m# Don't modify *func*'s signature, as boilerplate.py needs it.\u001b[0m\u001b[0;34m\u001b[0m\u001b[0;34m\u001b[0m\u001b[0m\n",
            "\u001b[0;32m/usr/local/lib/python3.10/dist-packages/matplotlib/patches.py\u001b[0m in \u001b[0;36m__init__\u001b[0;34m(self, xy, closed, **kwargs)\u001b[0m\n\u001b[1;32m   1093\u001b[0m         \u001b[0msuper\u001b[0m\u001b[0;34m(\u001b[0m\u001b[0;34m)\u001b[0m\u001b[0;34m.\u001b[0m\u001b[0m__init__\u001b[0m\u001b[0;34m(\u001b[0m\u001b[0;34m**\u001b[0m\u001b[0mkwargs\u001b[0m\u001b[0;34m)\u001b[0m\u001b[0;34m\u001b[0m\u001b[0;34m\u001b[0m\u001b[0m\n\u001b[1;32m   1094\u001b[0m         \u001b[0mself\u001b[0m\u001b[0;34m.\u001b[0m\u001b[0m_closed\u001b[0m \u001b[0;34m=\u001b[0m \u001b[0mclosed\u001b[0m\u001b[0;34m\u001b[0m\u001b[0;34m\u001b[0m\u001b[0m\n\u001b[0;32m-> 1095\u001b[0;31m         \u001b[0mself\u001b[0m\u001b[0;34m.\u001b[0m\u001b[0mset_xy\u001b[0m\u001b[0;34m(\u001b[0m\u001b[0mxy\u001b[0m\u001b[0;34m)\u001b[0m\u001b[0;34m\u001b[0m\u001b[0;34m\u001b[0m\u001b[0m\n\u001b[0m\u001b[1;32m   1096\u001b[0m \u001b[0;34m\u001b[0m\u001b[0m\n\u001b[1;32m   1097\u001b[0m     \u001b[0;32mdef\u001b[0m \u001b[0mget_path\u001b[0m\u001b[0;34m(\u001b[0m\u001b[0mself\u001b[0m\u001b[0;34m)\u001b[0m\u001b[0;34m:\u001b[0m\u001b[0;34m\u001b[0m\u001b[0;34m\u001b[0m\u001b[0m\n",
            "\u001b[0;32m/usr/local/lib/python3.10/dist-packages/matplotlib/patches.py\u001b[0m in \u001b[0;36mset_xy\u001b[0;34m(self, xy)\u001b[0m\n\u001b[1;32m   1146\u001b[0m         \"\"\"\n\u001b[1;32m   1147\u001b[0m         \u001b[0mxy\u001b[0m \u001b[0;34m=\u001b[0m \u001b[0mnp\u001b[0m\u001b[0;34m.\u001b[0m\u001b[0masarray\u001b[0m\u001b[0;34m(\u001b[0m\u001b[0mxy\u001b[0m\u001b[0;34m)\u001b[0m\u001b[0;34m\u001b[0m\u001b[0;34m\u001b[0m\u001b[0m\n\u001b[0;32m-> 1148\u001b[0;31m         \u001b[0mnverts\u001b[0m\u001b[0;34m,\u001b[0m \u001b[0m_\u001b[0m \u001b[0;34m=\u001b[0m \u001b[0mxy\u001b[0m\u001b[0;34m.\u001b[0m\u001b[0mshape\u001b[0m\u001b[0;34m\u001b[0m\u001b[0;34m\u001b[0m\u001b[0m\n\u001b[0m\u001b[1;32m   1149\u001b[0m         \u001b[0;32mif\u001b[0m \u001b[0mself\u001b[0m\u001b[0;34m.\u001b[0m\u001b[0m_closed\u001b[0m\u001b[0;34m:\u001b[0m\u001b[0;34m\u001b[0m\u001b[0;34m\u001b[0m\u001b[0m\n\u001b[1;32m   1150\u001b[0m             \u001b[0;31m# if the first and last vertex are the \"same\", then we assume that\u001b[0m\u001b[0;34m\u001b[0m\u001b[0;34m\u001b[0m\u001b[0m\n",
            "\u001b[0;31mValueError\u001b[0m: not enough values to unpack (expected 2, got 1)"
          ]
        }
      ]
    },
    {
      "cell_type": "markdown",
      "source": [
        "# **4.BANCO DE INFORMACIÓN DE LA ANH**"
      ],
      "metadata": {
        "id": "x2BRswl30awe"
      }
    },
    {
      "cell_type": "markdown",
      "source": [
        "# ***POZOS***"
      ],
      "metadata": {
        "id": "eVUfNB_fkmCw"
      }
    },
    {
      "cell_type": "code",
      "source": [
        "import pandas as pd"
      ],
      "metadata": {
        "id": "MIXwVv9N0lzi"
      },
      "execution_count": null,
      "outputs": []
    },
    {
      "cell_type": "code",
      "source": [
        "import geopandas as gpd"
      ],
      "metadata": {
        "id": "04K3FTG4SJj_"
      },
      "execution_count": null,
      "outputs": []
    },
    {
      "cell_type": "code",
      "source": [
        "Pozos = gpd.read_file(\"/content/drive/MyDrive/DATA_ProyectoAG/Datos creados/Pozos_.shp\")"
      ],
      "metadata": {
        "id": "GfBrfW450wTC"
      },
      "execution_count": null,
      "outputs": []
    },
    {
      "cell_type": "code",
      "source": [
        "Pozos.info()"
      ],
      "metadata": {
        "id": "v9aV8fGYRAXB",
        "colab": {
          "base_uri": "https://localhost:8080/"
        },
        "outputId": "ee4bd57f-6034-45e7-a356-e216d1cdbebb"
      },
      "execution_count": null,
      "outputs": [
        {
          "output_type": "stream",
          "name": "stdout",
          "text": [
            "<class 'geopandas.geodataframe.GeoDataFrame'>\n",
            "RangeIndex: 290 entries, 0 to 289\n",
            "Data columns (total 18 columns):\n",
            " #   Column      Non-Null Count  Dtype   \n",
            "---  ------      --------------  -----   \n",
            " 0   FID         290 non-null    int64   \n",
            " 1   UWI         290 non-null    object  \n",
            " 2   WELL_NAME   290 non-null    object  \n",
            " 3   WELL_COUNT  290 non-null    object  \n",
            " 4   DEPARTAMEN  290 non-null    object  \n",
            " 5   WELL_COU_1  290 non-null    object  \n",
            " 6   FIELD_ABRE  286 non-null    object  \n",
            " 7   GEOLOGIC_P  290 non-null    object  \n",
            " 8   CONTRATO    290 non-null    object  \n",
            " 9   WELL_LONGI  290 non-null    float64 \n",
            " 10  WELL_LATIT  290 non-null    float64 \n",
            " 11  WELL_CLA_1  202 non-null    object  \n",
            " 12  WELL_STA_1  284 non-null    object  \n",
            " 13  WELLTYPE    174 non-null    object  \n",
            " 14  OPERATOR_W  290 non-null    object  \n",
            " 15  COMPANY_CO  290 non-null    object  \n",
            " 16  PLATO       0 non-null      float64 \n",
            " 17  geometry    290 non-null    geometry\n",
            "dtypes: float64(3), geometry(1), int64(1), object(13)\n",
            "memory usage: 40.9+ KB\n"
          ]
        }
      ]
    },
    {
      "cell_type": "code",
      "source": [
        "Pozos.head(2)"
      ],
      "metadata": {
        "id": "0ERbbfaoWIJQ",
        "colab": {
          "base_uri": "https://localhost:8080/",
          "height": 315
        },
        "outputId": "f6c49985-0966-4dcb-a5f3-793716cf2429"
      },
      "execution_count": null,
      "outputs": [
        {
          "output_type": "execute_result",
          "data": {
            "text/plain": [
              "   FID        UWI         WELL_NAME WELL_COUNT DEPARTAMEN  \\\n",
              "0  104  ARRE0007P  P-7 ARROYO ARENA   COLOMBIA    BOLIVAR   \n",
              "1  173   SANS0002   SAN SEBASTIAN-2   COLOMBIA    CORDOBA   \n",
              "\n",
              "             WELL_COU_1 FIELD_ABRE        GEOLOGIC_P   CONTRATO  WELL_LONGI  \\\n",
              "0  EL CARMEN DE BOLIVAR      SAMAN  SINU-SAN JACINTO      SAMAN  -75.160033   \n",
              "1            SAN ANTERO       SN 6  SINU-SAN JACINTO  PENDIENTE  -75.773934   \n",
              "\n",
              "   WELL_LATIT WELL_CLA_1             WELL_STA_1  WELLTYPE  \\\n",
              "0    9.725972         A3             SIN ESTADO  VERTICAL   \n",
              "1    9.300281         A3  TAPONADO Y ABANDONADO  VERTICAL   \n",
              "\n",
              "                              OPERATOR_W                         COMPANY_CO  \\\n",
              "0                             HOCOL S.A.                         HOCOL S.A.   \n",
              "1  SOCONY VACUUM OIL COMPANY OF COLOMBIA  AGENCIA NACIONAL DE HIDROCARBUROS   \n",
              "\n",
              "   PLATO                                   geometry  \n",
              "0    NaN  POINT Z (881207.812 1567502.625 1640.490)  \n",
              "1    NaN  POINT Z (813594.813 1520675.625 2194.000)  "
            ],
            "text/html": [
              "\n",
              "  <div id=\"df-5c44bce7-37d1-4d89-be44-7244555a144c\">\n",
              "    <div class=\"colab-df-container\">\n",
              "      <div>\n",
              "<style scoped>\n",
              "    .dataframe tbody tr th:only-of-type {\n",
              "        vertical-align: middle;\n",
              "    }\n",
              "\n",
              "    .dataframe tbody tr th {\n",
              "        vertical-align: top;\n",
              "    }\n",
              "\n",
              "    .dataframe thead th {\n",
              "        text-align: right;\n",
              "    }\n",
              "</style>\n",
              "<table border=\"1\" class=\"dataframe\">\n",
              "  <thead>\n",
              "    <tr style=\"text-align: right;\">\n",
              "      <th></th>\n",
              "      <th>FID</th>\n",
              "      <th>UWI</th>\n",
              "      <th>WELL_NAME</th>\n",
              "      <th>WELL_COUNT</th>\n",
              "      <th>DEPARTAMEN</th>\n",
              "      <th>WELL_COU_1</th>\n",
              "      <th>FIELD_ABRE</th>\n",
              "      <th>GEOLOGIC_P</th>\n",
              "      <th>CONTRATO</th>\n",
              "      <th>WELL_LONGI</th>\n",
              "      <th>WELL_LATIT</th>\n",
              "      <th>WELL_CLA_1</th>\n",
              "      <th>WELL_STA_1</th>\n",
              "      <th>WELLTYPE</th>\n",
              "      <th>OPERATOR_W</th>\n",
              "      <th>COMPANY_CO</th>\n",
              "      <th>PLATO</th>\n",
              "      <th>geometry</th>\n",
              "    </tr>\n",
              "  </thead>\n",
              "  <tbody>\n",
              "    <tr>\n",
              "      <th>0</th>\n",
              "      <td>104</td>\n",
              "      <td>ARRE0007P</td>\n",
              "      <td>P-7 ARROYO ARENA</td>\n",
              "      <td>COLOMBIA</td>\n",
              "      <td>BOLIVAR</td>\n",
              "      <td>EL CARMEN DE BOLIVAR</td>\n",
              "      <td>SAMAN</td>\n",
              "      <td>SINU-SAN JACINTO</td>\n",
              "      <td>SAMAN</td>\n",
              "      <td>-75.160033</td>\n",
              "      <td>9.725972</td>\n",
              "      <td>A3</td>\n",
              "      <td>SIN ESTADO</td>\n",
              "      <td>VERTICAL</td>\n",
              "      <td>HOCOL S.A.</td>\n",
              "      <td>HOCOL S.A.</td>\n",
              "      <td>NaN</td>\n",
              "      <td>POINT Z (881207.812 1567502.625 1640.490)</td>\n",
              "    </tr>\n",
              "    <tr>\n",
              "      <th>1</th>\n",
              "      <td>173</td>\n",
              "      <td>SANS0002</td>\n",
              "      <td>SAN SEBASTIAN-2</td>\n",
              "      <td>COLOMBIA</td>\n",
              "      <td>CORDOBA</td>\n",
              "      <td>SAN ANTERO</td>\n",
              "      <td>SN 6</td>\n",
              "      <td>SINU-SAN JACINTO</td>\n",
              "      <td>PENDIENTE</td>\n",
              "      <td>-75.773934</td>\n",
              "      <td>9.300281</td>\n",
              "      <td>A3</td>\n",
              "      <td>TAPONADO Y ABANDONADO</td>\n",
              "      <td>VERTICAL</td>\n",
              "      <td>SOCONY VACUUM OIL COMPANY OF COLOMBIA</td>\n",
              "      <td>AGENCIA NACIONAL DE HIDROCARBUROS</td>\n",
              "      <td>NaN</td>\n",
              "      <td>POINT Z (813594.813 1520675.625 2194.000)</td>\n",
              "    </tr>\n",
              "  </tbody>\n",
              "</table>\n",
              "</div>\n",
              "      <button class=\"colab-df-convert\" onclick=\"convertToInteractive('df-5c44bce7-37d1-4d89-be44-7244555a144c')\"\n",
              "              title=\"Convert this dataframe to an interactive table.\"\n",
              "              style=\"display:none;\">\n",
              "        \n",
              "  <svg xmlns=\"http://www.w3.org/2000/svg\" height=\"24px\"viewBox=\"0 0 24 24\"\n",
              "       width=\"24px\">\n",
              "    <path d=\"M0 0h24v24H0V0z\" fill=\"none\"/>\n",
              "    <path d=\"M18.56 5.44l.94 2.06.94-2.06 2.06-.94-2.06-.94-.94-2.06-.94 2.06-2.06.94zm-11 1L8.5 8.5l.94-2.06 2.06-.94-2.06-.94L8.5 2.5l-.94 2.06-2.06.94zm10 10l.94 2.06.94-2.06 2.06-.94-2.06-.94-.94-2.06-.94 2.06-2.06.94z\"/><path d=\"M17.41 7.96l-1.37-1.37c-.4-.4-.92-.59-1.43-.59-.52 0-1.04.2-1.43.59L10.3 9.45l-7.72 7.72c-.78.78-.78 2.05 0 2.83L4 21.41c.39.39.9.59 1.41.59.51 0 1.02-.2 1.41-.59l7.78-7.78 2.81-2.81c.8-.78.8-2.07 0-2.86zM5.41 20L4 18.59l7.72-7.72 1.47 1.35L5.41 20z\"/>\n",
              "  </svg>\n",
              "      </button>\n",
              "      \n",
              "  <style>\n",
              "    .colab-df-container {\n",
              "      display:flex;\n",
              "      flex-wrap:wrap;\n",
              "      gap: 12px;\n",
              "    }\n",
              "\n",
              "    .colab-df-convert {\n",
              "      background-color: #E8F0FE;\n",
              "      border: none;\n",
              "      border-radius: 50%;\n",
              "      cursor: pointer;\n",
              "      display: none;\n",
              "      fill: #1967D2;\n",
              "      height: 32px;\n",
              "      padding: 0 0 0 0;\n",
              "      width: 32px;\n",
              "    }\n",
              "\n",
              "    .colab-df-convert:hover {\n",
              "      background-color: #E2EBFA;\n",
              "      box-shadow: 0px 1px 2px rgba(60, 64, 67, 0.3), 0px 1px 3px 1px rgba(60, 64, 67, 0.15);\n",
              "      fill: #174EA6;\n",
              "    }\n",
              "\n",
              "    [theme=dark] .colab-df-convert {\n",
              "      background-color: #3B4455;\n",
              "      fill: #D2E3FC;\n",
              "    }\n",
              "\n",
              "    [theme=dark] .colab-df-convert:hover {\n",
              "      background-color: #434B5C;\n",
              "      box-shadow: 0px 1px 3px 1px rgba(0, 0, 0, 0.15);\n",
              "      filter: drop-shadow(0px 1px 2px rgba(0, 0, 0, 0.3));\n",
              "      fill: #FFFFFF;\n",
              "    }\n",
              "  </style>\n",
              "\n",
              "      <script>\n",
              "        const buttonEl =\n",
              "          document.querySelector('#df-5c44bce7-37d1-4d89-be44-7244555a144c button.colab-df-convert');\n",
              "        buttonEl.style.display =\n",
              "          google.colab.kernel.accessAllowed ? 'block' : 'none';\n",
              "\n",
              "        async function convertToInteractive(key) {\n",
              "          const element = document.querySelector('#df-5c44bce7-37d1-4d89-be44-7244555a144c');\n",
              "          const dataTable =\n",
              "            await google.colab.kernel.invokeFunction('convertToInteractive',\n",
              "                                                     [key], {});\n",
              "          if (!dataTable) return;\n",
              "\n",
              "          const docLinkHtml = 'Like what you see? Visit the ' +\n",
              "            '<a target=\"_blank\" href=https://colab.research.google.com/notebooks/data_table.ipynb>data table notebook</a>'\n",
              "            + ' to learn more about interactive tables.';\n",
              "          element.innerHTML = '';\n",
              "          dataTable['output_type'] = 'display_data';\n",
              "          await google.colab.output.renderOutput(dataTable, element);\n",
              "          const docLink = document.createElement('div');\n",
              "          docLink.innerHTML = docLinkHtml;\n",
              "          element.appendChild(docLink);\n",
              "        }\n",
              "      </script>\n",
              "    </div>\n",
              "  </div>\n",
              "  "
            ]
          },
          "metadata": {},
          "execution_count": 89
        }
      ]
    },
    {
      "cell_type": "code",
      "source": [
        "import matplotlib.pyplot as plt\n",
        "fig, ax = plt.subplots(figsize=(12,10))\n",
        "Pozos.plot(column='FID', ax=ax);"
      ],
      "metadata": {
        "id": "zN9fxE9oQ10F",
        "colab": {
          "base_uri": "https://localhost:8080/",
          "height": 845
        },
        "outputId": "c5c21bf0-e117-4e23-d6bf-e7febf768d25"
      },
      "execution_count": null,
      "outputs": [
        {
          "output_type": "display_data",
          "data": {
            "text/plain": [
              "<Figure size 1200x1000 with 1 Axes>"
            ],
            "image/png": "[encoded data removed]"
          },
          "metadata": {}
        }
      ]
    },
    {
      "cell_type": "code",
      "source": [
        "appending = SSJ.geometry.append(Pozos.geometry)\n",
        "appending.sample(290)"
      ],
      "metadata": {
        "id": "wtkFV-KHBJj1",
        "colab": {
          "base_uri": "https://localhost:8080/"
        },
        "outputId": "5148b45e-b0f2-4e7f-d43b-1cd9d5fa017f"
      },
      "execution_count": null,
      "outputs": [
        {
          "output_type": "stream",
          "name": "stderr",
          "text": [
            "/usr/local/lib/python3.10/dist-packages/geopandas/geoseries.py:622: FutureWarning: The series.append method is deprecated and will be removed from pandas in a future version. Use pandas.concat instead.\n",
            "  val = getattr(super(), mtd)(*args, **kwargs)\n"
          ]
        },
        {
          "output_type": "execute_result",
          "data": {
            "text/plain": [
              "254     POINT Z (755372.125 1433460.000 745.000)\n",
              "136    POINT Z (744430.938 1473579.375 8832.000)\n",
              "188    POINT Z (899891.500 1678215.250 1340.000)\n",
              "157    POINT Z (900301.563 1672325.375 2000.000)\n",
              "219    POINT Z (840594.063 1505940.500 2030.000)\n",
              "                         ...                    \n",
              "197    POINT Z (764649.562 1404868.500 8517.000)\n",
              "90     POINT Z (806157.000 1442310.000 1059.000)\n",
              "267    POINT Z (838478.375 1469240.750 1040.000)\n",
              "64     POINT Z (902246.000 1699780.000 2400.000)\n",
              "119       POINT Z (845352.352 1501651.528 0.000)\n",
              "Name: geometry, Length: 290, dtype: geometry"
            ]
          },
          "metadata": {},
          "execution_count": 91
        }
      ]
    },
    {
      "cell_type": "code",
      "source": [
        "fig, ax = plt.subplots(figsize=(12,10))\n",
        "appending.plot(ax=ax)\n",
        "Pozos.plot(ax=ax, color='red') \n"
      ],
      "metadata": {
        "id": "wIvRrjPDJu1G",
        "colab": {
          "base_uri": "https://localhost:8080/",
          "height": 882
        },
        "outputId": "8cfcefa6-d8cb-4977-cb01-ea8e3f483ef7"
      },
      "execution_count": null,
      "outputs": [
        {
          "output_type": "execute_result",
          "data": {
            "text/plain": [
              "<Axes: >"
            ]
          },
          "metadata": {},
          "execution_count": 92
        },
        {
          "output_type": "display_data",
          "data": {
            "text/plain": [
              "<Figure size 1200x1000 with 1 Axes>"
            ],
            "image/png": "[encoded data removed]"
          },
          "metadata": {}
        }
      ]
    },
    {
      "cell_type": "code",
      "source": [
        "\n",
        "import numpy as np\n",
        "import pandas as pd\n",
        "import geopandas as gpd\n",
        "\n",
        "import seaborn as sbn\n",
        "\n",
        "import matplotlib.pyplot as plt\n",
        "from sklearn.cluster import DBSCAN"
      ],
      "metadata": {
        "id": "McJ4GcXyjt3w"
      },
      "execution_count": null,
      "outputs": []
    },
    {
      "cell_type": "code",
      "source": [
        "# Set up figure and axis\n",
        "f, ax = plt.subplots(1, figsize=(9, 9))\n",
        "# Generate and add KDE with a shading of 50 gradients \n",
        "# coloured contours, 75% of transparency,\n",
        "# and the reverse viridis colormap\n",
        "sbn.kdeplot(\n",
        "    db['x'], \n",
        "    db['y'],\n",
        "    n_levels=30, \n",
        "    shade=True,\n",
        "    alpha=0.55, \n",
        "    cmap='viridis_r'\n",
        ")\n",
        "# Add basemap\n",
        "ctx.add_basemap(\n",
        "    ax, \n",
        "    source=ctx.providers.CartoDB.Positron\n",
        ")\n",
        "# Remove axes\n",
        "ax.set_axis_off()"
      ],
      "metadata": {
        "colab": {
          "base_uri": "https://localhost:8080/",
          "height": 858
        },
        "id": "EXCrB0VMgXIo",
        "outputId": "b857ce23-1ae2-4122-99ea-f84c9f11bb62"
      },
      "execution_count": null,
      "outputs": [
        {
          "output_type": "error",
          "ename": "NameError",
          "evalue": "ignored",
          "traceback": [
            "\u001b[0;31m---------------------------------------------------------------------------\u001b[0m",
            "\u001b[0;31mNameError\u001b[0m                                 Traceback (most recent call last)",
            "\u001b[0;32m<ipython-input-93-a570b3c13866>\u001b[0m in \u001b[0;36m<cell line: 6>\u001b[0;34m()\u001b[0m\n\u001b[1;32m      4\u001b[0m \u001b[0;31m# coloured contours, 75% of transparency,\u001b[0m\u001b[0;34m\u001b[0m\u001b[0;34m\u001b[0m\u001b[0m\n\u001b[1;32m      5\u001b[0m \u001b[0;31m# and the reverse viridis colormap\u001b[0m\u001b[0;34m\u001b[0m\u001b[0;34m\u001b[0m\u001b[0m\n\u001b[0;32m----> 6\u001b[0;31m sbn.kdeplot(\n\u001b[0m\u001b[1;32m      7\u001b[0m     \u001b[0mdb\u001b[0m\u001b[0;34m[\u001b[0m\u001b[0;34m'x'\u001b[0m\u001b[0;34m]\u001b[0m\u001b[0;34m,\u001b[0m\u001b[0;34m\u001b[0m\u001b[0;34m\u001b[0m\u001b[0m\n\u001b[1;32m      8\u001b[0m     \u001b[0mdb\u001b[0m\u001b[0;34m[\u001b[0m\u001b[0;34m'y'\u001b[0m\u001b[0;34m]\u001b[0m\u001b[0;34m,\u001b[0m\u001b[0;34m\u001b[0m\u001b[0;34m\u001b[0m\u001b[0m\n",
            "\u001b[0;31mNameError\u001b[0m: name 'sbn' is not defined"
          ]
        },
        {
          "output_type": "display_data",
          "data": {
            "text/plain": [
              "<Figure size 900x900 with 1 Axes>"
            ],
            "image/png": "[encoded data removed]"
          },
          "metadata": {}
        }
      ]
    },
    {
      "cell_type": "code",
      "source": [
        "import numpy as np\n",
        "import pandas as pd\n",
        "import matplotlib.pyplot as plt\n",
        "from sklearn.neighbors import KernelDensity\n"
      ],
      "metadata": {
        "id": "34DjSf8WQDgn"
      },
      "execution_count": null,
      "outputs": []
    },
    {
      "cell_type": "markdown",
      "source": [
        "## ***SISMICA 2D***"
      ],
      "metadata": {
        "id": "D9xJ5wFqmiCR"
      }
    },
    {
      "cell_type": "code",
      "source": [
        "Sismica = gpd.read_file(\"/content/drive/MyDrive/DATA_ProyectoAG/Datos creados/SISMICA2D.shp\")"
      ],
      "metadata": {
        "id": "erakydqu03i5"
      },
      "execution_count": null,
      "outputs": []
    },
    {
      "cell_type": "code",
      "source": [
        "Sismica.info()"
      ],
      "metadata": {
        "id": "C2ZkksOCWXvh"
      },
      "execution_count": null,
      "outputs": []
    },
    {
      "cell_type": "code",
      "source": [
        "Sismica.head(2)"
      ],
      "metadata": {
        "id": "MrZqh6bzWgr1"
      },
      "execution_count": null,
      "outputs": []
    },
    {
      "cell_type": "code",
      "source": [
        "import matplotlib.pyplot as plt\n",
        "fig, ax = plt.subplots(figsize=(12,10))\n",
        "Sismica.plot(column='FID', ax=ax);"
      ],
      "metadata": {
        "id": "hIP93AgRWrJH"
      },
      "execution_count": null,
      "outputs": []
    },
    {
      "cell_type": "markdown",
      "source": [
        "## ***SISMICA 3D***"
      ],
      "metadata": {
        "id": "VDTVYx16mnTN"
      }
    },
    {
      "cell_type": "code",
      "source": [
        "Cubosismico = gpd.read_file(\"/content/drive/MyDrive/DATA_ProyectoAG/Datos creados/SISMICA3D.shp\")"
      ],
      "metadata": {
        "id": "ojr96Y7S1axK"
      },
      "execution_count": null,
      "outputs": []
    },
    {
      "cell_type": "code",
      "source": [
        "Cubosismico.info()"
      ],
      "metadata": {
        "id": "vERez2BeW2hT"
      },
      "execution_count": null,
      "outputs": []
    },
    {
      "cell_type": "code",
      "source": [
        "Cubosismico.head(2)"
      ],
      "metadata": {
        "id": "5h_rFd-gXEc-"
      },
      "execution_count": null,
      "outputs": []
    },
    {
      "cell_type": "code",
      "source": [
        "import matplotlib.pyplot as plt\n",
        "fig, ax = plt.subplots(figsize=(12,10))\n",
        "Cubosismico.plot(column='FID', ax=ax);"
      ],
      "metadata": {
        "id": "0RNNxKf5XJoU"
      },
      "execution_count": null,
      "outputs": []
    },
    {
      "cell_type": "markdown",
      "source": [],
      "metadata": {
        "id": "5ObRM4GeYnN2"
      }
    },
    {
      "cell_type": "code",
      "source": [],
      "metadata": {
        "id": "6sse6EI7mf4p"
      },
      "execution_count": null,
      "outputs": []
    },
    {
      "cell_type": "markdown",
      "source": [
        "## ***VOLCANES***"
      ],
      "metadata": {
        "id": "ymNWcLvEmr1l"
      }
    },
    {
      "cell_type": "code",
      "source": [
        "VOLCANES= gpd.read_file(\"/content/drive/MyDrive/DATA_ProyectoAG/Datos creados/volcanes.shp\")"
      ],
      "metadata": {
        "id": "bzNKVgiZmzy_"
      },
      "execution_count": null,
      "outputs": []
    },
    {
      "cell_type": "code",
      "source": [
        "VOLCANES.info()"
      ],
      "metadata": {
        "id": "piNb0d3Cm96v"
      },
      "execution_count": null,
      "outputs": []
    },
    {
      "cell_type": "code",
      "source": [
        "VOLCANES.head(2)"
      ],
      "metadata": {
        "id": "n4r5ZLQunDJS"
      },
      "execution_count": null,
      "outputs": []
    },
    {
      "cell_type": "code",
      "source": [
        "import matplotlib.pyplot as plt\n",
        "fig, ax = plt.subplots(figsize=(12,10))\n",
        "VOLCANES.plot(column='geometry', ax=ax);"
      ],
      "metadata": {
        "id": "2h_BZ_lJnJQx"
      },
      "execution_count": null,
      "outputs": []
    },
    {
      "cell_type": "markdown",
      "source": [
        "## **COORDENADAS DEL PROYECTO**"
      ],
      "metadata": {
        "id": "hS9rYLRaqn7m"
      }
    },
    {
      "cell_type": "code",
      "source": [
        "print(Pozos.crs)"
      ],
      "metadata": {
        "id": "Ta9RBkhopabc"
      },
      "execution_count": null,
      "outputs": []
    },
    {
      "cell_type": "code",
      "source": [
        "print(Sismica.crs)"
      ],
      "metadata": {
        "id": "ue8to5rOpcIM"
      },
      "execution_count": null,
      "outputs": []
    },
    {
      "cell_type": "code",
      "source": [
        "print(Cubosismico.crs)"
      ],
      "metadata": {
        "id": "d5scGi5qpfLl"
      },
      "execution_count": null,
      "outputs": []
    },
    {
      "cell_type": "code",
      "source": [
        "print(VOLCANES.crs)"
      ],
      "metadata": {
        "id": "LUMqd3U_poDE"
      },
      "execution_count": null,
      "outputs": []
    },
    {
      "cell_type": "code",
      "source": [
        "print(Ciudades.crs)"
      ],
      "metadata": {
        "id": "4MjfVz7hprce"
      },
      "execution_count": null,
      "outputs": []
    },
    {
      "cell_type": "code",
      "source": [
        "f, axs = plt.subplots(1, 2, figsize=(14, 6))\n",
        "Pozos.plot(ax=axs[0])\n",
        "Sismica.plot(ax=axs[1]);"
      ],
      "metadata": {
        "id": "wea1A9Y-055Q"
      },
      "execution_count": null,
      "outputs": []
    },
    {
      "cell_type": "code",
      "source": [],
      "metadata": {
        "id": "QHZHIpmO1bBy"
      },
      "execution_count": null,
      "outputs": []
    },
    {
      "cell_type": "code",
      "source": [
        "fig, ax = plt.subplots(figsize=(12,10))\n",
        "appending.plot(ax=ax)\n",
        "Pozos.plot(ax=ax, color='red') \n",
        "Sismica.plot(ax=ax, color='white')\n",
        "Cubosismico.plot(ax=ax, color='purple')"
      ],
      "metadata": {
        "id": "Nuu6LRavKqT-"
      },
      "execution_count": null,
      "outputs": []
    }
  ]
}